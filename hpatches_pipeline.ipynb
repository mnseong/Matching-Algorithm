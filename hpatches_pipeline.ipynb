{
 "cells": [
  {
   "cell_type": "code",
   "execution_count": 9,
   "metadata": {
    "collapsed": true
   },
   "outputs": [],
   "source": [
    "import torch\n",
    "import torch.nn as nn\n",
    "\n",
    "import os\n",
    "\n",
    "from pathlib import Path\n",
    "from utils.loader import get_save_path\n",
    "from utils.var_dim import squeezeToNumpy\n",
    "import numpy as np\n",
    "import matplotlib.pyplot as plt\n",
    "from imageio import imread\n",
    "from tensorboardX import SummaryWriter\n",
    "from utils.utils import getWriterPath\n",
    "from datasets.patches_dataset import PatchesDataset\n",
    "from utils.logging import *\n",
    "import yaml"
   ]
  },
  {
   "cell_type": "code",
   "execution_count": 10,
   "outputs": [],
   "source": [
    "hpatches_datasets = PatchesDataset()"
   ],
   "metadata": {
    "collapsed": false
   }
  },
  {
   "cell_type": "code",
   "execution_count": 11,
   "outputs": [
    {
     "data": {
      "text/plain": "<datasets.patches_dataset.PatchesDataset at 0x177c1f340>"
     },
     "execution_count": 11,
     "metadata": {},
     "output_type": "execute_result"
    }
   ],
   "source": [
    "hpatches_datasets"
   ],
   "metadata": {
    "collapsed": false
   }
  },
  {
   "cell_type": "code",
   "execution_count": 12,
   "outputs": [],
   "source": [
    "from utils.loader import dataLoader, modelLoader, pretrainedLoader"
   ],
   "metadata": {
    "collapsed": false
   }
  },
  {
   "cell_type": "code",
   "execution_count": 13,
   "outputs": [],
   "source": [
    "output_dir='/Users/kweonminseong/Documents/git/Matching-Algorithm/outputs/hpatches'\n",
    "with open('/Users/kweonminseong/Documents/git/Matching-Algorithm/config/magicpoint_repeatability_heatmap.yaml') as f:\n",
    "    config = yaml.safe_load(f)"
   ],
   "metadata": {
    "collapsed": false
   }
  },
  {
   "cell_type": "code",
   "execution_count": 16,
   "outputs": [
    {
     "name": "stderr",
     "output_type": "stream",
     "text": [
      "2023-08-14 19:26:26 minseong-MacBookPro.local root[40653] INFO train on device: cpu\n",
      "2023-08-14 19:26:26 minseong-MacBookPro.local root[40653] INFO => will save everything to /Users/kweonminseong/Documents/git/Matching-Algorithm/outputs/hpatches/checkpoints\n",
      "2023-08-14 19:26:26 minseong-MacBookPro.local root[40653] INFO workers_test: 1\n",
      "2023-08-14 19:26:26 minseong-MacBookPro.local root[40653] INFO == test split size 580 in 580 batches\n",
      "2023-08-14 19:26:26 minseong-MacBookPro.local root[40653] INFO => creating model: SuperPointNet_gauss2\n",
      "2023-08-14 19:26:26 minseong-MacBookPro.local root[40653] INFO successfully load pretrained model from: logs/superpoint_coco_heat2_0/checkpoints/superPointNet_170000_checkpoint.pth.tar\n"
     ]
    }
   ],
   "source": [
    "from models.model_wrap import PointTracker\n",
    "\n",
    "# basic settings\n",
    "device = torch.device(\"cuda:0\" if torch.cuda.is_available() else \"cpu\")\n",
    "logging.info(\"train on device: %s\", device)\n",
    "with open(os.path.join(output_dir, \"config.yml\"), \"w\") as f:\n",
    "    yaml.dump(config, f, default_flow_style=False)\n",
    "save_path = get_save_path(output_dir)\n",
    "save_output = save_path / \"../predictions\"\n",
    "os.makedirs(save_output, exist_ok=True)\n",
    "\n",
    "## parameters\n",
    "outputMatches = True\n",
    "subpixel = config[\"model\"][\"subpixel\"][\"enable\"]\n",
    "patch_size = config[\"model\"][\"subpixel\"][\"patch_size\"]\n",
    "\n",
    "# data loading\n",
    "from utils.loader import dataLoader_test as dataLoader\n",
    "task = config[\"data\"][\"dataset\"]\n",
    "data = dataLoader(config, dataset=task)\n",
    "test_set, test_loader = data[\"test_set\"], data[\"test_loader\"]\n",
    "from utils.print_tool import datasize\n",
    "datasize(test_loader, config, tag=\"test\")\n",
    "\n",
    "# model loading\n",
    "from utils.loader import get_module\n",
    "Val_model_heatmap = get_module(\"\", config[\"front_end_model\"])\n",
    "## load pretrained\n",
    "val_agent = Val_model_heatmap(config[\"model\"], device=device)\n",
    "val_agent.loadModel()\n",
    "\n",
    "## tracker\n",
    "tracker = PointTracker(max_length=2, nn_thresh=val_agent.nn_thresh)"
   ],
   "metadata": {
    "collapsed": false
   }
  },
  {
   "cell_type": "code",
   "execution_count": 22,
   "outputs": [
    {
     "name": "stderr",
     "output_type": "stream",
     "text": [
      "0it [00:00, ?it/s]/Users/kweonminseong/.pyenv/versions/matching-algorithm/lib/python3.10/site-packages/torch/functional.py:504: UserWarning: torch.meshgrid: in an upcoming release, it will be required to pass the indexing argument. (Triggered internally at /Users/runner/work/pytorch/pytorch/pytorch/aten/src/ATen/native/TensorShape.cpp:3484.)\n",
      "  return _VF.meshgrid(tensors, **kwargs)  # type: ignore[attr-defined]\n",
      "1it [00:00,  1.72it/s]"
     ]
    },
    {
     "name": "stdout",
     "output_type": "stream",
     "text": [
      "heatmap:  (244, 324)\n",
      "heatmap:  (244, 324)\n",
      "matches:  (256, 4)\n",
      "pts:  (3, 407) , desc:  (256, 407)\n"
     ]
    },
    {
     "name": "stderr",
     "output_type": "stream",
     "text": [
      "2it [00:00,  2.59it/s]"
     ]
    },
    {
     "name": "stdout",
     "output_type": "stream",
     "text": [
      "heatmap:  (244, 324)\n",
      "heatmap:  (244, 324)\n",
      "matches:  (248, 4)\n",
      "pts:  (3, 393) , desc:  (256, 393)\n"
     ]
    },
    {
     "name": "stderr",
     "output_type": "stream",
     "text": [
      "3it [00:01,  3.10it/s]"
     ]
    },
    {
     "name": "stdout",
     "output_type": "stream",
     "text": [
      "heatmap:  (244, 324)\n",
      "heatmap:  (244, 324)\n",
      "matches:  (251, 4)\n",
      "pts:  (3, 383) , desc:  (256, 383)\n"
     ]
    },
    {
     "name": "stderr",
     "output_type": "stream",
     "text": [
      "4it [00:01,  3.28it/s]"
     ]
    },
    {
     "name": "stdout",
     "output_type": "stream",
     "text": [
      "heatmap:  (244, 324)\n",
      "heatmap:  (244, 324)\n",
      "matches:  (180, 4)\n",
      "pts:  (3, 400) , desc:  (256, 400)\n"
     ]
    },
    {
     "name": "stderr",
     "output_type": "stream",
     "text": [
      "5it [00:01,  3.36it/s]"
     ]
    },
    {
     "name": "stdout",
     "output_type": "stream",
     "text": [
      "heatmap:  (244, 324)\n",
      "heatmap:  (244, 324)\n",
      "matches:  (15, 4)\n",
      "pts:  (3, 285) , desc:  (256, 285)\n"
     ]
    },
    {
     "name": "stderr",
     "output_type": "stream",
     "text": [
      "6it [00:01,  3.47it/s]"
     ]
    },
    {
     "name": "stdout",
     "output_type": "stream",
     "text": [
      "heatmap:  (244, 324)\n",
      "heatmap:  (244, 324)\n",
      "matches:  (81, 4)\n",
      "pts:  (3, 379) , desc:  (256, 379)\n"
     ]
    },
    {
     "name": "stderr",
     "output_type": "stream",
     "text": [
      "7it [00:02,  3.61it/s]"
     ]
    },
    {
     "name": "stdout",
     "output_type": "stream",
     "text": [
      "heatmap:  (244, 324)\n",
      "heatmap:  (244, 324)\n",
      "matches:  (210, 4)\n",
      "pts:  (3, 321) , desc:  (256, 321)\n"
     ]
    },
    {
     "name": "stderr",
     "output_type": "stream",
     "text": [
      "8it [00:02,  3.56it/s]"
     ]
    },
    {
     "name": "stdout",
     "output_type": "stream",
     "text": [
      "heatmap:  (244, 324)\n",
      "heatmap:  (244, 324)\n",
      "matches:  (104, 4)\n",
      "pts:  (3, 341) , desc:  (256, 341)\n"
     ]
    },
    {
     "name": "stderr",
     "output_type": "stream",
     "text": [
      "9it [00:02,  3.65it/s]"
     ]
    },
    {
     "name": "stdout",
     "output_type": "stream",
     "text": [
      "heatmap:  (244, 324)\n",
      "heatmap:  (244, 324)\n",
      "matches:  (83, 4)\n",
      "pts:  (3, 338) , desc:  (256, 338)\n"
     ]
    },
    {
     "name": "stderr",
     "output_type": "stream",
     "text": [
      "10it [00:02,  3.60it/s]"
     ]
    },
    {
     "name": "stdout",
     "output_type": "stream",
     "text": [
      "heatmap:  (244, 324)\n",
      "heatmap:  (244, 324)\n",
      "matches:  (127, 4)\n",
      "pts:  (3, 341) , desc:  (256, 341)\n",
      "heatmap:  (244, 324)\n",
      "heatmap:  (244, 324)\n",
      "matches:  (44, 4)\n",
      "pts:  (3, 427) , desc:  (256, 427)\n"
     ]
    },
    {
     "name": "stderr",
     "output_type": "stream",
     "text": [
      "12it [00:03,  3.32it/s]"
     ]
    },
    {
     "name": "stdout",
     "output_type": "stream",
     "text": [
      "heatmap:  (244, 324)\n",
      "heatmap:  (244, 324)\n",
      "matches:  (201, 4)\n",
      "pts:  (3, 478) , desc:  (256, 478)\n",
      "heatmap:  (244, 324)\n",
      "heatmap:  (244, 324)\n",
      "matches:  (22, 4)\n",
      "pts:  (3, 408) , desc:  (256, 408)\n"
     ]
    },
    {
     "name": "stderr",
     "output_type": "stream",
     "text": [
      "14it [00:04,  3.19it/s]"
     ]
    },
    {
     "name": "stdout",
     "output_type": "stream",
     "text": [
      "heatmap:  (244, 324)\n",
      "heatmap:  (244, 324)\n",
      "matches:  (156, 4)\n",
      "pts:  (3, 470) , desc:  (256, 470)\n"
     ]
    },
    {
     "name": "stderr",
     "output_type": "stream",
     "text": [
      "15it [00:04,  3.35it/s]"
     ]
    },
    {
     "name": "stdout",
     "output_type": "stream",
     "text": [
      "heatmap:  (244, 324)\n",
      "heatmap:  (244, 324)\n",
      "matches:  (62, 4)\n",
      "pts:  (3, 432) , desc:  (256, 432)\n",
      "heatmap:  (244, 324)\n",
      "heatmap:  (244, 324)\n",
      "matches:  (345, 4)\n",
      "pts:  (3, 525) , desc:  (256, 525)\n"
     ]
    },
    {
     "name": "stderr",
     "output_type": "stream",
     "text": [
      "17it [00:05,  3.27it/s]"
     ]
    },
    {
     "name": "stdout",
     "output_type": "stream",
     "text": [
      "heatmap:  (244, 324)\n",
      "heatmap:  (244, 324)\n",
      "matches:  (79, 4)\n",
      "pts:  (3, 453) , desc:  (256, 453)\n"
     ]
    },
    {
     "name": "stderr",
     "output_type": "stream",
     "text": [
      "18it [00:05,  3.09it/s]"
     ]
    },
    {
     "name": "stdout",
     "output_type": "stream",
     "text": [
      "heatmap:  (244, 324)\n",
      "heatmap:  (244, 324)\n",
      "matches:  (266, 4)\n",
      "pts:  (3, 507) , desc:  (256, 507)\n"
     ]
    },
    {
     "name": "stderr",
     "output_type": "stream",
     "text": [
      "19it [00:05,  3.21it/s]"
     ]
    },
    {
     "name": "stdout",
     "output_type": "stream",
     "text": [
      "heatmap:  (244, 324)\n",
      "heatmap:  (244, 324)\n",
      "matches:  (93, 4)\n",
      "pts:  (3, 480) , desc:  (256, 480)\n"
     ]
    },
    {
     "name": "stderr",
     "output_type": "stream",
     "text": [
      "20it [00:06,  3.25it/s]"
     ]
    },
    {
     "name": "stdout",
     "output_type": "stream",
     "text": [
      "heatmap:  (244, 324)\n",
      "heatmap:  (244, 324)\n",
      "matches:  (62, 4)\n",
      "pts:  (3, 468) , desc:  (256, 468)\n"
     ]
    },
    {
     "name": "stderr",
     "output_type": "stream",
     "text": [
      "21it [00:06,  3.27it/s]"
     ]
    },
    {
     "name": "stdout",
     "output_type": "stream",
     "text": [
      "heatmap:  (244, 324)\n",
      "heatmap:  (244, 324)\n",
      "matches:  (262, 4)\n",
      "pts:  (3, 434) , desc:  (256, 434)\n",
      "heatmap:  (244, 324)\n",
      "heatmap:  (244, 324)\n",
      "matches:  (167, 4)\n",
      "pts:  (3, 429) , desc:  (256, 429)\n"
     ]
    },
    {
     "name": "stderr",
     "output_type": "stream",
     "text": [
      "23it [00:07,  3.28it/s]"
     ]
    },
    {
     "name": "stdout",
     "output_type": "stream",
     "text": [
      "heatmap:  (244, 324)\n",
      "heatmap:  (244, 324)\n",
      "matches:  (260, 4)\n",
      "pts:  (3, 448) , desc:  (256, 448)\n"
     ]
    },
    {
     "name": "stderr",
     "output_type": "stream",
     "text": [
      "24it [00:07,  3.24it/s]"
     ]
    },
    {
     "name": "stdout",
     "output_type": "stream",
     "text": [
      "heatmap:  (244, 324)\n",
      "heatmap:  (244, 324)\n",
      "matches:  (279, 4)\n",
      "pts:  (3, 436) , desc:  (256, 436)\n"
     ]
    },
    {
     "name": "stderr",
     "output_type": "stream",
     "text": [
      "25it [00:07,  3.35it/s]"
     ]
    },
    {
     "name": "stdout",
     "output_type": "stream",
     "text": [
      "heatmap:  (244, 324)\n",
      "heatmap:  (244, 324)\n",
      "matches:  (231, 4)\n",
      "pts:  (3, 412) , desc:  (256, 412)\n"
     ]
    },
    {
     "name": "stderr",
     "output_type": "stream",
     "text": [
      "26it [00:07,  3.36it/s]"
     ]
    },
    {
     "name": "stdout",
     "output_type": "stream",
     "text": [
      "heatmap:  (244, 324)\n",
      "heatmap:  (244, 324)\n",
      "matches:  (328, 4)\n",
      "pts:  (3, 454) , desc:  (256, 454)\n",
      "heatmap:  (244, 324)\n",
      "heatmap:  (244, 324)\n",
      "matches:  (341, 4)\n",
      "pts:  (3, 424) , desc:  (256, 424)\n"
     ]
    },
    {
     "name": "stderr",
     "output_type": "stream",
     "text": [
      "28it [00:08,  3.25it/s]"
     ]
    },
    {
     "name": "stdout",
     "output_type": "stream",
     "text": [
      "heatmap:  (244, 324)\n",
      "heatmap:  (244, 324)\n",
      "matches:  (315, 4)\n",
      "pts:  (3, 458) , desc:  (256, 458)\n",
      "heatmap:  (244, 324)\n",
      "heatmap:  (244, 324)\n",
      "matches:  (205, 4)\n",
      "pts:  (3, 442) , desc:  (256, 442)\n"
     ]
    },
    {
     "name": "stderr",
     "output_type": "stream",
     "text": [
      "29it [00:08,  3.03it/s]"
     ]
    },
    {
     "name": "stdout",
     "output_type": "stream",
     "text": [
      "heatmap:  (244, 324)\n",
      "heatmap:  (244, 324)\n",
      "matches:  (155, 4)\n",
      "pts:  (3, 400) , desc:  (256, 400)\n"
     ]
    },
    {
     "name": "stderr",
     "output_type": "stream",
     "text": [
      "31it [00:09,  3.14it/s]"
     ]
    },
    {
     "name": "stdout",
     "output_type": "stream",
     "text": [
      "heatmap:  (244, 324)\n",
      "heatmap:  (244, 324)\n",
      "matches:  (70, 4)\n",
      "pts:  (3, 440) , desc:  (256, 440)\n"
     ]
    },
    {
     "name": "stderr",
     "output_type": "stream",
     "text": [
      "32it [00:09,  3.21it/s]"
     ]
    },
    {
     "name": "stdout",
     "output_type": "stream",
     "text": [
      "heatmap:  (244, 324)\n",
      "heatmap:  (244, 324)\n",
      "matches:  (96, 4)\n",
      "pts:  (3, 426) , desc:  (256, 426)\n"
     ]
    },
    {
     "name": "stderr",
     "output_type": "stream",
     "text": [
      "33it [00:10,  3.30it/s]"
     ]
    },
    {
     "name": "stdout",
     "output_type": "stream",
     "text": [
      "heatmap:  (244, 324)\n",
      "heatmap:  (244, 324)\n",
      "matches:  (33, 4)\n",
      "pts:  (3, 428) , desc:  (256, 428)\n",
      "heatmap:  (244, 324)\n",
      "heatmap:  (244, 324)\n",
      "matches:  (28, 4)\n",
      "pts:  (3, 447) , desc:  (256, 447)\n"
     ]
    },
    {
     "name": "stderr",
     "output_type": "stream",
     "text": [
      "35it [00:10,  3.29it/s]"
     ]
    },
    {
     "name": "stdout",
     "output_type": "stream",
     "text": [
      "heatmap:  (244, 324)\n",
      "heatmap:  (244, 324)\n",
      "matches:  (5, 4)\n",
      "pts:  (3, 411) , desc:  (256, 411)\n"
     ]
    },
    {
     "name": "stderr",
     "output_type": "stream",
     "text": [
      "36it [00:11,  3.39it/s]"
     ]
    },
    {
     "name": "stdout",
     "output_type": "stream",
     "text": [
      "heatmap:  (244, 324)\n",
      "heatmap:  (244, 324)\n",
      "matches:  (261, 4)\n",
      "pts:  (3, 402) , desc:  (256, 402)\n"
     ]
    },
    {
     "name": "stderr",
     "output_type": "stream",
     "text": [
      "37it [00:11,  3.39it/s]"
     ]
    },
    {
     "name": "stdout",
     "output_type": "stream",
     "text": [
      "heatmap:  (244, 324)\n",
      "heatmap:  (244, 324)\n",
      "matches:  (133, 4)\n",
      "pts:  (3, 357) , desc:  (256, 357)\n"
     ]
    },
    {
     "name": "stderr",
     "output_type": "stream",
     "text": [
      "38it [00:11,  3.37it/s]"
     ]
    },
    {
     "name": "stdout",
     "output_type": "stream",
     "text": [
      "heatmap:  (244, 324)\n",
      "heatmap:  (244, 324)\n",
      "matches:  (59, 4)\n",
      "pts:  (3, 325) , desc:  (256, 325)\n"
     ]
    },
    {
     "name": "stderr",
     "output_type": "stream",
     "text": [
      "39it [00:11,  3.48it/s]"
     ]
    },
    {
     "name": "stdout",
     "output_type": "stream",
     "text": [
      "heatmap:  (244, 324)\n",
      "heatmap:  (244, 324)\n",
      "matches:  (16, 4)\n",
      "pts:  (3, 330) , desc:  (256, 330)\n"
     ]
    },
    {
     "name": "stderr",
     "output_type": "stream",
     "text": [
      "40it [00:12,  3.44it/s]"
     ]
    },
    {
     "name": "stdout",
     "output_type": "stream",
     "text": [
      "heatmap:  (244, 324)\n",
      "heatmap:  (244, 324)\n",
      "matches:  (10, 4)\n",
      "pts:  (3, 372) , desc:  (256, 372)\n"
     ]
    },
    {
     "name": "stderr",
     "output_type": "stream",
     "text": [
      "41it [00:12,  3.43it/s]"
     ]
    },
    {
     "name": "stdout",
     "output_type": "stream",
     "text": [
      "heatmap:  (244, 324)\n",
      "heatmap:  (244, 324)\n",
      "matches:  (280, 4)\n",
      "pts:  (3, 499) , desc:  (256, 499)\n",
      "heatmap:  (244, 324)\n",
      "heatmap:  (244, 324)\n",
      "matches:  (176, 4)\n",
      "pts:  (3, 468) , desc:  (256, 468)\n"
     ]
    },
    {
     "name": "stderr",
     "output_type": "stream",
     "text": [
      "43it [00:13,  3.12it/s]"
     ]
    },
    {
     "name": "stdout",
     "output_type": "stream",
     "text": [
      "heatmap:  (244, 324)\n",
      "heatmap:  (244, 324)\n",
      "matches:  (264, 4)\n",
      "pts:  (3, 495) , desc:  (256, 495)\n",
      "heatmap:  (244, 324)\n",
      "heatmap:  (244, 324)\n",
      "matches:  (117, 4)\n",
      "pts:  (3, 518) , desc:  (256, 518)\n"
     ]
    },
    {
     "name": "stderr",
     "output_type": "stream",
     "text": [
      "45it [00:13,  2.99it/s]"
     ]
    },
    {
     "name": "stdout",
     "output_type": "stream",
     "text": [
      "heatmap:  (244, 324)\n",
      "heatmap:  (244, 324)\n",
      "matches:  (33, 4)\n",
      "pts:  (3, 405) , desc:  (256, 405)\n",
      "heatmap:  (244, 324)\n",
      "heatmap:  (244, 324)\n",
      "matches:  (222, 4)\n",
      "pts:  (3, 374) , desc:  (256, 374)\n"
     ]
    },
    {
     "name": "stderr",
     "output_type": "stream",
     "text": [
      "47it [00:14,  2.92it/s]"
     ]
    },
    {
     "name": "stdout",
     "output_type": "stream",
     "text": [
      "heatmap:  (244, 324)\n",
      "heatmap:  (244, 324)\n",
      "matches:  (112, 4)\n",
      "pts:  (3, 343) , desc:  (256, 343)\n"
     ]
    },
    {
     "name": "stderr",
     "output_type": "stream",
     "text": [
      "48it [00:15,  3.00it/s]"
     ]
    },
    {
     "name": "stdout",
     "output_type": "stream",
     "text": [
      "heatmap:  (244, 324)\n",
      "heatmap:  (244, 324)\n",
      "matches:  (125, 4)\n",
      "pts:  (3, 371) , desc:  (256, 371)\n"
     ]
    },
    {
     "name": "stderr",
     "output_type": "stream",
     "text": [
      "49it [00:15,  3.15it/s]"
     ]
    },
    {
     "name": "stdout",
     "output_type": "stream",
     "text": [
      "heatmap:  (244, 324)\n",
      "heatmap:  (244, 324)\n",
      "matches:  (67, 4)\n",
      "pts:  (3, 337) , desc:  (256, 337)\n"
     ]
    },
    {
     "name": "stderr",
     "output_type": "stream",
     "text": [
      "50it [00:15,  3.35it/s]"
     ]
    },
    {
     "name": "stdout",
     "output_type": "stream",
     "text": [
      "heatmap:  (244, 324)\n",
      "heatmap:  (244, 324)\n",
      "matches:  (62, 4)\n",
      "pts:  (3, 322) , desc:  (256, 322)\n"
     ]
    },
    {
     "name": "stderr",
     "output_type": "stream",
     "text": [
      "51it [00:15,  3.40it/s]"
     ]
    },
    {
     "name": "stdout",
     "output_type": "stream",
     "text": [
      "heatmap:  (244, 324)\n",
      "heatmap:  (244, 324)\n",
      "matches:  (194, 4)\n",
      "pts:  (3, 337) , desc:  (256, 337)\n"
     ]
    },
    {
     "name": "stderr",
     "output_type": "stream",
     "text": [
      "52it [00:16,  3.52it/s]"
     ]
    },
    {
     "name": "stdout",
     "output_type": "stream",
     "text": [
      "heatmap:  (244, 324)\n",
      "heatmap:  (244, 324)\n",
      "matches:  (159, 4)\n",
      "pts:  (3, 355) , desc:  (256, 355)\n",
      "heatmap:  (244, 324)\n",
      "heatmap:  (244, 324)\n",
      "matches:  (113, 4)\n",
      "pts:  (3, 359) , desc:  (256, 359)\n"
     ]
    },
    {
     "name": "stderr",
     "output_type": "stream",
     "text": [
      "54it [00:16,  3.16it/s]"
     ]
    },
    {
     "name": "stdout",
     "output_type": "stream",
     "text": [
      "heatmap:  (244, 324)\n",
      "heatmap:  (244, 324)\n",
      "matches:  (188, 4)\n",
      "pts:  (3, 350) , desc:  (256, 350)\n"
     ]
    },
    {
     "name": "stderr",
     "output_type": "stream",
     "text": [
      "55it [00:17,  3.01it/s]"
     ]
    },
    {
     "name": "stdout",
     "output_type": "stream",
     "text": [
      "heatmap:  (244, 324)\n",
      "heatmap:  (244, 324)\n",
      "matches:  (130, 4)\n",
      "pts:  (3, 326) , desc:  (256, 326)\n",
      "heatmap:  (244, 324)\n",
      "heatmap:  (244, 324)\n",
      "matches:  (98, 4)\n",
      "pts:  (3, 360) , desc:  (256, 360)\n"
     ]
    },
    {
     "name": "stderr",
     "output_type": "stream",
     "text": [
      "57it [00:17,  2.98it/s]"
     ]
    },
    {
     "name": "stdout",
     "output_type": "stream",
     "text": [
      "heatmap:  (244, 324)\n",
      "heatmap:  (244, 324)\n",
      "matches:  (81, 4)\n",
      "pts:  (3, 387) , desc:  (256, 387)\n",
      "heatmap:  (244, 324)\n",
      "heatmap:  (244, 324)\n",
      "matches:  (112, 4)\n",
      "pts:  (3, 407) , desc:  (256, 407)\n"
     ]
    },
    {
     "name": "stderr",
     "output_type": "stream",
     "text": [
      "58it [00:18,  2.77it/s]"
     ]
    },
    {
     "name": "stdout",
     "output_type": "stream",
     "text": [
      "heatmap:  (244, 324)\n",
      "heatmap:  (244, 324)\n",
      "matches:  (86, 4)\n",
      "pts:  (3, 366) , desc:  (256, 366)\n"
     ]
    },
    {
     "name": "stderr",
     "output_type": "stream",
     "text": [
      "59it [00:18,  2.64it/s]"
     ]
    },
    {
     "name": "stdout",
     "output_type": "stream",
     "text": [
      "heatmap:  (244, 324)\n",
      "heatmap:  (244, 324)\n",
      "matches:  (87, 4)\n",
      "pts:  (3, 316) , desc:  (256, 316)\n"
     ]
    },
    {
     "name": "stderr",
     "output_type": "stream",
     "text": [
      "61it [00:19,  2.78it/s]"
     ]
    },
    {
     "name": "stdout",
     "output_type": "stream",
     "text": [
      "heatmap:  (244, 324)\n",
      "heatmap:  (244, 324)\n",
      "matches:  (234, 4)\n",
      "pts:  (3, 375) , desc:  (256, 375)\n",
      "heatmap:  (244, 324)\n",
      "heatmap:  (244, 324)\n",
      "matches:  (186, 4)\n",
      "pts:  (3, 380) , desc:  (256, 380)\n"
     ]
    },
    {
     "name": "stderr",
     "output_type": "stream",
     "text": [
      "63it [00:20,  2.78it/s]"
     ]
    },
    {
     "name": "stdout",
     "output_type": "stream",
     "text": [
      "heatmap:  (244, 324)\n",
      "heatmap:  (244, 324)\n",
      "matches:  (121, 4)\n",
      "pts:  (3, 384) , desc:  (256, 384)\n"
     ]
    },
    {
     "name": "stderr",
     "output_type": "stream",
     "text": [
      "64it [00:20,  2.76it/s]"
     ]
    },
    {
     "name": "stdout",
     "output_type": "stream",
     "text": [
      "heatmap:  (244, 324)\n",
      "heatmap:  (244, 324)\n",
      "matches:  (198, 4)\n",
      "pts:  (3, 396) , desc:  (256, 396)\n"
     ]
    },
    {
     "name": "stderr",
     "output_type": "stream",
     "text": [
      "65it [00:20,  2.78it/s]"
     ]
    },
    {
     "name": "stdout",
     "output_type": "stream",
     "text": [
      "heatmap:  (244, 324)\n",
      "heatmap:  (244, 324)\n",
      "matches:  (155, 4)\n",
      "pts:  (3, 383) , desc:  (256, 383)\n",
      "heatmap:  (244, 324)\n",
      "heatmap:  (244, 324)\n",
      "matches:  (303, 4)\n",
      "pts:  (3, 383) , desc:  (256, 383)\n"
     ]
    },
    {
     "name": "stderr",
     "output_type": "stream",
     "text": [
      "67it [00:21,  2.85it/s]"
     ]
    },
    {
     "name": "stdout",
     "output_type": "stream",
     "text": [
      "heatmap:  (244, 324)\n",
      "heatmap:  (244, 324)\n",
      "matches:  (266, 4)\n",
      "pts:  (3, 384) , desc:  (256, 384)\n"
     ]
    },
    {
     "name": "stderr",
     "output_type": "stream",
     "text": [
      "68it [00:21,  3.01it/s]"
     ]
    },
    {
     "name": "stdout",
     "output_type": "stream",
     "text": [
      "heatmap:  (244, 324)\n",
      "heatmap:  (244, 324)\n",
      "matches:  (222, 4)\n",
      "pts:  (3, 364) , desc:  (256, 364)\n"
     ]
    },
    {
     "name": "stderr",
     "output_type": "stream",
     "text": [
      "69it [00:22,  3.08it/s]"
     ]
    },
    {
     "name": "stdout",
     "output_type": "stream",
     "text": [
      "heatmap:  (244, 324)\n",
      "heatmap:  (244, 324)\n",
      "matches:  (196, 4)\n",
      "pts:  (3, 354) , desc:  (256, 354)\n"
     ]
    },
    {
     "name": "stderr",
     "output_type": "stream",
     "text": [
      "70it [00:22,  3.16it/s]"
     ]
    },
    {
     "name": "stdout",
     "output_type": "stream",
     "text": [
      "heatmap:  (244, 324)\n",
      "heatmap:  (244, 324)\n",
      "matches:  (167, 4)\n",
      "pts:  (3, 369) , desc:  (256, 369)\n"
     ]
    },
    {
     "name": "stderr",
     "output_type": "stream",
     "text": [
      "71it [00:22,  3.20it/s]"
     ]
    },
    {
     "name": "stdout",
     "output_type": "stream",
     "text": [
      "heatmap:  (244, 324)\n",
      "heatmap:  (244, 324)\n",
      "matches:  (167, 4)\n",
      "pts:  (3, 387) , desc:  (256, 387)\n",
      "heatmap:  (244, 324)\n",
      "heatmap:  (244, 324)\n",
      "matches:  (8, 4)\n",
      "pts:  (3, 445) , desc:  (256, 445)\n"
     ]
    },
    {
     "name": "stderr",
     "output_type": "stream",
     "text": [
      "72it [00:23,  2.91it/s]"
     ]
    },
    {
     "name": "stdout",
     "output_type": "stream",
     "text": [
      "heatmap:  (244, 324)\n",
      "heatmap:  (244, 324)\n",
      "matches:  (7, 4)\n",
      "pts:  (3, 409) , desc:  (256, 409)\n"
     ]
    },
    {
     "name": "stderr",
     "output_type": "stream",
     "text": [
      "73it [00:23,  2.97it/s]"
     ]
    },
    {
     "name": "stdout",
     "output_type": "stream",
     "text": [
      "heatmap:  (244, 324)\n",
      "heatmap:  (244, 324)\n",
      "matches:  (5, 4)\n",
      "pts:  (3, 451) , desc:  (256, 451)\n"
     ]
    },
    {
     "name": "stderr",
     "output_type": "stream",
     "text": [
      "75it [00:24,  2.94it/s]"
     ]
    },
    {
     "name": "stdout",
     "output_type": "stream",
     "text": [
      "heatmap:  (244, 324)\n",
      "heatmap:  (244, 324)\n",
      "matches:  (3, 4)\n",
      "pts:  (3, 461) , desc:  (256, 461)\n"
     ]
    },
    {
     "name": "stderr",
     "output_type": "stream",
     "text": [
      "76it [00:24,  2.99it/s]"
     ]
    },
    {
     "name": "stdout",
     "output_type": "stream",
     "text": [
      "heatmap:  (244, 324)\n",
      "heatmap:  (244, 324)\n",
      "matches:  (398, 4)\n",
      "pts:  (3, 441) , desc:  (256, 441)\n"
     ]
    },
    {
     "name": "stderr",
     "output_type": "stream",
     "text": [
      "77it [00:24,  3.09it/s]"
     ]
    },
    {
     "name": "stdout",
     "output_type": "stream",
     "text": [
      "heatmap:  (244, 324)\n",
      "heatmap:  (244, 324)\n",
      "matches:  (370, 4)\n",
      "pts:  (3, 453) , desc:  (256, 453)\n"
     ]
    },
    {
     "name": "stderr",
     "output_type": "stream",
     "text": [
      "78it [00:25,  3.15it/s]"
     ]
    },
    {
     "name": "stdout",
     "output_type": "stream",
     "text": [
      "heatmap:  (244, 324)\n",
      "heatmap:  (244, 324)\n",
      "matches:  (267, 4)\n",
      "pts:  (3, 452) , desc:  (256, 452)\n"
     ]
    },
    {
     "name": "stderr",
     "output_type": "stream",
     "text": [
      "79it [00:25,  3.18it/s]"
     ]
    },
    {
     "name": "stdout",
     "output_type": "stream",
     "text": [
      "heatmap:  (244, 324)\n",
      "heatmap:  (244, 324)\n",
      "matches:  (91, 4)\n",
      "pts:  (3, 465) , desc:  (256, 465)\n",
      "heatmap:  (244, 324)\n",
      "heatmap:  (244, 324)\n",
      "matches:  (54, 4)\n",
      "pts:  (3, 465) , desc:  (256, 465)\n"
     ]
    },
    {
     "name": "stderr",
     "output_type": "stream",
     "text": [
      "81it [00:26,  3.27it/s]"
     ]
    },
    {
     "name": "stdout",
     "output_type": "stream",
     "text": [
      "heatmap:  (244, 324)\n",
      "heatmap:  (244, 324)\n",
      "matches:  (354, 4)\n",
      "pts:  (3, 448) , desc:  (256, 448)\n"
     ]
    },
    {
     "name": "stderr",
     "output_type": "stream",
     "text": [
      "82it [00:26,  3.33it/s]"
     ]
    },
    {
     "name": "stdout",
     "output_type": "stream",
     "text": [
      "heatmap:  (244, 324)\n",
      "heatmap:  (244, 324)\n",
      "matches:  (240, 4)\n",
      "pts:  (3, 440) , desc:  (256, 440)\n"
     ]
    },
    {
     "name": "stderr",
     "output_type": "stream",
     "text": [
      "83it [00:26,  3.39it/s]"
     ]
    },
    {
     "name": "stdout",
     "output_type": "stream",
     "text": [
      "heatmap:  (244, 324)\n",
      "heatmap:  (244, 324)\n",
      "matches:  (111, 4)\n",
      "pts:  (3, 403) , desc:  (256, 403)\n"
     ]
    },
    {
     "name": "stderr",
     "output_type": "stream",
     "text": [
      "84it [00:26,  3.46it/s]"
     ]
    },
    {
     "name": "stdout",
     "output_type": "stream",
     "text": [
      "heatmap:  (244, 324)\n",
      "heatmap:  (244, 324)\n",
      "matches:  (85, 4)\n",
      "pts:  (3, 371) , desc:  (256, 371)\n"
     ]
    },
    {
     "name": "stderr",
     "output_type": "stream",
     "text": [
      "85it [00:27,  3.46it/s]"
     ]
    },
    {
     "name": "stdout",
     "output_type": "stream",
     "text": [
      "heatmap:  (244, 324)\n",
      "heatmap:  (244, 324)\n",
      "matches:  (96, 4)\n",
      "pts:  (3, 375) , desc:  (256, 375)\n"
     ]
    },
    {
     "name": "stderr",
     "output_type": "stream",
     "text": [
      "86it [00:27,  3.44it/s]"
     ]
    },
    {
     "name": "stdout",
     "output_type": "stream",
     "text": [
      "heatmap:  (244, 324)\n",
      "heatmap:  (244, 324)\n",
      "matches:  (320, 4)\n",
      "pts:  (3, 469) , desc:  (256, 469)\n"
     ]
    },
    {
     "name": "stderr",
     "output_type": "stream",
     "text": [
      "87it [00:27,  3.44it/s]"
     ]
    },
    {
     "name": "stdout",
     "output_type": "stream",
     "text": [
      "heatmap:  (244, 324)\n",
      "heatmap:  (244, 324)\n",
      "matches:  (223, 4)\n",
      "pts:  (3, 457) , desc:  (256, 457)\n"
     ]
    },
    {
     "name": "stderr",
     "output_type": "stream",
     "text": [
      "88it [00:28,  3.42it/s]"
     ]
    },
    {
     "name": "stdout",
     "output_type": "stream",
     "text": [
      "heatmap:  (244, 324)\n",
      "heatmap:  (244, 324)\n",
      "matches:  (326, 4)\n",
      "pts:  (3, 458) , desc:  (256, 458)\n"
     ]
    },
    {
     "name": "stderr",
     "output_type": "stream",
     "text": [
      "89it [00:28,  3.47it/s]"
     ]
    },
    {
     "name": "stdout",
     "output_type": "stream",
     "text": [
      "heatmap:  (244, 324)\n",
      "heatmap:  (244, 324)\n",
      "matches:  (207, 4)\n",
      "pts:  (3, 448) , desc:  (256, 448)\n",
      "heatmap:  (244, 324)\n",
      "heatmap:  (244, 324)\n"
     ]
    },
    {
     "name": "stderr",
     "output_type": "stream",
     "text": [
      "90it [00:28,  3.05it/s]"
     ]
    },
    {
     "name": "stdout",
     "output_type": "stream",
     "text": [
      "matches:  (163, 4)\n",
      "pts:  (3, 450) , desc:  (256, 450)\n",
      "heatmap:  (244, 324)\n"
     ]
    },
    {
     "name": "stderr",
     "output_type": "stream",
     "text": [
      "91it [00:29,  3.25it/s]"
     ]
    },
    {
     "name": "stdout",
     "output_type": "stream",
     "text": [
      "heatmap:  (244, 324)\n",
      "matches:  (113, 4)\n",
      "pts:  (3, 226) , desc:  (256, 226)\n"
     ]
    },
    {
     "name": "stderr",
     "output_type": "stream",
     "text": [
      "92it [00:29,  3.25it/s]"
     ]
    },
    {
     "name": "stdout",
     "output_type": "stream",
     "text": [
      "heatmap:  (244, 324)\n",
      "heatmap:  (244, 324)\n",
      "matches:  (82, 4)\n",
      "pts:  (3, 279) , desc:  (256, 279)\n"
     ]
    },
    {
     "name": "stderr",
     "output_type": "stream",
     "text": [
      "93it [00:29,  3.33it/s]"
     ]
    },
    {
     "name": "stdout",
     "output_type": "stream",
     "text": [
      "heatmap:  (244, 324)\n",
      "heatmap:  (244, 324)\n",
      "matches:  (27, 4)\n",
      "pts:  (3, 218) , desc:  (256, 218)\n"
     ]
    },
    {
     "name": "stderr",
     "output_type": "stream",
     "text": [
      "94it [00:29,  3.41it/s]"
     ]
    },
    {
     "name": "stdout",
     "output_type": "stream",
     "text": [
      "heatmap:  (244, 324)\n",
      "heatmap:  (244, 324)\n",
      "matches:  (104, 4)\n",
      "pts:  (3, 268) , desc:  (256, 268)\n"
     ]
    },
    {
     "name": "stderr",
     "output_type": "stream",
     "text": [
      "95it [00:30,  3.51it/s]"
     ]
    },
    {
     "name": "stdout",
     "output_type": "stream",
     "text": [
      "heatmap:  (244, 324)\n",
      "heatmap:  (244, 324)\n",
      "matches:  (43, 4)\n",
      "pts:  (3, 247) , desc:  (256, 247)\n"
     ]
    },
    {
     "name": "stderr",
     "output_type": "stream",
     "text": [
      "96it [00:30,  3.56it/s]"
     ]
    },
    {
     "name": "stdout",
     "output_type": "stream",
     "text": [
      "heatmap:  (244, 324)\n",
      "heatmap:  (244, 324)\n",
      "matches:  (142, 4)\n",
      "pts:  (3, 232) , desc:  (256, 232)\n"
     ]
    },
    {
     "name": "stderr",
     "output_type": "stream",
     "text": [
      "97it [00:30,  3.56it/s]"
     ]
    },
    {
     "name": "stdout",
     "output_type": "stream",
     "text": [
      "heatmap:  (244, 324)\n",
      "heatmap:  (244, 324)\n",
      "matches:  (124, 4)\n",
      "pts:  (3, 281) , desc:  (256, 281)\n"
     ]
    },
    {
     "name": "stderr",
     "output_type": "stream",
     "text": [
      "98it [00:31,  3.62it/s]"
     ]
    },
    {
     "name": "stdout",
     "output_type": "stream",
     "text": [
      "heatmap:  (244, 324)\n",
      "heatmap:  (244, 324)\n",
      "matches:  (46, 4)\n",
      "pts:  (3, 251) , desc:  (256, 251)\n"
     ]
    },
    {
     "name": "stderr",
     "output_type": "stream",
     "text": [
      "99it [00:31,  3.73it/s]"
     ]
    },
    {
     "name": "stdout",
     "output_type": "stream",
     "text": [
      "heatmap:  (244, 324)\n",
      "heatmap:  (244, 324)\n",
      "matches:  (30, 4)\n",
      "pts:  (3, 234) , desc:  (256, 234)\n"
     ]
    },
    {
     "name": "stderr",
     "output_type": "stream",
     "text": [
      "100it [00:31,  3.80it/s]"
     ]
    },
    {
     "name": "stdout",
     "output_type": "stream",
     "text": [
      "heatmap:  (244, 324)\n",
      "heatmap:  (244, 324)\n",
      "matches:  (21, 4)\n",
      "pts:  (3, 256) , desc:  (256, 256)\n"
     ]
    },
    {
     "name": "stderr",
     "output_type": "stream",
     "text": [
      "101it [00:31,  3.73it/s]"
     ]
    },
    {
     "name": "stdout",
     "output_type": "stream",
     "text": [
      "heatmap:  (244, 324)\n",
      "heatmap:  (244, 324)\n",
      "matches:  (224, 4)\n",
      "pts:  (3, 356) , desc:  (256, 356)\n"
     ]
    },
    {
     "name": "stderr",
     "output_type": "stream",
     "text": [
      "102it [00:32,  3.59it/s]"
     ]
    },
    {
     "name": "stdout",
     "output_type": "stream",
     "text": [
      "heatmap:  (244, 324)\n",
      "heatmap:  (244, 324)\n",
      "matches:  (142, 4)\n",
      "pts:  (3, 321) , desc:  (256, 321)\n"
     ]
    },
    {
     "name": "stderr",
     "output_type": "stream",
     "text": [
      "103it [00:32,  3.56it/s]"
     ]
    },
    {
     "name": "stdout",
     "output_type": "stream",
     "text": [
      "heatmap:  (244, 324)\n",
      "heatmap:  (244, 324)\n",
      "matches:  (104, 4)\n",
      "pts:  (3, 315) , desc:  (256, 315)\n",
      "heatmap:  (244, 324)\n",
      "heatmap:  (244, 324)\n",
      "matches:  (67, 4)\n",
      "pts:  (3, 375) , desc:  (256, 375)\n"
     ]
    },
    {
     "name": "stderr",
     "output_type": "stream",
     "text": [
      "105it [00:32,  3.42it/s]"
     ]
    },
    {
     "name": "stdout",
     "output_type": "stream",
     "text": [
      "heatmap:  (244, 324)\n",
      "heatmap:  (244, 324)\n",
      "matches:  (25, 4)\n",
      "pts:  (3, 394) , desc:  (256, 394)\n"
     ]
    },
    {
     "name": "stderr",
     "output_type": "stream",
     "text": [
      "106it [00:33,  3.50it/s]"
     ]
    },
    {
     "name": "stdout",
     "output_type": "stream",
     "text": [
      "heatmap:  (244, 324)\n",
      "heatmap:  (244, 324)\n",
      "matches:  (223, 4)\n",
      "pts:  (3, 336) , desc:  (256, 336)\n"
     ]
    },
    {
     "name": "stderr",
     "output_type": "stream",
     "text": [
      "107it [00:33,  3.33it/s]"
     ]
    },
    {
     "name": "stdout",
     "output_type": "stream",
     "text": [
      "heatmap:  (244, 324)\n",
      "heatmap:  (244, 324)\n",
      "matches:  (189, 4)\n",
      "pts:  (3, 338) , desc:  (256, 338)\n"
     ]
    },
    {
     "name": "stderr",
     "output_type": "stream",
     "text": [
      "108it [00:33,  3.20it/s]"
     ]
    },
    {
     "name": "stdout",
     "output_type": "stream",
     "text": [
      "heatmap:  (244, 324)\n",
      "heatmap:  (244, 324)\n",
      "matches:  (145, 4)\n",
      "pts:  (3, 319) , desc:  (256, 319)\n"
     ]
    },
    {
     "name": "stderr",
     "output_type": "stream",
     "text": [
      "109it [00:34,  3.39it/s]"
     ]
    },
    {
     "name": "stdout",
     "output_type": "stream",
     "text": [
      "heatmap:  (244, 324)\n",
      "heatmap:  (244, 324)\n",
      "matches:  (74, 4)\n",
      "pts:  (3, 335) , desc:  (256, 335)\n"
     ]
    },
    {
     "name": "stderr",
     "output_type": "stream",
     "text": [
      "110it [00:34,  3.42it/s]"
     ]
    },
    {
     "name": "stdout",
     "output_type": "stream",
     "text": [
      "heatmap:  (244, 324)\n",
      "heatmap:  (244, 324)\n",
      "matches:  (36, 4)\n",
      "pts:  (3, 321) , desc:  (256, 321)\n"
     ]
    },
    {
     "name": "stderr",
     "output_type": "stream",
     "text": [
      "111it [00:34,  3.43it/s]"
     ]
    },
    {
     "name": "stdout",
     "output_type": "stream",
     "text": [
      "heatmap:  (244, 324)\n",
      "heatmap:  (244, 324)\n",
      "matches:  (189, 4)\n",
      "pts:  (3, 330) , desc:  (256, 330)\n"
     ]
    },
    {
     "name": "stderr",
     "output_type": "stream",
     "text": [
      "112it [00:35,  3.36it/s]"
     ]
    },
    {
     "name": "stdout",
     "output_type": "stream",
     "text": [
      "heatmap:  (244, 324)\n",
      "heatmap:  (244, 324)\n",
      "matches:  (115, 4)\n",
      "pts:  (3, 305) , desc:  (256, 305)\n"
     ]
    },
    {
     "name": "stderr",
     "output_type": "stream",
     "text": [
      "113it [00:35,  3.42it/s]"
     ]
    },
    {
     "name": "stdout",
     "output_type": "stream",
     "text": [
      "heatmap:  (244, 324)\n",
      "heatmap:  (244, 324)\n",
      "matches:  (99, 4)\n",
      "pts:  (3, 339) , desc:  (256, 339)\n"
     ]
    },
    {
     "name": "stderr",
     "output_type": "stream",
     "text": [
      "114it [00:35,  3.37it/s]"
     ]
    },
    {
     "name": "stdout",
     "output_type": "stream",
     "text": [
      "heatmap:  (244, 324)\n",
      "heatmap:  (244, 324)\n",
      "matches:  (65, 4)\n",
      "pts:  (3, 326) , desc:  (256, 326)\n"
     ]
    },
    {
     "name": "stderr",
     "output_type": "stream",
     "text": [
      "115it [00:35,  3.41it/s]"
     ]
    },
    {
     "name": "stdout",
     "output_type": "stream",
     "text": [
      "heatmap:  (244, 324)\n",
      "heatmap:  (244, 324)\n",
      "matches:  (34, 4)\n",
      "pts:  (3, 309) , desc:  (256, 309)\n"
     ]
    },
    {
     "name": "stderr",
     "output_type": "stream",
     "text": [
      "116it [00:36,  3.38it/s]"
     ]
    },
    {
     "name": "stdout",
     "output_type": "stream",
     "text": [
      "heatmap:  (244, 324)\n",
      "heatmap:  (244, 324)\n",
      "matches:  (336, 4)\n",
      "pts:  (3, 410) , desc:  (256, 410)\n"
     ]
    },
    {
     "name": "stderr",
     "output_type": "stream",
     "text": [
      "117it [00:36,  3.43it/s]"
     ]
    },
    {
     "name": "stdout",
     "output_type": "stream",
     "text": [
      "heatmap:  (244, 324)\n",
      "heatmap:  (244, 324)\n",
      "matches:  (255, 4)\n",
      "pts:  (3, 405) , desc:  (256, 405)\n"
     ]
    },
    {
     "name": "stderr",
     "output_type": "stream",
     "text": [
      "118it [00:36,  3.52it/s]"
     ]
    },
    {
     "name": "stdout",
     "output_type": "stream",
     "text": [
      "heatmap:  (244, 324)\n",
      "heatmap:  (244, 324)\n",
      "matches:  (295, 4)\n",
      "pts:  (3, 405) , desc:  (256, 405)\n"
     ]
    },
    {
     "name": "stderr",
     "output_type": "stream",
     "text": [
      "119it [00:37,  3.53it/s]"
     ]
    },
    {
     "name": "stdout",
     "output_type": "stream",
     "text": [
      "heatmap:  (244, 324)\n",
      "heatmap:  (244, 324)\n",
      "matches:  (184, 4)\n",
      "pts:  (3, 384) , desc:  (256, 384)\n"
     ]
    },
    {
     "name": "stderr",
     "output_type": "stream",
     "text": [
      "120it [00:37,  3.50it/s]"
     ]
    },
    {
     "name": "stdout",
     "output_type": "stream",
     "text": [
      "heatmap:  (244, 324)\n",
      "heatmap:  (244, 324)\n",
      "matches:  (163, 4)\n",
      "pts:  (3, 393) , desc:  (256, 393)\n"
     ]
    },
    {
     "name": "stderr",
     "output_type": "stream",
     "text": [
      "121it [00:37,  3.44it/s]"
     ]
    },
    {
     "name": "stdout",
     "output_type": "stream",
     "text": [
      "heatmap:  (244, 324)\n",
      "heatmap:  (244, 324)\n",
      "matches:  (438, 4)\n",
      "pts:  (3, 500) , desc:  (256, 500)\n"
     ]
    },
    {
     "name": "stderr",
     "output_type": "stream",
     "text": [
      "122it [00:37,  3.44it/s]"
     ]
    },
    {
     "name": "stdout",
     "output_type": "stream",
     "text": [
      "heatmap:  (244, 324)\n",
      "heatmap:  (244, 324)\n",
      "matches:  (366, 4)\n",
      "pts:  (3, 497) , desc:  (256, 497)\n"
     ]
    },
    {
     "name": "stderr",
     "output_type": "stream",
     "text": [
      "123it [00:38,  3.37it/s]"
     ]
    },
    {
     "name": "stdout",
     "output_type": "stream",
     "text": [
      "heatmap:  (244, 324)\n",
      "heatmap:  (244, 324)\n",
      "matches:  (161, 4)\n",
      "pts:  (3, 468) , desc:  (256, 468)\n",
      "heatmap:  (244, 324)\n",
      "heatmap:  (244, 324)\n"
     ]
    },
    {
     "name": "stderr",
     "output_type": "stream",
     "text": [
      "124it [00:38,  2.96it/s]"
     ]
    },
    {
     "name": "stdout",
     "output_type": "stream",
     "text": [
      "matches:  (388, 4)\n",
      "pts:  (3, 505) , desc:  (256, 505)\n",
      "heatmap:  (244, 324)\n",
      "heatmap:  (244, 324)\n",
      "matches:  (298, 4)\n",
      "pts:  (3, 478) , desc:  (256, 478)\n"
     ]
    },
    {
     "name": "stderr",
     "output_type": "stream",
     "text": [
      "125it [00:39,  2.87it/s]"
     ]
    },
    {
     "name": "stdout",
     "output_type": "stream",
     "text": [
      "heatmap:  (244, 324)\n",
      "heatmap:  (244, 324)\n",
      "matches:  (270, 4)\n",
      "pts:  (3, 376) , desc:  (256, 376)\n"
     ]
    },
    {
     "name": "stderr",
     "output_type": "stream",
     "text": [
      "127it [00:39,  2.90it/s]"
     ]
    },
    {
     "name": "stdout",
     "output_type": "stream",
     "text": [
      "heatmap:  (244, 324)\n",
      "heatmap:  (244, 324)\n",
      "matches:  (277, 4)\n",
      "pts:  (3, 381) , desc:  (256, 381)\n",
      "heatmap:  (244, 324)\n",
      "heatmap:  (244, 324)\n",
      "matches:  (255, 4)\n",
      "pts:  (3, 381) , desc:  (256, 381)\n"
     ]
    },
    {
     "name": "stderr",
     "output_type": "stream",
     "text": [
      "128it [00:40,  2.60it/s]"
     ]
    },
    {
     "name": "stdout",
     "output_type": "stream",
     "text": [
      "heatmap:  (244, 324)\n",
      "heatmap:  (244, 324)\n",
      "matches:  (252, 4)\n",
      "pts:  (3, 373) , desc:  (256, 373)\n"
     ]
    },
    {
     "name": "stderr",
     "output_type": "stream",
     "text": [
      "130it [00:40,  2.88it/s]"
     ]
    },
    {
     "name": "stdout",
     "output_type": "stream",
     "text": [
      "heatmap:  (244, 324)\n",
      "heatmap:  (244, 324)\n",
      "matches:  (260, 4)\n",
      "pts:  (3, 397) , desc:  (256, 397)\n",
      "heatmap:  (244, 324)\n",
      "heatmap:  (244, 324)\n",
      "matches:  (4, 4)\n",
      "pts:  (3, 409) , desc:  (256, 409)\n"
     ]
    },
    {
     "name": "stderr",
     "output_type": "stream",
     "text": [
      "132it [00:41,  3.07it/s]"
     ]
    },
    {
     "name": "stdout",
     "output_type": "stream",
     "text": [
      "heatmap:  (244, 324)\n",
      "heatmap:  (244, 324)\n",
      "matches:  (11, 4)\n",
      "pts:  (3, 427) , desc:  (256, 427)\n"
     ]
    },
    {
     "name": "stderr",
     "output_type": "stream",
     "text": [
      "133it [00:41,  3.15it/s]"
     ]
    },
    {
     "name": "stdout",
     "output_type": "stream",
     "text": [
      "heatmap:  (244, 324)\n",
      "heatmap:  (244, 324)\n",
      "matches:  (59, 4)\n",
      "pts:  (3, 431) , desc:  (256, 431)\n",
      "heatmap:  (244, 324)\n",
      "heatmap:  (244, 324)\n",
      "matches:  (253, 4)\n",
      "pts:  (3, 464) , desc:  (256, 464)\n"
     ]
    },
    {
     "name": "stderr",
     "output_type": "stream",
     "text": [
      "135it [00:42,  3.20it/s]"
     ]
    },
    {
     "name": "stdout",
     "output_type": "stream",
     "text": [
      "heatmap:  (244, 324)\n",
      "heatmap:  (244, 324)\n",
      "matches:  (72, 4)\n",
      "pts:  (3, 406) , desc:  (256, 406)\n"
     ]
    },
    {
     "name": "stderr",
     "output_type": "stream",
     "text": [
      "136it [00:42,  3.29it/s]"
     ]
    },
    {
     "name": "stdout",
     "output_type": "stream",
     "text": [
      "heatmap:  (244, 324)\n",
      "heatmap:  (244, 324)\n",
      "matches:  (251, 4)\n",
      "pts:  (3, 438) , desc:  (256, 438)\n"
     ]
    },
    {
     "name": "stderr",
     "output_type": "stream",
     "text": [
      "137it [00:42,  3.32it/s]"
     ]
    },
    {
     "name": "stdout",
     "output_type": "stream",
     "text": [
      "heatmap:  (244, 324)\n",
      "heatmap:  (244, 324)\n",
      "matches:  (241, 4)\n",
      "pts:  (3, 459) , desc:  (256, 459)\n"
     ]
    },
    {
     "name": "stderr",
     "output_type": "stream",
     "text": [
      "138it [00:43,  3.28it/s]"
     ]
    },
    {
     "name": "stdout",
     "output_type": "stream",
     "text": [
      "heatmap:  (244, 324)\n",
      "heatmap:  (244, 324)\n",
      "matches:  (194, 4)\n",
      "pts:  (3, 461) , desc:  (256, 461)\n",
      "heatmap:  (244, 324)\n",
      "heatmap:  (244, 324)\n",
      "matches:  (170, 4)\n",
      "pts:  (3, 473) , desc:  (256, 473)\n"
     ]
    },
    {
     "name": "stderr",
     "output_type": "stream",
     "text": [
      "140it [00:43,  3.20it/s]"
     ]
    },
    {
     "name": "stdout",
     "output_type": "stream",
     "text": [
      "heatmap:  (244, 324)\n",
      "heatmap:  (244, 324)\n",
      "matches:  (135, 4)\n",
      "pts:  (3, 463) , desc:  (256, 463)\n"
     ]
    },
    {
     "name": "stderr",
     "output_type": "stream",
     "text": [
      "141it [00:44,  3.15it/s]"
     ]
    },
    {
     "name": "stdout",
     "output_type": "stream",
     "text": [
      "heatmap:  (244, 324)\n",
      "heatmap:  (244, 324)\n",
      "matches:  (218, 4)\n",
      "pts:  (3, 381) , desc:  (256, 381)\n"
     ]
    },
    {
     "name": "stderr",
     "output_type": "stream",
     "text": [
      "142it [00:44,  2.97it/s]"
     ]
    },
    {
     "name": "stdout",
     "output_type": "stream",
     "text": [
      "heatmap:  (244, 324)\n",
      "heatmap:  (244, 324)\n",
      "matches:  (83, 4)\n",
      "pts:  (3, 385) , desc:  (256, 385)\n"
     ]
    },
    {
     "name": "stderr",
     "output_type": "stream",
     "text": [
      "143it [00:44,  2.96it/s]"
     ]
    },
    {
     "name": "stdout",
     "output_type": "stream",
     "text": [
      "heatmap:  (244, 324)\n",
      "heatmap:  (244, 324)\n",
      "matches:  (48, 4)\n",
      "pts:  (3, 417) , desc:  (256, 417)\n"
     ]
    },
    {
     "name": "stderr",
     "output_type": "stream",
     "text": [
      "144it [00:45,  3.04it/s]"
     ]
    },
    {
     "name": "stdout",
     "output_type": "stream",
     "text": [
      "heatmap:  (244, 324)\n",
      "heatmap:  (244, 324)\n",
      "matches:  (35, 4)\n",
      "pts:  (3, 408) , desc:  (256, 408)\n",
      "heatmap:  (244, 324)\n",
      "heatmap:  (244, 324)\n",
      "matches:  (25, 4)\n",
      "pts:  (3, 405) , desc:  (256, 405)\n"
     ]
    },
    {
     "name": "stderr",
     "output_type": "stream",
     "text": [
      "146it [00:46,  2.95it/s]"
     ]
    },
    {
     "name": "stdout",
     "output_type": "stream",
     "text": [
      "heatmap:  (244, 324)\n",
      "heatmap:  (244, 324)\n",
      "matches:  (400, 4)\n",
      "pts:  (3, 469) , desc:  (256, 469)\n"
     ]
    },
    {
     "name": "stderr",
     "output_type": "stream",
     "text": [
      "147it [00:46,  2.92it/s]"
     ]
    },
    {
     "name": "stdout",
     "output_type": "stream",
     "text": [
      "heatmap:  (244, 324)\n",
      "heatmap:  (244, 324)\n",
      "matches:  (243, 4)\n",
      "pts:  (3, 463) , desc:  (256, 463)\n"
     ]
    },
    {
     "name": "stderr",
     "output_type": "stream",
     "text": [
      "148it [00:46,  2.90it/s]"
     ]
    },
    {
     "name": "stdout",
     "output_type": "stream",
     "text": [
      "heatmap:  (244, 324)\n",
      "heatmap:  (244, 324)\n",
      "matches:  (88, 4)\n",
      "pts:  (3, 445) , desc:  (256, 445)\n"
     ]
    },
    {
     "name": "stderr",
     "output_type": "stream",
     "text": [
      "149it [00:47,  2.97it/s]"
     ]
    },
    {
     "name": "stdout",
     "output_type": "stream",
     "text": [
      "heatmap:  (244, 324)\n",
      "heatmap:  (244, 324)\n",
      "matches:  (36, 4)\n",
      "pts:  (3, 388) , desc:  (256, 388)\n",
      "heatmap:  (244, 324)\n",
      "heatmap:  (244, 324)\n",
      "matches:  (232, 4)\n",
      "pts:  (3, 463) , desc:  (256, 463)\n"
     ]
    },
    {
     "name": "stderr",
     "output_type": "stream",
     "text": [
      "150it [00:47,  2.69it/s]"
     ]
    },
    {
     "name": "stdout",
     "output_type": "stream",
     "text": [
      "heatmap:  (244, 324)\n",
      "heatmap:  (244, 324)\n",
      "matches:  (308, 4)\n",
      "pts:  (3, 411) , desc:  (256, 411)\n"
     ]
    },
    {
     "name": "stderr",
     "output_type": "stream",
     "text": [
      "152it [00:48,  2.82it/s]"
     ]
    },
    {
     "name": "stdout",
     "output_type": "stream",
     "text": [
      "heatmap:  (244, 324)\n",
      "heatmap:  (244, 324)\n",
      "matches:  (391, 4)\n",
      "pts:  (3, 443) , desc:  (256, 443)\n",
      "heatmap:  (244, 324)\n",
      "heatmap:  (244, 324)\n",
      "matches:  (379, 4)\n",
      "pts:  (3, 437) , desc:  (256, 437)\n"
     ]
    },
    {
     "name": "stderr",
     "output_type": "stream",
     "text": [
      "154it [00:48,  2.90it/s]"
     ]
    },
    {
     "name": "stdout",
     "output_type": "stream",
     "text": [
      "heatmap:  (244, 324)\n",
      "heatmap:  (244, 324)\n",
      "matches:  (295, 4)\n",
      "pts:  (3, 416) , desc:  (256, 416)\n",
      "heatmap:  (244, 324)\n",
      "heatmap:  (244, 324)\n",
      "matches:  (334, 4)\n",
      "pts:  (3, 412) , desc:  (256, 412)\n"
     ]
    },
    {
     "name": "stderr",
     "output_type": "stream",
     "text": [
      "156it [00:49,  2.83it/s]"
     ]
    },
    {
     "name": "stdout",
     "output_type": "stream",
     "text": [
      "heatmap:  (244, 324)\n",
      "heatmap:  (244, 324)\n",
      "matches:  (331, 4)\n",
      "pts:  (3, 424) , desc:  (256, 424)\n",
      "heatmap:  (244, 324)\n",
      "heatmap:  (244, 324)\n",
      "matches:  (268, 4)\n",
      "pts:  (3, 414) , desc:  (256, 414)\n"
     ]
    },
    {
     "name": "stderr",
     "output_type": "stream",
     "text": [
      "157it [00:50,  2.62it/s]"
     ]
    },
    {
     "name": "stdout",
     "output_type": "stream",
     "text": [
      "heatmap:  (244, 324)\n",
      "heatmap:  (244, 324)\n",
      "matches:  (299, 4)\n",
      "pts:  (3, 423) , desc:  (256, 423)\n"
     ]
    },
    {
     "name": "stderr",
     "output_type": "stream",
     "text": [
      "159it [00:50,  3.04it/s]"
     ]
    },
    {
     "name": "stdout",
     "output_type": "stream",
     "text": [
      "heatmap:  (244, 324)\n",
      "heatmap:  (244, 324)\n",
      "matches:  (252, 4)\n",
      "pts:  (3, 399) , desc:  (256, 399)\n"
     ]
    },
    {
     "name": "stderr",
     "output_type": "stream",
     "text": [
      "160it [00:50,  3.12it/s]"
     ]
    },
    {
     "name": "stdout",
     "output_type": "stream",
     "text": [
      "heatmap:  (244, 324)\n",
      "heatmap:  (244, 324)\n",
      "matches:  (124, 4)\n",
      "pts:  (3, 388) , desc:  (256, 388)\n"
     ]
    },
    {
     "name": "stderr",
     "output_type": "stream",
     "text": [
      "161it [00:51,  3.21it/s]"
     ]
    },
    {
     "name": "stdout",
     "output_type": "stream",
     "text": [
      "heatmap:  (244, 324)\n",
      "heatmap:  (244, 324)\n",
      "matches:  (313, 4)\n",
      "pts:  (3, 372) , desc:  (256, 372)\n"
     ]
    },
    {
     "name": "stderr",
     "output_type": "stream",
     "text": [
      "162it [00:51,  3.40it/s]"
     ]
    },
    {
     "name": "stdout",
     "output_type": "stream",
     "text": [
      "heatmap:  (244, 324)\n",
      "heatmap:  (244, 324)\n",
      "matches:  (140, 4)\n",
      "pts:  (3, 371) , desc:  (256, 371)\n"
     ]
    },
    {
     "name": "stderr",
     "output_type": "stream",
     "text": [
      "163it [00:51,  3.40it/s]"
     ]
    },
    {
     "name": "stdout",
     "output_type": "stream",
     "text": [
      "heatmap:  (244, 324)\n",
      "heatmap:  (244, 324)\n",
      "matches:  (80, 4)\n",
      "pts:  (3, 339) , desc:  (256, 339)\n",
      "heatmap:  (244, 324)\n",
      "heatmap:  (244, 324)\n",
      "matches:  (87, 4)\n",
      "pts:  (3, 334) , desc:  (256, 334)\n"
     ]
    },
    {
     "name": "stderr",
     "output_type": "stream",
     "text": [
      "165it [00:52,  3.28it/s]"
     ]
    },
    {
     "name": "stdout",
     "output_type": "stream",
     "text": [
      "heatmap:  (244, 324)\n",
      "heatmap:  (244, 324)\n",
      "matches:  (110, 4)\n",
      "pts:  (3, 359) , desc:  (256, 359)\n"
     ]
    },
    {
     "name": "stderr",
     "output_type": "stream",
     "text": [
      "166it [00:52,  3.26it/s]"
     ]
    },
    {
     "name": "stdout",
     "output_type": "stream",
     "text": [
      "heatmap:  (244, 324)\n",
      "heatmap:  (244, 324)\n",
      "matches:  (318, 4)\n",
      "pts:  (3, 489) , desc:  (256, 489)\n",
      "heatmap:  (244, 324)\n",
      "heatmap:  (244, 324)\n",
      "matches:  (259, 4)\n",
      "pts:  (3, 490) , desc:  (256, 490)\n"
     ]
    },
    {
     "name": "stderr",
     "output_type": "stream",
     "text": [
      "168it [00:53,  3.02it/s]"
     ]
    },
    {
     "name": "stdout",
     "output_type": "stream",
     "text": [
      "heatmap:  (244, 324)\n",
      "heatmap:  (244, 324)\n",
      "matches:  (185, 4)\n",
      "pts:  (3, 486) , desc:  (256, 486)\n"
     ]
    },
    {
     "name": "stderr",
     "output_type": "stream",
     "text": [
      "169it [00:53,  3.05it/s]"
     ]
    },
    {
     "name": "stdout",
     "output_type": "stream",
     "text": [
      "heatmap:  (244, 324)\n",
      "heatmap:  (244, 324)\n",
      "matches:  (147, 4)\n",
      "pts:  (3, 488) , desc:  (256, 488)\n"
     ]
    },
    {
     "name": "stderr",
     "output_type": "stream",
     "text": [
      "170it [00:54,  3.03it/s]"
     ]
    },
    {
     "name": "stdout",
     "output_type": "stream",
     "text": [
      "heatmap:  (244, 324)\n",
      "heatmap:  (244, 324)\n",
      "matches:  (368, 4)\n",
      "pts:  (3, 469) , desc:  (256, 469)\n"
     ]
    },
    {
     "name": "stderr",
     "output_type": "stream",
     "text": [
      "171it [00:54,  3.11it/s]"
     ]
    },
    {
     "name": "stdout",
     "output_type": "stream",
     "text": [
      "heatmap:  (244, 324)\n",
      "heatmap:  (244, 324)\n",
      "matches:  (308, 4)\n",
      "pts:  (3, 485) , desc:  (256, 485)\n",
      "heatmap:  (244, 324)\n",
      "heatmap:  (244, 324)\n",
      "matches:  (139, 4)\n",
      "pts:  (3, 470) , desc:  (256, 470)\n"
     ]
    },
    {
     "name": "stderr",
     "output_type": "stream",
     "text": [
      "173it [00:55,  2.98it/s]"
     ]
    },
    {
     "name": "stdout",
     "output_type": "stream",
     "text": [
      "heatmap:  (244, 324)\n",
      "heatmap:  (244, 324)\n",
      "matches:  (206, 4)\n",
      "pts:  (3, 502) , desc:  (256, 502)\n"
     ]
    },
    {
     "name": "stderr",
     "output_type": "stream",
     "text": [
      "174it [00:55,  3.09it/s]"
     ]
    },
    {
     "name": "stdout",
     "output_type": "stream",
     "text": [
      "heatmap:  (244, 324)\n",
      "heatmap:  (244, 324)\n",
      "matches:  (127, 4)\n",
      "pts:  (3, 458) , desc:  (256, 458)\n"
     ]
    },
    {
     "name": "stderr",
     "output_type": "stream",
     "text": [
      "175it [00:55,  3.14it/s]"
     ]
    },
    {
     "name": "stdout",
     "output_type": "stream",
     "text": [
      "heatmap:  (244, 324)\n",
      "heatmap:  (244, 324)\n",
      "matches:  (82, 4)\n",
      "pts:  (3, 464) , desc:  (256, 464)\n"
     ]
    },
    {
     "name": "stderr",
     "output_type": "stream",
     "text": [
      "176it [00:55,  3.16it/s]"
     ]
    },
    {
     "name": "stdout",
     "output_type": "stream",
     "text": [
      "heatmap:  (244, 324)\n",
      "heatmap:  (244, 324)\n",
      "matches:  (9, 4)\n",
      "pts:  (3, 482) , desc:  (256, 482)\n"
     ]
    },
    {
     "name": "stderr",
     "output_type": "stream",
     "text": [
      "177it [00:56,  3.13it/s]"
     ]
    },
    {
     "name": "stdout",
     "output_type": "stream",
     "text": [
      "heatmap:  (244, 324)\n",
      "heatmap:  (244, 324)\n",
      "matches:  (8, 4)\n",
      "pts:  (3, 464) , desc:  (256, 464)\n"
     ]
    },
    {
     "name": "stderr",
     "output_type": "stream",
     "text": [
      "178it [00:56,  3.24it/s]"
     ]
    },
    {
     "name": "stdout",
     "output_type": "stream",
     "text": [
      "heatmap:  (244, 324)\n",
      "heatmap:  (244, 324)\n",
      "matches:  (66, 4)\n",
      "pts:  (3, 451) , desc:  (256, 451)\n",
      "heatmap:  (244, 324)\n",
      "heatmap:  (244, 324)\n",
      "matches:  (65, 4)\n",
      "pts:  (3, 412) , desc:  (256, 412)\n"
     ]
    },
    {
     "name": "stderr",
     "output_type": "stream",
     "text": [
      "180it [00:57,  3.27it/s]"
     ]
    },
    {
     "name": "stdout",
     "output_type": "stream",
     "text": [
      "heatmap:  (244, 324)\n",
      "heatmap:  (244, 324)\n",
      "matches:  (8, 4)\n",
      "pts:  (3, 427) , desc:  (256, 427)\n"
     ]
    },
    {
     "name": "stderr",
     "output_type": "stream",
     "text": [
      "181it [00:57,  3.12it/s]"
     ]
    },
    {
     "name": "stdout",
     "output_type": "stream",
     "text": [
      "heatmap:  (244, 324)\n",
      "heatmap:  (244, 324)\n",
      "matches:  (252, 4)\n",
      "pts:  (3, 438) , desc:  (256, 438)\n"
     ]
    },
    {
     "name": "stderr",
     "output_type": "stream",
     "text": [
      "182it [00:57,  3.20it/s]"
     ]
    },
    {
     "name": "stdout",
     "output_type": "stream",
     "text": [
      "heatmap:  (244, 324)\n",
      "heatmap:  (244, 324)\n",
      "matches:  (135, 4)\n",
      "pts:  (3, 461) , desc:  (256, 461)\n"
     ]
    },
    {
     "name": "stderr",
     "output_type": "stream",
     "text": [
      "183it [00:58,  3.26it/s]"
     ]
    },
    {
     "name": "stdout",
     "output_type": "stream",
     "text": [
      "heatmap:  (244, 324)\n",
      "heatmap:  (244, 324)\n",
      "matches:  (129, 4)\n",
      "pts:  (3, 367) , desc:  (256, 367)\n"
     ]
    },
    {
     "name": "stderr",
     "output_type": "stream",
     "text": [
      "184it [00:58,  3.20it/s]"
     ]
    },
    {
     "name": "stdout",
     "output_type": "stream",
     "text": [
      "heatmap:  (244, 324)\n",
      "heatmap:  (244, 324)\n",
      "matches:  (246, 4)\n",
      "pts:  (3, 430) , desc:  (256, 430)\n",
      "heatmap:  (244, 324)\n",
      "heatmap:  (244, 324)\n",
      "matches:  (217, 4)\n",
      "pts:  (3, 458) , desc:  (256, 458)\n"
     ]
    },
    {
     "name": "stderr",
     "output_type": "stream",
     "text": [
      "186it [00:59,  3.25it/s]"
     ]
    },
    {
     "name": "stdout",
     "output_type": "stream",
     "text": [
      "heatmap:  (244, 324)\n",
      "heatmap:  (244, 324)\n",
      "matches:  (52, 4)\n",
      "pts:  (3, 438) , desc:  (256, 438)\n"
     ]
    },
    {
     "name": "stderr",
     "output_type": "stream",
     "text": [
      "187it [00:59,  3.13it/s]"
     ]
    },
    {
     "name": "stdout",
     "output_type": "stream",
     "text": [
      "heatmap:  (244, 324)\n",
      "heatmap:  (244, 324)\n",
      "matches:  (145, 4)\n",
      "pts:  (3, 476) , desc:  (256, 476)\n"
     ]
    },
    {
     "name": "stderr",
     "output_type": "stream",
     "text": [
      "188it [00:59,  3.10it/s]"
     ]
    },
    {
     "name": "stdout",
     "output_type": "stream",
     "text": [
      "heatmap:  (244, 324)\n",
      "heatmap:  (244, 324)\n",
      "matches:  (107, 4)\n",
      "pts:  (3, 473) , desc:  (256, 473)\n",
      "heatmap:  (244, 324)\n",
      "heatmap:  (244, 324)\n",
      "matches:  (70, 4)\n",
      "pts:  (3, 454) , desc:  (256, 454)\n"
     ]
    },
    {
     "name": "stderr",
     "output_type": "stream",
     "text": [
      "189it [01:00,  3.00it/s]"
     ]
    },
    {
     "name": "stdout",
     "output_type": "stream",
     "text": [
      "heatmap:  (244, 324)\n",
      "heatmap:  (244, 324)\n",
      "matches:  (92, 4)\n",
      "pts:  (3, 472) , desc:  (256, 472)\n"
     ]
    },
    {
     "name": "stderr",
     "output_type": "stream",
     "text": [
      "191it [01:00,  2.95it/s]"
     ]
    },
    {
     "name": "stdout",
     "output_type": "stream",
     "text": [
      "heatmap:  (244, 324)\n",
      "heatmap:  (244, 324)\n",
      "matches:  (216, 4)\n",
      "pts:  (3, 231) , desc:  (256, 231)\n"
     ]
    },
    {
     "name": "stderr",
     "output_type": "stream",
     "text": [
      "192it [01:01,  3.03it/s]"
     ]
    },
    {
     "name": "stdout",
     "output_type": "stream",
     "text": [
      "heatmap:  (244, 324)\n",
      "heatmap:  (244, 324)\n",
      "matches:  (186, 4)\n",
      "pts:  (3, 226) , desc:  (256, 226)\n",
      "heatmap:  (244, 324)\n",
      "heatmap:  (244, 324)\n",
      "matches:  (160, 4)\n",
      "pts:  (3, 241) , desc:  (256, 241)\n"
     ]
    },
    {
     "name": "stderr",
     "output_type": "stream",
     "text": [
      "193it [01:01,  2.91it/s]"
     ]
    },
    {
     "name": "stdout",
     "output_type": "stream",
     "text": [
      "heatmap:  (244, 324)\n",
      "heatmap:  (244, 324)\n",
      "matches:  (154, 4)\n",
      "pts:  (3, 244) , desc:  (256, 244)\n"
     ]
    },
    {
     "name": "stderr",
     "output_type": "stream",
     "text": [
      "194it [01:01,  2.81it/s]"
     ]
    },
    {
     "name": "stdout",
     "output_type": "stream",
     "text": [
      "heatmap:  (244, 324)\n",
      "heatmap:  (244, 324)\n",
      "matches:  (113, 4)\n",
      "pts:  (3, 233) , desc:  (256, 233)\n"
     ]
    },
    {
     "name": "stderr",
     "output_type": "stream",
     "text": [
      "196it [01:02,  2.84it/s]"
     ]
    },
    {
     "name": "stdout",
     "output_type": "stream",
     "text": [
      "heatmap:  (244, 324)\n",
      "heatmap:  (244, 324)\n",
      "matches:  (212, 4)\n",
      "pts:  (3, 394) , desc:  (256, 394)\n"
     ]
    },
    {
     "name": "stderr",
     "output_type": "stream",
     "text": [
      "197it [01:02,  2.84it/s]"
     ]
    },
    {
     "name": "stdout",
     "output_type": "stream",
     "text": [
      "heatmap:  (244, 324)\n",
      "heatmap:  (244, 324)\n",
      "matches:  (118, 4)\n",
      "pts:  (3, 419) , desc:  (256, 419)\n"
     ]
    },
    {
     "name": "stderr",
     "output_type": "stream",
     "text": [
      "198it [01:03,  2.99it/s]"
     ]
    },
    {
     "name": "stdout",
     "output_type": "stream",
     "text": [
      "heatmap:  (244, 324)\n",
      "heatmap:  (244, 324)\n",
      "matches:  (72, 4)\n",
      "pts:  (3, 415) , desc:  (256, 415)\n"
     ]
    },
    {
     "name": "stderr",
     "output_type": "stream",
     "text": [
      "199it [01:03,  3.09it/s]"
     ]
    },
    {
     "name": "stdout",
     "output_type": "stream",
     "text": [
      "heatmap:  (244, 324)\n",
      "heatmap:  (244, 324)\n",
      "matches:  (19, 4)\n",
      "pts:  (3, 439) , desc:  (256, 439)\n"
     ]
    },
    {
     "name": "stderr",
     "output_type": "stream",
     "text": [
      "200it [01:03,  3.21it/s]"
     ]
    },
    {
     "name": "stdout",
     "output_type": "stream",
     "text": [
      "heatmap:  (244, 324)\n",
      "heatmap:  (244, 324)\n",
      "matches:  (12, 4)\n",
      "pts:  (3, 407) , desc:  (256, 407)\n"
     ]
    },
    {
     "name": "stderr",
     "output_type": "stream",
     "text": [
      "201it [01:04,  3.22it/s]"
     ]
    },
    {
     "name": "stdout",
     "output_type": "stream",
     "text": [
      "heatmap:  (244, 324)\n",
      "heatmap:  (244, 324)\n",
      "matches:  (268, 4)\n",
      "pts:  (3, 353) , desc:  (256, 353)\n"
     ]
    },
    {
     "name": "stderr",
     "output_type": "stream",
     "text": [
      "202it [01:04,  3.40it/s]"
     ]
    },
    {
     "name": "stdout",
     "output_type": "stream",
     "text": [
      "heatmap:  (244, 324)\n",
      "heatmap:  (244, 324)\n",
      "matches:  (147, 4)\n",
      "pts:  (3, 329) , desc:  (256, 329)\n"
     ]
    },
    {
     "name": "stderr",
     "output_type": "stream",
     "text": [
      "203it [01:04,  3.51it/s]"
     ]
    },
    {
     "name": "stdout",
     "output_type": "stream",
     "text": [
      "heatmap:  (244, 324)\n",
      "heatmap:  (244, 324)\n",
      "matches:  (169, 4)\n",
      "pts:  (3, 312) , desc:  (256, 312)\n"
     ]
    },
    {
     "name": "stderr",
     "output_type": "stream",
     "text": [
      "204it [01:04,  3.60it/s]"
     ]
    },
    {
     "name": "stdout",
     "output_type": "stream",
     "text": [
      "heatmap:  (244, 324)\n",
      "heatmap:  (244, 324)\n",
      "matches:  (190, 4)\n",
      "pts:  (3, 305) , desc:  (256, 305)\n"
     ]
    },
    {
     "name": "stderr",
     "output_type": "stream",
     "text": [
      "205it [01:05,  3.62it/s]"
     ]
    },
    {
     "name": "stdout",
     "output_type": "stream",
     "text": [
      "heatmap:  (244, 324)\n",
      "heatmap:  (244, 324)\n",
      "matches:  (126, 4)\n",
      "pts:  (3, 235) , desc:  (256, 235)\n"
     ]
    },
    {
     "name": "stderr",
     "output_type": "stream",
     "text": [
      "206it [01:05,  3.47it/s]"
     ]
    },
    {
     "name": "stdout",
     "output_type": "stream",
     "text": [
      "heatmap:  (244, 324)\n",
      "heatmap:  (244, 324)\n",
      "matches:  (271, 4)\n",
      "pts:  (3, 471) , desc:  (256, 471)\n"
     ]
    },
    {
     "name": "stderr",
     "output_type": "stream",
     "text": [
      "207it [01:05,  3.47it/s]"
     ]
    },
    {
     "name": "stdout",
     "output_type": "stream",
     "text": [
      "heatmap:  (244, 324)\n",
      "heatmap:  (244, 324)\n",
      "matches:  (221, 4)\n",
      "pts:  (3, 476) , desc:  (256, 476)\n"
     ]
    },
    {
     "name": "stderr",
     "output_type": "stream",
     "text": [
      "208it [01:06,  3.43it/s]"
     ]
    },
    {
     "name": "stdout",
     "output_type": "stream",
     "text": [
      "heatmap:  (244, 324)\n",
      "heatmap:  (244, 324)\n",
      "matches:  (201, 4)\n",
      "pts:  (3, 446) , desc:  (256, 446)\n"
     ]
    },
    {
     "name": "stderr",
     "output_type": "stream",
     "text": [
      "209it [01:06,  3.47it/s]"
     ]
    },
    {
     "name": "stdout",
     "output_type": "stream",
     "text": [
      "heatmap:  (244, 324)\n",
      "heatmap:  (244, 324)\n",
      "matches:  (276, 4)\n",
      "pts:  (3, 467) , desc:  (256, 467)\n"
     ]
    },
    {
     "name": "stderr",
     "output_type": "stream",
     "text": [
      "210it [01:06,  3.43it/s]"
     ]
    },
    {
     "name": "stdout",
     "output_type": "stream",
     "text": [
      "heatmap:  (244, 324)\n",
      "heatmap:  (244, 324)\n",
      "matches:  (315, 4)\n",
      "pts:  (3, 494) , desc:  (256, 494)\n"
     ]
    },
    {
     "name": "stderr",
     "output_type": "stream",
     "text": [
      "211it [01:06,  3.52it/s]"
     ]
    },
    {
     "name": "stdout",
     "output_type": "stream",
     "text": [
      "heatmap:  (244, 324)\n",
      "heatmap:  (244, 324)\n",
      "matches:  (193, 4)\n",
      "pts:  (3, 409) , desc:  (256, 409)\n"
     ]
    },
    {
     "name": "stderr",
     "output_type": "stream",
     "text": [
      "212it [01:07,  3.49it/s]"
     ]
    },
    {
     "name": "stdout",
     "output_type": "stream",
     "text": [
      "heatmap:  (244, 324)\n",
      "heatmap:  (244, 324)\n",
      "matches:  (140, 4)\n",
      "pts:  (3, 396) , desc:  (256, 396)\n",
      "heatmap:  (244, 324)\n",
      "heatmap:  (244, 324)\n",
      "matches:  (160, 4)\n",
      "pts:  (3, 368) , desc:  (256, 368)\n"
     ]
    },
    {
     "name": "stderr",
     "output_type": "stream",
     "text": [
      "214it [01:07,  3.25it/s]"
     ]
    },
    {
     "name": "stdout",
     "output_type": "stream",
     "text": [
      "heatmap:  (244, 324)\n",
      "heatmap:  (244, 324)\n",
      "matches:  (193, 4)\n",
      "pts:  (3, 381) , desc:  (256, 381)\n"
     ]
    },
    {
     "name": "stderr",
     "output_type": "stream",
     "text": [
      "215it [01:08,  3.08it/s]"
     ]
    },
    {
     "name": "stdout",
     "output_type": "stream",
     "text": [
      "heatmap:  (244, 324)\n",
      "heatmap:  (244, 324)\n",
      "matches:  (39, 4)\n",
      "pts:  (3, 381) , desc:  (256, 381)\n"
     ]
    },
    {
     "name": "stderr",
     "output_type": "stream",
     "text": [
      "216it [01:08,  3.29it/s]"
     ]
    },
    {
     "name": "stdout",
     "output_type": "stream",
     "text": [
      "heatmap:  (244, 324)\n",
      "heatmap:  (244, 324)\n",
      "matches:  (206, 4)\n",
      "pts:  (3, 292) , desc:  (256, 292)\n"
     ]
    },
    {
     "name": "stderr",
     "output_type": "stream",
     "text": [
      "217it [01:08,  3.35it/s]"
     ]
    },
    {
     "name": "stdout",
     "output_type": "stream",
     "text": [
      "heatmap:  (244, 324)\n",
      "heatmap:  (244, 324)\n",
      "matches:  (218, 4)\n",
      "pts:  (3, 356) , desc:  (256, 356)\n"
     ]
    },
    {
     "name": "stderr",
     "output_type": "stream",
     "text": [
      "218it [01:09,  3.49it/s]"
     ]
    },
    {
     "name": "stdout",
     "output_type": "stream",
     "text": [
      "heatmap:  (244, 324)\n",
      "heatmap:  (244, 324)\n",
      "matches:  (234, 4)\n",
      "pts:  (3, 351) , desc:  (256, 351)\n"
     ]
    },
    {
     "name": "stderr",
     "output_type": "stream",
     "text": [
      "219it [01:09,  3.50it/s]"
     ]
    },
    {
     "name": "stdout",
     "output_type": "stream",
     "text": [
      "heatmap:  (244, 324)\n",
      "heatmap:  (244, 324)\n",
      "matches:  (236, 4)\n",
      "pts:  (3, 352) , desc:  (256, 352)\n"
     ]
    },
    {
     "name": "stderr",
     "output_type": "stream",
     "text": [
      "220it [01:09,  3.49it/s]"
     ]
    },
    {
     "name": "stdout",
     "output_type": "stream",
     "text": [
      "heatmap:  (244, 324)\n",
      "heatmap:  (244, 324)\n",
      "matches:  (214, 4)\n",
      "pts:  (3, 308) , desc:  (256, 308)\n"
     ]
    },
    {
     "name": "stderr",
     "output_type": "stream",
     "text": [
      "221it [01:09,  3.51it/s]"
     ]
    },
    {
     "name": "stdout",
     "output_type": "stream",
     "text": [
      "heatmap:  (244, 324)\n",
      "heatmap:  (244, 324)\n",
      "matches:  (192, 4)\n",
      "pts:  (3, 382) , desc:  (256, 382)\n"
     ]
    },
    {
     "name": "stderr",
     "output_type": "stream",
     "text": [
      "222it [01:10,  3.61it/s]"
     ]
    },
    {
     "name": "stdout",
     "output_type": "stream",
     "text": [
      "heatmap:  (244, 324)\n",
      "heatmap:  (244, 324)\n",
      "matches:  (153, 4)\n",
      "pts:  (3, 399) , desc:  (256, 399)\n",
      "heatmap:  (244, 324)\n",
      "heatmap:  (244, 324)\n",
      "matches:  (139, 4)\n",
      "pts:  (3, 364) , desc:  (256, 364)\n"
     ]
    },
    {
     "name": "stderr",
     "output_type": "stream",
     "text": [
      "224it [01:10,  3.31it/s]"
     ]
    },
    {
     "name": "stdout",
     "output_type": "stream",
     "text": [
      "heatmap:  (244, 324)\n",
      "heatmap:  (244, 324)\n",
      "matches:  (230, 4)\n",
      "pts:  (3, 310) , desc:  (256, 310)\n"
     ]
    },
    {
     "name": "stderr",
     "output_type": "stream",
     "text": [
      "225it [01:11,  3.40it/s]"
     ]
    },
    {
     "name": "stdout",
     "output_type": "stream",
     "text": [
      "heatmap:  (244, 324)\n",
      "heatmap:  (244, 324)\n",
      "matches:  (92, 4)\n",
      "pts:  (3, 381) , desc:  (256, 381)\n"
     ]
    },
    {
     "name": "stderr",
     "output_type": "stream",
     "text": [
      "226it [01:11,  3.39it/s]"
     ]
    },
    {
     "name": "stdout",
     "output_type": "stream",
     "text": [
      "heatmap:  (244, 324)\n",
      "heatmap:  (244, 324)\n",
      "matches:  (226, 4)\n",
      "pts:  (3, 385) , desc:  (256, 385)\n"
     ]
    },
    {
     "name": "stderr",
     "output_type": "stream",
     "text": [
      "227it [01:11,  3.15it/s]"
     ]
    },
    {
     "name": "stdout",
     "output_type": "stream",
     "text": [
      "heatmap:  (244, 324)\n",
      "heatmap:  (244, 324)\n",
      "matches:  (270, 4)\n",
      "pts:  (3, 430) , desc:  (256, 430)\n"
     ]
    },
    {
     "name": "stderr",
     "output_type": "stream",
     "text": [
      "228it [01:12,  3.08it/s]"
     ]
    },
    {
     "name": "stdout",
     "output_type": "stream",
     "text": [
      "heatmap:  (244, 324)\n",
      "heatmap:  (244, 324)\n",
      "matches:  (302, 4)\n",
      "pts:  (3, 420) , desc:  (256, 420)\n",
      "heatmap:  (244, 324)\n",
      "heatmap:  (244, 324)\n",
      "matches:  (249, 4)\n",
      "pts:  (3, 401) , desc:  (256, 401)\n"
     ]
    },
    {
     "name": "stderr",
     "output_type": "stream",
     "text": [
      "229it [01:12,  2.70it/s]"
     ]
    },
    {
     "name": "stdout",
     "output_type": "stream",
     "text": [
      "heatmap:  (244, 324)\n",
      "heatmap:  (244, 324)\n",
      "matches:  (201, 4)\n",
      "pts:  (3, 440) , desc:  (256, 440)\n"
     ]
    },
    {
     "name": "stderr",
     "output_type": "stream",
     "text": [
      "231it [01:13,  2.91it/s]"
     ]
    },
    {
     "name": "stdout",
     "output_type": "stream",
     "text": [
      "heatmap:  (244, 324)\n",
      "heatmap:  (244, 324)\n",
      "matches:  (199, 4)\n",
      "pts:  (3, 443) , desc:  (256, 443)\n"
     ]
    },
    {
     "name": "stderr",
     "output_type": "stream",
     "text": [
      "232it [01:13,  2.89it/s]"
     ]
    },
    {
     "name": "stdout",
     "output_type": "stream",
     "text": [
      "heatmap:  (244, 324)\n",
      "heatmap:  (244, 324)\n",
      "matches:  (192, 4)\n",
      "pts:  (3, 443) , desc:  (256, 443)\n"
     ]
    },
    {
     "name": "stderr",
     "output_type": "stream",
     "text": [
      "233it [01:13,  3.00it/s]"
     ]
    },
    {
     "name": "stdout",
     "output_type": "stream",
     "text": [
      "heatmap:  (244, 324)\n",
      "heatmap:  (244, 324)\n",
      "matches:  (185, 4)\n",
      "pts:  (3, 459) , desc:  (256, 459)\n"
     ]
    },
    {
     "name": "stderr",
     "output_type": "stream",
     "text": [
      "234it [01:14,  3.08it/s]"
     ]
    },
    {
     "name": "stdout",
     "output_type": "stream",
     "text": [
      "heatmap:  (244, 324)\n",
      "heatmap:  (244, 324)\n",
      "matches:  (342, 4)\n",
      "pts:  (3, 458) , desc:  (256, 458)\n"
     ]
    },
    {
     "name": "stderr",
     "output_type": "stream",
     "text": [
      "235it [01:14,  3.17it/s]"
     ]
    },
    {
     "name": "stdout",
     "output_type": "stream",
     "text": [
      "heatmap:  (244, 324)\n",
      "heatmap:  (244, 324)\n",
      "matches:  (211, 4)\n",
      "pts:  (3, 445) , desc:  (256, 445)\n"
     ]
    },
    {
     "name": "stderr",
     "output_type": "stream",
     "text": [
      "236it [01:14,  3.25it/s]"
     ]
    },
    {
     "name": "stdout",
     "output_type": "stream",
     "text": [
      "heatmap:  (244, 324)\n",
      "heatmap:  (244, 324)\n",
      "matches:  (225, 4)\n",
      "pts:  (3, 311) , desc:  (256, 311)\n"
     ]
    },
    {
     "name": "stderr",
     "output_type": "stream",
     "text": [
      "237it [01:15,  3.30it/s]"
     ]
    },
    {
     "name": "stdout",
     "output_type": "stream",
     "text": [
      "heatmap:  (244, 324)\n",
      "heatmap:  (244, 324)\n",
      "matches:  (173, 4)\n",
      "pts:  (3, 308) , desc:  (256, 308)\n"
     ]
    },
    {
     "name": "stderr",
     "output_type": "stream",
     "text": [
      "238it [01:15,  3.39it/s]"
     ]
    },
    {
     "name": "stdout",
     "output_type": "stream",
     "text": [
      "heatmap:  (244, 324)\n",
      "heatmap:  (244, 324)\n",
      "matches:  (159, 4)\n",
      "pts:  (3, 305) , desc:  (256, 305)\n"
     ]
    },
    {
     "name": "stderr",
     "output_type": "stream",
     "text": [
      "239it [01:15,  3.49it/s]"
     ]
    },
    {
     "name": "stdout",
     "output_type": "stream",
     "text": [
      "heatmap:  (244, 324)\n",
      "heatmap:  (244, 324)\n",
      "matches:  (152, 4)\n",
      "pts:  (3, 309) , desc:  (256, 309)\n"
     ]
    },
    {
     "name": "stderr",
     "output_type": "stream",
     "text": [
      "240it [01:15,  3.52it/s]"
     ]
    },
    {
     "name": "stdout",
     "output_type": "stream",
     "text": [
      "heatmap:  (244, 324)\n",
      "heatmap:  (244, 324)\n",
      "matches:  (140, 4)\n",
      "pts:  (3, 294) , desc:  (256, 294)\n"
     ]
    },
    {
     "name": "stderr",
     "output_type": "stream",
     "text": [
      "241it [01:16,  3.40it/s]"
     ]
    },
    {
     "name": "stdout",
     "output_type": "stream",
     "text": [
      "heatmap:  (244, 324)\n",
      "heatmap:  (244, 324)\n",
      "matches:  (338, 4)\n",
      "pts:  (3, 369) , desc:  (256, 369)\n",
      "heatmap:  (244, 324)\n",
      "heatmap:  (244, 324)\n",
      "matches:  (325, 4)\n",
      "pts:  (3, 367) , desc:  (256, 367)\n"
     ]
    },
    {
     "name": "stderr",
     "output_type": "stream",
     "text": [
      "243it [01:16,  3.25it/s]"
     ]
    },
    {
     "name": "stdout",
     "output_type": "stream",
     "text": [
      "heatmap:  (244, 324)\n",
      "heatmap:  (244, 324)\n",
      "matches:  (262, 4)\n",
      "pts:  (3, 346) , desc:  (256, 346)\n"
     ]
    },
    {
     "name": "stderr",
     "output_type": "stream",
     "text": [
      "244it [01:17,  3.30it/s]"
     ]
    },
    {
     "name": "stdout",
     "output_type": "stream",
     "text": [
      "heatmap:  (244, 324)\n",
      "heatmap:  (244, 324)\n",
      "matches:  (282, 4)\n",
      "pts:  (3, 331) , desc:  (256, 331)\n"
     ]
    },
    {
     "name": "stderr",
     "output_type": "stream",
     "text": [
      "245it [01:17,  3.28it/s]"
     ]
    },
    {
     "name": "stdout",
     "output_type": "stream",
     "text": [
      "heatmap:  (244, 324)\n",
      "heatmap:  (244, 324)\n",
      "matches:  (277, 4)\n",
      "pts:  (3, 354) , desc:  (256, 354)\n",
      "heatmap:  (244, 324)\n",
      "heatmap:  (244, 324)\n",
      "matches:  (316, 4)\n",
      "pts:  (3, 346) , desc:  (256, 346)\n"
     ]
    },
    {
     "name": "stderr",
     "output_type": "stream",
     "text": [
      "247it [01:18,  3.31it/s]"
     ]
    },
    {
     "name": "stdout",
     "output_type": "stream",
     "text": [
      "heatmap:  (244, 324)\n",
      "heatmap:  (244, 324)\n",
      "matches:  (229, 4)\n",
      "pts:  (3, 368) , desc:  (256, 368)\n"
     ]
    },
    {
     "name": "stderr",
     "output_type": "stream",
     "text": [
      "248it [01:18,  3.25it/s]"
     ]
    },
    {
     "name": "stdout",
     "output_type": "stream",
     "text": [
      "heatmap:  (244, 324)\n",
      "heatmap:  (244, 324)\n",
      "matches:  (186, 4)\n",
      "pts:  (3, 361) , desc:  (256, 361)\n"
     ]
    },
    {
     "name": "stderr",
     "output_type": "stream",
     "text": [
      "249it [01:18,  3.27it/s]"
     ]
    },
    {
     "name": "stdout",
     "output_type": "stream",
     "text": [
      "heatmap:  (244, 324)\n",
      "heatmap:  (244, 324)\n",
      "matches:  (205, 4)\n",
      "pts:  (3, 361) , desc:  (256, 361)\n"
     ]
    },
    {
     "name": "stderr",
     "output_type": "stream",
     "text": [
      "250it [01:19,  3.38it/s]"
     ]
    },
    {
     "name": "stdout",
     "output_type": "stream",
     "text": [
      "heatmap:  (244, 324)\n",
      "heatmap:  (244, 324)\n",
      "matches:  (124, 4)\n",
      "pts:  (3, 356) , desc:  (256, 356)\n"
     ]
    },
    {
     "name": "stderr",
     "output_type": "stream",
     "text": [
      "251it [01:19,  3.33it/s]"
     ]
    },
    {
     "name": "stdout",
     "output_type": "stream",
     "text": [
      "heatmap:  (244, 324)\n",
      "heatmap:  (244, 324)\n",
      "matches:  (230, 4)\n",
      "pts:  (3, 358) , desc:  (256, 358)\n"
     ]
    },
    {
     "name": "stderr",
     "output_type": "stream",
     "text": [
      "252it [01:19,  3.32it/s]"
     ]
    },
    {
     "name": "stdout",
     "output_type": "stream",
     "text": [
      "heatmap:  (244, 324)\n",
      "heatmap:  (244, 324)\n",
      "matches:  (230, 4)\n",
      "pts:  (3, 373) , desc:  (256, 373)\n"
     ]
    },
    {
     "name": "stderr",
     "output_type": "stream",
     "text": [
      "253it [01:19,  3.30it/s]"
     ]
    },
    {
     "name": "stdout",
     "output_type": "stream",
     "text": [
      "heatmap:  (244, 324)\n",
      "heatmap:  (244, 324)\n",
      "matches:  (213, 4)\n",
      "pts:  (3, 367) , desc:  (256, 367)\n"
     ]
    },
    {
     "name": "stderr",
     "output_type": "stream",
     "text": [
      "254it [01:20,  3.35it/s]"
     ]
    },
    {
     "name": "stdout",
     "output_type": "stream",
     "text": [
      "heatmap:  (244, 324)\n",
      "heatmap:  (244, 324)\n",
      "matches:  (226, 4)\n",
      "pts:  (3, 359) , desc:  (256, 359)\n"
     ]
    },
    {
     "name": "stderr",
     "output_type": "stream",
     "text": [
      "255it [01:20,  3.38it/s]"
     ]
    },
    {
     "name": "stdout",
     "output_type": "stream",
     "text": [
      "heatmap:  (244, 324)\n",
      "heatmap:  (244, 324)\n",
      "matches:  (207, 4)\n",
      "pts:  (3, 363) , desc:  (256, 363)\n"
     ]
    },
    {
     "name": "stderr",
     "output_type": "stream",
     "text": [
      "256it [01:20,  3.43it/s]"
     ]
    },
    {
     "name": "stdout",
     "output_type": "stream",
     "text": [
      "heatmap:  (244, 324)\n",
      "heatmap:  (244, 324)\n",
      "matches:  (290, 4)\n",
      "pts:  (3, 379) , desc:  (256, 379)\n"
     ]
    },
    {
     "name": "stderr",
     "output_type": "stream",
     "text": [
      "257it [01:21,  3.43it/s]"
     ]
    },
    {
     "name": "stdout",
     "output_type": "stream",
     "text": [
      "heatmap:  (244, 324)\n",
      "heatmap:  (244, 324)\n",
      "matches:  (66, 4)\n",
      "pts:  (3, 311) , desc:  (256, 311)\n"
     ]
    },
    {
     "name": "stderr",
     "output_type": "stream",
     "text": [
      "258it [01:21,  3.50it/s]"
     ]
    },
    {
     "name": "stdout",
     "output_type": "stream",
     "text": [
      "heatmap:  (244, 324)\n",
      "heatmap:  (244, 324)\n",
      "matches:  (25, 4)\n",
      "pts:  (3, 320) , desc:  (256, 320)\n"
     ]
    },
    {
     "name": "stderr",
     "output_type": "stream",
     "text": [
      "259it [01:21,  3.52it/s]"
     ]
    },
    {
     "name": "stdout",
     "output_type": "stream",
     "text": [
      "heatmap:  (244, 324)\n",
      "heatmap:  (244, 324)\n",
      "matches:  (34, 4)\n",
      "pts:  (3, 360) , desc:  (256, 360)\n"
     ]
    },
    {
     "name": "stderr",
     "output_type": "stream",
     "text": [
      "260it [01:21,  3.59it/s]"
     ]
    },
    {
     "name": "stdout",
     "output_type": "stream",
     "text": [
      "heatmap:  (244, 324)\n",
      "heatmap:  (244, 324)\n",
      "matches:  (98, 4)\n",
      "pts:  (3, 369) , desc:  (256, 369)\n"
     ]
    },
    {
     "name": "stderr",
     "output_type": "stream",
     "text": [
      "261it [01:22,  3.54it/s]"
     ]
    },
    {
     "name": "stdout",
     "output_type": "stream",
     "text": [
      "heatmap:  (244, 324)\n",
      "heatmap:  (244, 324)\n",
      "matches:  (232, 4)\n",
      "pts:  (3, 473) , desc:  (256, 473)\n"
     ]
    },
    {
     "name": "stderr",
     "output_type": "stream",
     "text": [
      "262it [01:22,  3.51it/s]"
     ]
    },
    {
     "name": "stdout",
     "output_type": "stream",
     "text": [
      "heatmap:  (244, 324)\n",
      "heatmap:  (244, 324)\n",
      "matches:  (152, 4)\n",
      "pts:  (3, 419) , desc:  (256, 419)\n"
     ]
    },
    {
     "name": "stderr",
     "output_type": "stream",
     "text": [
      "263it [01:22,  3.38it/s]"
     ]
    },
    {
     "name": "stdout",
     "output_type": "stream",
     "text": [
      "heatmap:  (244, 324)\n",
      "heatmap:  (244, 324)\n",
      "matches:  (211, 4)\n",
      "pts:  (3, 487) , desc:  (256, 487)\n"
     ]
    },
    {
     "name": "stderr",
     "output_type": "stream",
     "text": [
      "264it [01:23,  3.41it/s]"
     ]
    },
    {
     "name": "stdout",
     "output_type": "stream",
     "text": [
      "heatmap:  (244, 324)\n",
      "heatmap:  (244, 324)\n",
      "matches:  (69, 4)\n",
      "pts:  (3, 373) , desc:  (256, 373)\n"
     ]
    },
    {
     "name": "stderr",
     "output_type": "stream",
     "text": [
      "265it [01:23,  3.39it/s]"
     ]
    },
    {
     "name": "stdout",
     "output_type": "stream",
     "text": [
      "heatmap:  (244, 324)\n",
      "heatmap:  (244, 324)\n",
      "matches:  (24, 4)\n",
      "pts:  (3, 367) , desc:  (256, 367)\n"
     ]
    },
    {
     "name": "stderr",
     "output_type": "stream",
     "text": [
      "266it [01:23,  3.33it/s]"
     ]
    },
    {
     "name": "stdout",
     "output_type": "stream",
     "text": [
      "heatmap:  (244, 324)\n",
      "heatmap:  (244, 324)\n",
      "matches:  (294, 4)\n",
      "pts:  (3, 403) , desc:  (256, 403)\n"
     ]
    },
    {
     "name": "stderr",
     "output_type": "stream",
     "text": [
      "267it [01:24,  3.38it/s]"
     ]
    },
    {
     "name": "stdout",
     "output_type": "stream",
     "text": [
      "heatmap:  (244, 324)\n",
      "heatmap:  (244, 324)\n",
      "matches:  (279, 4)\n",
      "pts:  (3, 416) , desc:  (256, 416)\n"
     ]
    },
    {
     "name": "stderr",
     "output_type": "stream",
     "text": [
      "268it [01:24,  3.38it/s]"
     ]
    },
    {
     "name": "stdout",
     "output_type": "stream",
     "text": [
      "heatmap:  (244, 324)\n",
      "heatmap:  (244, 324)\n",
      "matches:  (100, 4)\n",
      "pts:  (3, 395) , desc:  (256, 395)\n"
     ]
    },
    {
     "name": "stderr",
     "output_type": "stream",
     "text": [
      "269it [01:24,  3.30it/s]"
     ]
    },
    {
     "name": "stdout",
     "output_type": "stream",
     "text": [
      "heatmap:  (244, 324)\n",
      "heatmap:  (244, 324)\n",
      "matches:  (193, 4)\n",
      "pts:  (3, 419) , desc:  (256, 419)\n"
     ]
    },
    {
     "name": "stderr",
     "output_type": "stream",
     "text": [
      "270it [01:24,  3.24it/s]"
     ]
    },
    {
     "name": "stdout",
     "output_type": "stream",
     "text": [
      "heatmap:  (244, 324)\n",
      "heatmap:  (244, 324)\n",
      "matches:  (90, 4)\n",
      "pts:  (3, 392) , desc:  (256, 392)\n"
     ]
    },
    {
     "name": "stderr",
     "output_type": "stream",
     "text": [
      "271it [01:25,  3.33it/s]"
     ]
    },
    {
     "name": "stdout",
     "output_type": "stream",
     "text": [
      "heatmap:  (244, 324)\n",
      "heatmap:  (244, 324)\n",
      "matches:  (268, 4)\n",
      "pts:  (3, 375) , desc:  (256, 375)\n"
     ]
    },
    {
     "name": "stderr",
     "output_type": "stream",
     "text": [
      "272it [01:25,  3.36it/s]"
     ]
    },
    {
     "name": "stdout",
     "output_type": "stream",
     "text": [
      "heatmap:  (244, 324)\n",
      "heatmap:  (244, 324)\n",
      "matches:  (275, 4)\n",
      "pts:  (3, 384) , desc:  (256, 384)\n",
      "heatmap:  (244, 324)\n",
      "heatmap:  (244, 324)\n",
      "matches:  (90, 4)\n",
      "pts:  (3, 396) , desc:  (256, 396)\n"
     ]
    },
    {
     "name": "stderr",
     "output_type": "stream",
     "text": [
      "273it [01:25,  2.96it/s]"
     ]
    },
    {
     "name": "stdout",
     "output_type": "stream",
     "text": [
      "heatmap:  (244, 324)\n",
      "heatmap:  (244, 324)\n",
      "matches:  (173, 4)\n",
      "pts:  (3, 351) , desc:  (256, 351)\n"
     ]
    },
    {
     "name": "stderr",
     "output_type": "stream",
     "text": [
      "274it [01:26,  2.85it/s]"
     ]
    },
    {
     "name": "stdout",
     "output_type": "stream",
     "text": [
      "heatmap:  (244, 324)\n",
      "heatmap:  (244, 324)\n",
      "matches:  (39, 4)\n",
      "pts:  (3, 361) , desc:  (256, 361)\n"
     ]
    },
    {
     "name": "stderr",
     "output_type": "stream",
     "text": [
      "275it [01:26,  2.67it/s]"
     ]
    },
    {
     "name": "stdout",
     "output_type": "stream",
     "text": [
      "heatmap:  (244, 324)\n",
      "heatmap:  (244, 324)\n",
      "matches:  (67, 4)\n",
      "pts:  (3, 400) , desc:  (256, 400)\n"
     ]
    },
    {
     "name": "stderr",
     "output_type": "stream",
     "text": [
      "276it [01:27,  2.88it/s]"
     ]
    },
    {
     "name": "stdout",
     "output_type": "stream",
     "text": [
      "heatmap:  (244, 324)\n",
      "heatmap:  (244, 324)\n",
      "matches:  (57, 4)\n",
      "pts:  (3, 366) , desc:  (256, 366)\n"
     ]
    },
    {
     "name": "stderr",
     "output_type": "stream",
     "text": [
      "278it [01:27,  2.97it/s]"
     ]
    },
    {
     "name": "stdout",
     "output_type": "stream",
     "text": [
      "heatmap:  (244, 324)\n",
      "heatmap:  (244, 324)\n",
      "matches:  (69, 4)\n",
      "pts:  (3, 352) , desc:  (256, 352)\n",
      "heatmap:  (244, 324)\n",
      "heatmap:  (244, 324)\n",
      "matches:  (27, 4)\n",
      "pts:  (3, 330) , desc:  (256, 330)\n"
     ]
    },
    {
     "name": "stderr",
     "output_type": "stream",
     "text": [
      "280it [01:28,  2.95it/s]"
     ]
    },
    {
     "name": "stdout",
     "output_type": "stream",
     "text": [
      "heatmap:  (244, 324)\n",
      "heatmap:  (244, 324)\n",
      "matches:  (74, 4)\n",
      "pts:  (3, 328) , desc:  (256, 328)\n"
     ]
    },
    {
     "name": "stderr",
     "output_type": "stream",
     "text": [
      "281it [01:28,  3.10it/s]"
     ]
    },
    {
     "name": "stdout",
     "output_type": "stream",
     "text": [
      "heatmap:  (244, 324)\n",
      "heatmap:  (244, 324)\n",
      "matches:  (318, 4)\n",
      "pts:  (3, 433) , desc:  (256, 433)\n"
     ]
    },
    {
     "name": "stderr",
     "output_type": "stream",
     "text": [
      "282it [01:29,  3.17it/s]"
     ]
    },
    {
     "name": "stdout",
     "output_type": "stream",
     "text": [
      "heatmap:  (244, 324)\n",
      "heatmap:  (244, 324)\n",
      "matches:  (92, 4)\n",
      "pts:  (3, 341) , desc:  (256, 341)\n"
     ]
    },
    {
     "name": "stderr",
     "output_type": "stream",
     "text": [
      "283it [01:29,  3.22it/s]"
     ]
    },
    {
     "name": "stdout",
     "output_type": "stream",
     "text": [
      "heatmap:  (244, 324)\n",
      "heatmap:  (244, 324)\n",
      "matches:  (28, 4)\n",
      "pts:  (3, 322) , desc:  (256, 322)\n"
     ]
    },
    {
     "name": "stderr",
     "output_type": "stream",
     "text": [
      "284it [01:29,  3.22it/s]"
     ]
    },
    {
     "name": "stdout",
     "output_type": "stream",
     "text": [
      "heatmap:  (244, 324)\n",
      "heatmap:  (244, 324)\n",
      "matches:  (4, 4)\n",
      "pts:  (3, 331) , desc:  (256, 331)\n"
     ]
    },
    {
     "name": "stderr",
     "output_type": "stream",
     "text": [
      "285it [01:29,  3.35it/s]"
     ]
    },
    {
     "name": "stdout",
     "output_type": "stream",
     "text": [
      "heatmap:  (244, 324)\n",
      "heatmap:  (244, 324)\n",
      "matches:  (11, 4)\n",
      "pts:  (3, 375) , desc:  (256, 375)\n"
     ]
    },
    {
     "name": "stderr",
     "output_type": "stream",
     "text": [
      "286it [01:30,  3.42it/s]"
     ]
    },
    {
     "name": "stdout",
     "output_type": "stream",
     "text": [
      "heatmap:  (244, 324)\n",
      "heatmap:  (244, 324)\n",
      "matches:  (44, 4)\n",
      "pts:  (3, 266) , desc:  (256, 266)\n"
     ]
    },
    {
     "name": "stderr",
     "output_type": "stream",
     "text": [
      "287it [01:30,  3.44it/s]"
     ]
    },
    {
     "name": "stdout",
     "output_type": "stream",
     "text": [
      "heatmap:  (244, 324)\n",
      "heatmap:  (244, 324)\n",
      "matches:  (43, 4)\n",
      "pts:  (3, 260) , desc:  (256, 260)\n"
     ]
    },
    {
     "name": "stderr",
     "output_type": "stream",
     "text": [
      "288it [01:30,  3.48it/s]"
     ]
    },
    {
     "name": "stdout",
     "output_type": "stream",
     "text": [
      "heatmap:  (244, 324)\n",
      "heatmap:  (244, 324)\n",
      "matches:  (82, 4)\n",
      "pts:  (3, 288) , desc:  (256, 288)\n"
     ]
    },
    {
     "name": "stderr",
     "output_type": "stream",
     "text": [
      "289it [01:30,  3.58it/s]"
     ]
    },
    {
     "name": "stdout",
     "output_type": "stream",
     "text": [
      "heatmap:  (244, 324)\n",
      "heatmap:  (244, 324)\n",
      "matches:  (24, 4)\n",
      "pts:  (3, 271) , desc:  (256, 271)\n"
     ]
    },
    {
     "name": "stderr",
     "output_type": "stream",
     "text": [
      "290it [01:31,  3.60it/s]"
     ]
    },
    {
     "name": "stdout",
     "output_type": "stream",
     "text": [
      "heatmap:  (244, 324)\n",
      "heatmap:  (244, 324)\n",
      "matches:  (71, 4)\n",
      "pts:  (3, 260) , desc:  (256, 260)\n"
     ]
    },
    {
     "name": "stderr",
     "output_type": "stream",
     "text": [
      "291it [01:31,  3.55it/s]"
     ]
    },
    {
     "name": "stdout",
     "output_type": "stream",
     "text": [
      "heatmap:  (244, 324)\n",
      "heatmap:  (244, 324)\n",
      "matches:  (300, 4)\n",
      "pts:  (3, 446) , desc:  (256, 446)\n"
     ]
    },
    {
     "name": "stderr",
     "output_type": "stream",
     "text": [
      "292it [01:31,  3.50it/s]"
     ]
    },
    {
     "name": "stdout",
     "output_type": "stream",
     "text": [
      "heatmap:  (244, 324)\n",
      "heatmap:  (244, 324)\n",
      "matches:  (298, 4)\n",
      "pts:  (3, 451) , desc:  (256, 451)\n"
     ]
    },
    {
     "name": "stderr",
     "output_type": "stream",
     "text": [
      "293it [01:32,  3.37it/s]"
     ]
    },
    {
     "name": "stdout",
     "output_type": "stream",
     "text": [
      "heatmap:  (244, 324)\n",
      "heatmap:  (244, 324)\n",
      "matches:  (216, 4)\n",
      "pts:  (3, 434) , desc:  (256, 434)\n",
      "heatmap:  (244, 324)\n",
      "heatmap:  (244, 324)\n",
      "matches:  (294, 4)\n",
      "pts:  (3, 442) , desc:  (256, 442)\n"
     ]
    },
    {
     "name": "stderr",
     "output_type": "stream",
     "text": [
      "295it [01:32,  3.14it/s]"
     ]
    },
    {
     "name": "stdout",
     "output_type": "stream",
     "text": [
      "heatmap:  (244, 324)\n",
      "heatmap:  (244, 324)\n",
      "matches:  (188, 4)\n",
      "pts:  (3, 434) , desc:  (256, 434)\n",
      "heatmap:  (244, 324)\n",
      "heatmap:  (244, 324)\n",
      "matches:  (60, 4)\n",
      "pts:  (3, 317) , desc:  (256, 317)\n"
     ]
    },
    {
     "name": "stderr",
     "output_type": "stream",
     "text": [
      "297it [01:33,  3.11it/s]"
     ]
    },
    {
     "name": "stdout",
     "output_type": "stream",
     "text": [
      "heatmap:  (244, 324)\n",
      "heatmap:  (244, 324)\n",
      "matches:  (5, 4)\n",
      "pts:  (3, 373) , desc:  (256, 373)\n",
      "heatmap:  (244, 324)\n",
      "heatmap:  (244, 324)\n",
      "matches:  (8, 4)\n",
      "pts:  (3, 346) , desc:  (256, 346)\n"
     ]
    },
    {
     "name": "stderr",
     "output_type": "stream",
     "text": [
      "299it [01:34,  3.18it/s]"
     ]
    },
    {
     "name": "stdout",
     "output_type": "stream",
     "text": [
      "heatmap:  (244, 324)\n",
      "heatmap:  (244, 324)\n",
      "matches:  (32, 4)\n",
      "pts:  (3, 328) , desc:  (256, 328)\n"
     ]
    },
    {
     "name": "stderr",
     "output_type": "stream",
     "text": [
      "300it [01:34,  3.25it/s]"
     ]
    },
    {
     "name": "stdout",
     "output_type": "stream",
     "text": [
      "heatmap:  (244, 324)\n",
      "heatmap:  (244, 324)\n",
      "matches:  (31, 4)\n",
      "pts:  (3, 335) , desc:  (256, 335)\n"
     ]
    },
    {
     "name": "stderr",
     "output_type": "stream",
     "text": [
      "301it [01:34,  3.29it/s]"
     ]
    },
    {
     "name": "stdout",
     "output_type": "stream",
     "text": [
      "heatmap:  (244, 324)\n",
      "heatmap:  (244, 324)\n",
      "matches:  (358, 4)\n",
      "pts:  (3, 411) , desc:  (256, 411)\n"
     ]
    },
    {
     "name": "stderr",
     "output_type": "stream",
     "text": [
      "302it [01:35,  3.32it/s]"
     ]
    },
    {
     "name": "stdout",
     "output_type": "stream",
     "text": [
      "heatmap:  (244, 324)\n",
      "heatmap:  (244, 324)\n",
      "matches:  (324, 4)\n",
      "pts:  (3, 413) , desc:  (256, 413)\n",
      "heatmap:  (244, 324)\n",
      "heatmap:  (244, 324)\n",
      "matches:  (215, 4)\n",
      "pts:  (3, 404) , desc:  (256, 404)\n"
     ]
    },
    {
     "name": "stderr",
     "output_type": "stream",
     "text": [
      "304it [01:35,  3.35it/s]"
     ]
    },
    {
     "name": "stdout",
     "output_type": "stream",
     "text": [
      "heatmap:  (244, 324)\n",
      "heatmap:  (244, 324)\n",
      "matches:  (37, 4)\n",
      "pts:  (3, 424) , desc:  (256, 424)\n"
     ]
    },
    {
     "name": "stderr",
     "output_type": "stream",
     "text": [
      "305it [01:35,  3.41it/s]"
     ]
    },
    {
     "name": "stdout",
     "output_type": "stream",
     "text": [
      "heatmap:  (244, 324)\n",
      "heatmap:  (244, 324)\n",
      "matches:  (246, 4)\n",
      "pts:  (3, 422) , desc:  (256, 422)\n"
     ]
    },
    {
     "name": "stderr",
     "output_type": "stream",
     "text": [
      "306it [01:36,  3.38it/s]"
     ]
    },
    {
     "name": "stdout",
     "output_type": "stream",
     "text": [
      "heatmap:  (244, 324)\n",
      "heatmap:  (244, 324)\n",
      "matches:  (318, 4)\n",
      "pts:  (3, 489) , desc:  (256, 489)\n"
     ]
    },
    {
     "name": "stderr",
     "output_type": "stream",
     "text": [
      "307it [01:36,  3.38it/s]"
     ]
    },
    {
     "name": "stdout",
     "output_type": "stream",
     "text": [
      "heatmap:  (244, 324)\n",
      "heatmap:  (244, 324)\n",
      "matches:  (259, 4)\n",
      "pts:  (3, 490) , desc:  (256, 490)\n"
     ]
    },
    {
     "name": "stderr",
     "output_type": "stream",
     "text": [
      "308it [01:36,  3.38it/s]"
     ]
    },
    {
     "name": "stdout",
     "output_type": "stream",
     "text": [
      "heatmap:  (244, 324)\n",
      "heatmap:  (244, 324)\n",
      "matches:  (185, 4)\n",
      "pts:  (3, 486) , desc:  (256, 486)\n"
     ]
    },
    {
     "name": "stderr",
     "output_type": "stream",
     "text": [
      "309it [01:37,  3.34it/s]"
     ]
    },
    {
     "name": "stdout",
     "output_type": "stream",
     "text": [
      "heatmap:  (244, 324)\n",
      "heatmap:  (244, 324)\n",
      "matches:  (147, 4)\n",
      "pts:  (3, 488) , desc:  (256, 488)\n"
     ]
    },
    {
     "name": "stderr",
     "output_type": "stream",
     "text": [
      "310it [01:37,  3.25it/s]"
     ]
    },
    {
     "name": "stdout",
     "output_type": "stream",
     "text": [
      "heatmap:  (244, 324)\n",
      "heatmap:  (244, 324)\n",
      "matches:  (368, 4)\n",
      "pts:  (3, 469) , desc:  (256, 469)\n"
     ]
    },
    {
     "name": "stderr",
     "output_type": "stream",
     "text": [
      "311it [01:37,  3.30it/s]"
     ]
    },
    {
     "name": "stdout",
     "output_type": "stream",
     "text": [
      "heatmap:  (244, 324)\n",
      "heatmap:  (244, 324)\n",
      "matches:  (340, 4)\n",
      "pts:  (3, 386) , desc:  (256, 386)\n"
     ]
    },
    {
     "name": "stderr",
     "output_type": "stream",
     "text": [
      "312it [01:38,  3.34it/s]"
     ]
    },
    {
     "name": "stdout",
     "output_type": "stream",
     "text": [
      "heatmap:  (244, 324)\n",
      "heatmap:  (244, 324)\n",
      "matches:  (340, 4)\n",
      "pts:  (3, 387) , desc:  (256, 387)\n"
     ]
    },
    {
     "name": "stderr",
     "output_type": "stream",
     "text": [
      "313it [01:38,  3.34it/s]"
     ]
    },
    {
     "name": "stdout",
     "output_type": "stream",
     "text": [
      "heatmap:  (244, 324)\n",
      "heatmap:  (244, 324)\n",
      "matches:  (333, 4)\n",
      "pts:  (3, 404) , desc:  (256, 404)\n"
     ]
    },
    {
     "name": "stderr",
     "output_type": "stream",
     "text": [
      "314it [01:38,  3.37it/s]"
     ]
    },
    {
     "name": "stdout",
     "output_type": "stream",
     "text": [
      "heatmap:  (244, 324)\n",
      "heatmap:  (244, 324)\n",
      "matches:  (216, 4)\n",
      "pts:  (3, 397) , desc:  (256, 397)\n"
     ]
    },
    {
     "name": "stderr",
     "output_type": "stream",
     "text": [
      "315it [01:38,  3.36it/s]"
     ]
    },
    {
     "name": "stdout",
     "output_type": "stream",
     "text": [
      "heatmap:  (244, 324)\n",
      "heatmap:  (244, 324)\n",
      "matches:  (282, 4)\n",
      "pts:  (3, 407) , desc:  (256, 407)\n"
     ]
    },
    {
     "name": "stderr",
     "output_type": "stream",
     "text": [
      "316it [01:39,  3.33it/s]"
     ]
    },
    {
     "name": "stdout",
     "output_type": "stream",
     "text": [
      "heatmap:  (244, 324)\n",
      "heatmap:  (244, 324)\n",
      "matches:  (242, 4)\n",
      "pts:  (3, 302) , desc:  (256, 302)\n"
     ]
    },
    {
     "name": "stderr",
     "output_type": "stream",
     "text": [
      "317it [01:39,  3.24it/s]"
     ]
    },
    {
     "name": "stdout",
     "output_type": "stream",
     "text": [
      "heatmap:  (244, 324)\n",
      "heatmap:  (244, 324)\n",
      "matches:  (242, 4)\n",
      "pts:  (3, 300) , desc:  (256, 300)\n"
     ]
    },
    {
     "name": "stderr",
     "output_type": "stream",
     "text": [
      "318it [01:39,  3.30it/s]"
     ]
    },
    {
     "name": "stdout",
     "output_type": "stream",
     "text": [
      "heatmap:  (244, 324)\n",
      "heatmap:  (244, 324)\n",
      "matches:  (150, 4)\n",
      "pts:  (3, 297) , desc:  (256, 297)\n"
     ]
    },
    {
     "name": "stderr",
     "output_type": "stream",
     "text": [
      "319it [01:40,  3.31it/s]"
     ]
    },
    {
     "name": "stdout",
     "output_type": "stream",
     "text": [
      "heatmap:  (244, 324)\n",
      "heatmap:  (244, 324)\n",
      "matches:  (198, 4)\n",
      "pts:  (3, 310) , desc:  (256, 310)\n"
     ]
    },
    {
     "name": "stderr",
     "output_type": "stream",
     "text": [
      "320it [01:40,  3.30it/s]"
     ]
    },
    {
     "name": "stdout",
     "output_type": "stream",
     "text": [
      "heatmap:  (244, 324)\n",
      "heatmap:  (244, 324)\n",
      "matches:  (109, 4)\n",
      "pts:  (3, 326) , desc:  (256, 326)\n"
     ]
    },
    {
     "name": "stderr",
     "output_type": "stream",
     "text": [
      "321it [01:40,  3.31it/s]"
     ]
    },
    {
     "name": "stdout",
     "output_type": "stream",
     "text": [
      "heatmap:  (244, 324)\n",
      "heatmap:  (244, 324)\n",
      "matches:  (216, 4)\n",
      "pts:  (3, 464) , desc:  (256, 464)\n"
     ]
    },
    {
     "name": "stderr",
     "output_type": "stream",
     "text": [
      "322it [01:41,  3.33it/s]"
     ]
    },
    {
     "name": "stdout",
     "output_type": "stream",
     "text": [
      "heatmap:  (244, 324)\n",
      "heatmap:  (244, 324)\n",
      "matches:  (377, 4)\n",
      "pts:  (3, 442) , desc:  (256, 442)\n"
     ]
    },
    {
     "name": "stderr",
     "output_type": "stream",
     "text": [
      "323it [01:41,  3.38it/s]"
     ]
    },
    {
     "name": "stdout",
     "output_type": "stream",
     "text": [
      "heatmap:  (244, 324)\n",
      "heatmap:  (244, 324)\n",
      "matches:  (173, 4)\n",
      "pts:  (3, 457) , desc:  (256, 457)\n"
     ]
    },
    {
     "name": "stderr",
     "output_type": "stream",
     "text": [
      "324it [01:41,  3.39it/s]"
     ]
    },
    {
     "name": "stdout",
     "output_type": "stream",
     "text": [
      "heatmap:  (244, 324)\n",
      "heatmap:  (244, 324)\n",
      "matches:  (388, 4)\n",
      "pts:  (3, 463) , desc:  (256, 463)\n"
     ]
    },
    {
     "name": "stderr",
     "output_type": "stream",
     "text": [
      "325it [01:41,  3.39it/s]"
     ]
    },
    {
     "name": "stdout",
     "output_type": "stream",
     "text": [
      "heatmap:  (244, 324)\n",
      "heatmap:  (244, 324)\n",
      "matches:  (239, 4)\n",
      "pts:  (3, 462) , desc:  (256, 462)\n"
     ]
    },
    {
     "name": "stderr",
     "output_type": "stream",
     "text": [
      "326it [01:42,  3.34it/s]"
     ]
    },
    {
     "name": "stdout",
     "output_type": "stream",
     "text": [
      "heatmap:  (244, 324)\n",
      "heatmap:  (244, 324)\n",
      "matches:  (240, 4)\n",
      "pts:  (3, 456) , desc:  (256, 456)\n"
     ]
    },
    {
     "name": "stderr",
     "output_type": "stream",
     "text": [
      "327it [01:42,  3.37it/s]"
     ]
    },
    {
     "name": "stdout",
     "output_type": "stream",
     "text": [
      "heatmap:  (244, 324)\n",
      "heatmap:  (244, 324)\n",
      "matches:  (175, 4)\n",
      "pts:  (3, 458) , desc:  (256, 458)\n"
     ]
    },
    {
     "name": "stderr",
     "output_type": "stream",
     "text": [
      "328it [01:42,  3.33it/s]"
     ]
    },
    {
     "name": "stdout",
     "output_type": "stream",
     "text": [
      "heatmap:  (244, 324)\n",
      "heatmap:  (244, 324)\n",
      "matches:  (175, 4)\n",
      "pts:  (3, 464) , desc:  (256, 464)\n",
      "heatmap:  (244, 324)\n",
      "heatmap:  (244, 324)\n",
      "matches:  (164, 4)\n",
      "pts:  (3, 480) , desc:  (256, 480)\n"
     ]
    },
    {
     "name": "stderr",
     "output_type": "stream",
     "text": [
      "330it [01:43,  3.20it/s]"
     ]
    },
    {
     "name": "stdout",
     "output_type": "stream",
     "text": [
      "heatmap:  (244, 324)\n",
      "heatmap:  (244, 324)\n",
      "matches:  (254, 4)\n",
      "pts:  (3, 432) , desc:  (256, 432)\n"
     ]
    },
    {
     "name": "stderr",
     "output_type": "stream",
     "text": [
      "331it [01:43,  3.29it/s]"
     ]
    },
    {
     "name": "stdout",
     "output_type": "stream",
     "text": [
      "heatmap:  (244, 324)\n",
      "heatmap:  (244, 324)\n",
      "matches:  (338, 4)\n",
      "pts:  (3, 422) , desc:  (256, 422)\n"
     ]
    },
    {
     "name": "stderr",
     "output_type": "stream",
     "text": [
      "332it [01:44,  3.28it/s]"
     ]
    },
    {
     "name": "stdout",
     "output_type": "stream",
     "text": [
      "heatmap:  (244, 324)\n",
      "heatmap:  (244, 324)\n",
      "matches:  (301, 4)\n",
      "pts:  (3, 497) , desc:  (256, 497)\n"
     ]
    },
    {
     "name": "stderr",
     "output_type": "stream",
     "text": [
      "333it [01:44,  3.24it/s]"
     ]
    },
    {
     "name": "stdout",
     "output_type": "stream",
     "text": [
      "heatmap:  (244, 324)\n",
      "heatmap:  (244, 324)\n",
      "matches:  (336, 4)\n",
      "pts:  (3, 474) , desc:  (256, 474)\n"
     ]
    },
    {
     "name": "stderr",
     "output_type": "stream",
     "text": [
      "334it [01:44,  3.30it/s]"
     ]
    },
    {
     "name": "stdout",
     "output_type": "stream",
     "text": [
      "heatmap:  (244, 324)\n",
      "heatmap:  (244, 324)\n",
      "matches:  (101, 4)\n",
      "pts:  (3, 481) , desc:  (256, 481)\n"
     ]
    },
    {
     "name": "stderr",
     "output_type": "stream",
     "text": [
      "335it [01:45,  3.32it/s]"
     ]
    },
    {
     "name": "stdout",
     "output_type": "stream",
     "text": [
      "heatmap:  (244, 324)\n",
      "heatmap:  (244, 324)\n",
      "matches:  (83, 4)\n",
      "pts:  (3, 473) , desc:  (256, 473)\n"
     ]
    },
    {
     "name": "stderr",
     "output_type": "stream",
     "text": [
      "336it [01:45,  3.39it/s]"
     ]
    },
    {
     "name": "stdout",
     "output_type": "stream",
     "text": [
      "heatmap:  (244, 324)\n",
      "heatmap:  (244, 324)\n",
      "matches:  (208, 4)\n",
      "pts:  (3, 325) , desc:  (256, 325)\n"
     ]
    },
    {
     "name": "stderr",
     "output_type": "stream",
     "text": [
      "337it [01:45,  3.40it/s]"
     ]
    },
    {
     "name": "stdout",
     "output_type": "stream",
     "text": [
      "heatmap:  (244, 324)\n",
      "heatmap:  (244, 324)\n",
      "matches:  (200, 4)\n",
      "pts:  (3, 327) , desc:  (256, 327)\n"
     ]
    },
    {
     "name": "stderr",
     "output_type": "stream",
     "text": [
      "338it [01:45,  3.42it/s]"
     ]
    },
    {
     "name": "stdout",
     "output_type": "stream",
     "text": [
      "heatmap:  (244, 324)\n",
      "heatmap:  (244, 324)\n",
      "matches:  (121, 4)\n",
      "pts:  (3, 335) , desc:  (256, 335)\n"
     ]
    },
    {
     "name": "stderr",
     "output_type": "stream",
     "text": [
      "339it [01:46,  3.38it/s]"
     ]
    },
    {
     "name": "stdout",
     "output_type": "stream",
     "text": [
      "heatmap:  (244, 324)\n",
      "heatmap:  (244, 324)\n",
      "matches:  (109, 4)\n",
      "pts:  (3, 326) , desc:  (256, 326)\n"
     ]
    },
    {
     "name": "stderr",
     "output_type": "stream",
     "text": [
      "340it [01:46,  3.45it/s]"
     ]
    },
    {
     "name": "stdout",
     "output_type": "stream",
     "text": [
      "heatmap:  (244, 324)\n",
      "heatmap:  (244, 324)\n",
      "matches:  (212, 4)\n",
      "pts:  (3, 333) , desc:  (256, 333)\n"
     ]
    },
    {
     "name": "stderr",
     "output_type": "stream",
     "text": [
      "341it [01:46,  3.53it/s]"
     ]
    },
    {
     "name": "stdout",
     "output_type": "stream",
     "text": [
      "heatmap:  (244, 324)\n",
      "heatmap:  (244, 324)\n",
      "matches:  (223, 4)\n",
      "pts:  (3, 306) , desc:  (256, 306)\n"
     ]
    },
    {
     "name": "stderr",
     "output_type": "stream",
     "text": [
      "342it [01:46,  3.53it/s]"
     ]
    },
    {
     "name": "stdout",
     "output_type": "stream",
     "text": [
      "heatmap:  (244, 324)\n",
      "heatmap:  (244, 324)\n",
      "matches:  (189, 4)\n",
      "pts:  (3, 306) , desc:  (256, 306)\n"
     ]
    },
    {
     "name": "stderr",
     "output_type": "stream",
     "text": [
      "343it [01:47,  3.53it/s]"
     ]
    },
    {
     "name": "stdout",
     "output_type": "stream",
     "text": [
      "heatmap:  (244, 324)\n",
      "heatmap:  (244, 324)\n",
      "matches:  (144, 4)\n",
      "pts:  (3, 326) , desc:  (256, 326)\n"
     ]
    },
    {
     "name": "stderr",
     "output_type": "stream",
     "text": [
      "344it [01:47,  3.55it/s]"
     ]
    },
    {
     "name": "stdout",
     "output_type": "stream",
     "text": [
      "heatmap:  (244, 324)\n",
      "heatmap:  (244, 324)\n",
      "matches:  (90, 4)\n",
      "pts:  (3, 312) , desc:  (256, 312)\n"
     ]
    },
    {
     "name": "stderr",
     "output_type": "stream",
     "text": [
      "345it [01:47,  3.52it/s]"
     ]
    },
    {
     "name": "stdout",
     "output_type": "stream",
     "text": [
      "heatmap:  (244, 324)\n",
      "heatmap:  (244, 324)\n",
      "matches:  (56, 4)\n",
      "pts:  (3, 330) , desc:  (256, 330)\n"
     ]
    },
    {
     "name": "stderr",
     "output_type": "stream",
     "text": [
      "346it [01:48,  3.50it/s]"
     ]
    },
    {
     "name": "stdout",
     "output_type": "stream",
     "text": [
      "heatmap:  (244, 324)\n",
      "heatmap:  (244, 324)\n",
      "matches:  (336, 4)\n",
      "pts:  (3, 428) , desc:  (256, 428)\n"
     ]
    },
    {
     "name": "stderr",
     "output_type": "stream",
     "text": [
      "347it [01:48,  3.30it/s]"
     ]
    },
    {
     "name": "stdout",
     "output_type": "stream",
     "text": [
      "heatmap:  (244, 324)\n",
      "heatmap:  (244, 324)\n",
      "matches:  (294, 4)\n",
      "pts:  (3, 422) , desc:  (256, 422)\n"
     ]
    },
    {
     "name": "stderr",
     "output_type": "stream",
     "text": [
      "348it [01:48,  3.20it/s]"
     ]
    },
    {
     "name": "stdout",
     "output_type": "stream",
     "text": [
      "heatmap:  (244, 324)\n",
      "heatmap:  (244, 324)\n",
      "matches:  (265, 4)\n",
      "pts:  (3, 435) , desc:  (256, 435)\n"
     ]
    },
    {
     "name": "stderr",
     "output_type": "stream",
     "text": [
      "349it [01:49,  3.21it/s]"
     ]
    },
    {
     "name": "stdout",
     "output_type": "stream",
     "text": [
      "heatmap:  (244, 324)\n",
      "heatmap:  (244, 324)\n",
      "matches:  (224, 4)\n",
      "pts:  (3, 418) , desc:  (256, 418)\n"
     ]
    },
    {
     "name": "stderr",
     "output_type": "stream",
     "text": [
      "350it [01:49,  3.24it/s]"
     ]
    },
    {
     "name": "stdout",
     "output_type": "stream",
     "text": [
      "heatmap:  (244, 324)\n",
      "heatmap:  (244, 324)\n",
      "matches:  (205, 4)\n",
      "pts:  (3, 411) , desc:  (256, 411)\n",
      "heatmap:  (244, 324)\n",
      "heatmap:  (244, 324)\n"
     ]
    },
    {
     "name": "stderr",
     "output_type": "stream",
     "text": [
      "351it [01:49,  2.73it/s]"
     ]
    },
    {
     "name": "stdout",
     "output_type": "stream",
     "text": [
      "matches:  (304, 4)\n",
      "pts:  (3, 403) , desc:  (256, 403)\n"
     ]
    },
    {
     "name": "stderr",
     "output_type": "stream",
     "text": [
      "352it [01:50,  2.93it/s]"
     ]
    },
    {
     "name": "stdout",
     "output_type": "stream",
     "text": [
      "heatmap:  (244, 324)\n",
      "heatmap:  (244, 324)\n",
      "matches:  (236, 4)\n",
      "pts:  (3, 406) , desc:  (256, 406)\n"
     ]
    },
    {
     "name": "stderr",
     "output_type": "stream",
     "text": [
      "353it [01:50,  2.97it/s]"
     ]
    },
    {
     "name": "stdout",
     "output_type": "stream",
     "text": [
      "heatmap:  (244, 324)\n",
      "heatmap:  (244, 324)\n",
      "matches:  (148, 4)\n",
      "pts:  (3, 402) , desc:  (256, 402)\n"
     ]
    },
    {
     "name": "stderr",
     "output_type": "stream",
     "text": [
      "354it [01:50,  3.12it/s]"
     ]
    },
    {
     "name": "stdout",
     "output_type": "stream",
     "text": [
      "heatmap:  (244, 324)\n",
      "heatmap:  (244, 324)\n",
      "matches:  (79, 4)\n",
      "pts:  (3, 390) , desc:  (256, 390)\n"
     ]
    },
    {
     "name": "stderr",
     "output_type": "stream",
     "text": [
      "355it [01:51,  3.17it/s]"
     ]
    },
    {
     "name": "stdout",
     "output_type": "stream",
     "text": [
      "heatmap:  (244, 324)\n",
      "heatmap:  (244, 324)\n",
      "matches:  (32, 4)\n",
      "pts:  (3, 370) , desc:  (256, 370)\n"
     ]
    },
    {
     "name": "stderr",
     "output_type": "stream",
     "text": [
      "356it [01:51,  3.28it/s]"
     ]
    },
    {
     "name": "stdout",
     "output_type": "stream",
     "text": [
      "heatmap:  (244, 324)\n",
      "heatmap:  (244, 324)\n",
      "matches:  (128, 4)\n",
      "pts:  (3, 367) , desc:  (256, 367)\n"
     ]
    },
    {
     "name": "stderr",
     "output_type": "stream",
     "text": [
      "357it [01:51,  3.27it/s]"
     ]
    },
    {
     "name": "stdout",
     "output_type": "stream",
     "text": [
      "heatmap:  (244, 324)\n",
      "heatmap:  (244, 324)\n",
      "matches:  (160, 4)\n",
      "pts:  (3, 360) , desc:  (256, 360)\n"
     ]
    },
    {
     "name": "stderr",
     "output_type": "stream",
     "text": [
      "358it [01:52,  3.23it/s]"
     ]
    },
    {
     "name": "stdout",
     "output_type": "stream",
     "text": [
      "heatmap:  (244, 324)\n",
      "heatmap:  (244, 324)\n",
      "matches:  (152, 4)\n",
      "pts:  (3, 355) , desc:  (256, 355)\n"
     ]
    },
    {
     "name": "stderr",
     "output_type": "stream",
     "text": [
      "359it [01:52,  3.31it/s]"
     ]
    },
    {
     "name": "stdout",
     "output_type": "stream",
     "text": [
      "heatmap:  (244, 324)\n",
      "heatmap:  (244, 324)\n",
      "matches:  (77, 4)\n",
      "pts:  (3, 358) , desc:  (256, 358)\n"
     ]
    },
    {
     "name": "stderr",
     "output_type": "stream",
     "text": [
      "360it [01:52,  3.22it/s]"
     ]
    },
    {
     "name": "stdout",
     "output_type": "stream",
     "text": [
      "heatmap:  (244, 324)\n",
      "heatmap:  (244, 324)\n",
      "matches:  (90, 4)\n",
      "pts:  (3, 389) , desc:  (256, 389)\n"
     ]
    },
    {
     "name": "stderr",
     "output_type": "stream",
     "text": [
      "361it [01:52,  3.30it/s]"
     ]
    },
    {
     "name": "stdout",
     "output_type": "stream",
     "text": [
      "heatmap:  (244, 324)\n",
      "heatmap:  (244, 324)\n",
      "matches:  (326, 4)\n",
      "pts:  (3, 498) , desc:  (256, 498)\n"
     ]
    },
    {
     "name": "stderr",
     "output_type": "stream",
     "text": [
      "362it [01:53,  3.30it/s]"
     ]
    },
    {
     "name": "stdout",
     "output_type": "stream",
     "text": [
      "heatmap:  (244, 324)\n",
      "heatmap:  (244, 324)\n",
      "matches:  (248, 4)\n",
      "pts:  (3, 465) , desc:  (256, 465)\n"
     ]
    },
    {
     "name": "stderr",
     "output_type": "stream",
     "text": [
      "363it [01:53,  3.29it/s]"
     ]
    },
    {
     "name": "stdout",
     "output_type": "stream",
     "text": [
      "heatmap:  (244, 324)\n",
      "heatmap:  (244, 324)\n",
      "matches:  (133, 4)\n",
      "pts:  (3, 440) , desc:  (256, 440)\n"
     ]
    },
    {
     "name": "stderr",
     "output_type": "stream",
     "text": [
      "364it [01:53,  3.25it/s]"
     ]
    },
    {
     "name": "stdout",
     "output_type": "stream",
     "text": [
      "heatmap:  (244, 324)\n",
      "heatmap:  (244, 324)\n",
      "matches:  (89, 4)\n",
      "pts:  (3, 419) , desc:  (256, 419)\n",
      "heatmap:  (244, 324)\n",
      "heatmap:  (244, 324)\n",
      "matches:  (27, 4)\n",
      "pts:  (3, 443) , desc:  (256, 443)\n"
     ]
    },
    {
     "name": "stderr",
     "output_type": "stream",
     "text": [
      "365it [01:54,  3.01it/s]"
     ]
    },
    {
     "name": "stdout",
     "output_type": "stream",
     "text": [
      "heatmap:  (244, 324)\n",
      "heatmap:  (244, 324)\n",
      "matches:  (177, 4)\n",
      "pts:  (3, 485) , desc:  (256, 485)\n"
     ]
    },
    {
     "name": "stderr",
     "output_type": "stream",
     "text": [
      "367it [01:54,  2.98it/s]"
     ]
    },
    {
     "name": "stdout",
     "output_type": "stream",
     "text": [
      "heatmap:  (244, 324)\n",
      "heatmap:  (244, 324)\n",
      "matches:  (36, 4)\n",
      "pts:  (3, 459) , desc:  (256, 459)\n"
     ]
    },
    {
     "name": "stderr",
     "output_type": "stream",
     "text": [
      "368it [01:55,  2.99it/s]"
     ]
    },
    {
     "name": "stdout",
     "output_type": "stream",
     "text": [
      "heatmap:  (244, 324)\n",
      "heatmap:  (244, 324)\n",
      "matches:  (309, 4)\n",
      "pts:  (3, 503) , desc:  (256, 503)\n"
     ]
    },
    {
     "name": "stderr",
     "output_type": "stream",
     "text": [
      "369it [01:55,  3.02it/s]"
     ]
    },
    {
     "name": "stdout",
     "output_type": "stream",
     "text": [
      "heatmap:  (244, 324)\n",
      "heatmap:  (244, 324)\n",
      "matches:  (63, 4)\n",
      "pts:  (3, 475) , desc:  (256, 475)\n"
     ]
    },
    {
     "name": "stderr",
     "output_type": "stream",
     "text": [
      "370it [01:55,  3.15it/s]"
     ]
    },
    {
     "name": "stdout",
     "output_type": "stream",
     "text": [
      "heatmap:  (244, 324)\n",
      "heatmap:  (244, 324)\n",
      "matches:  (277, 4)\n",
      "pts:  (3, 457) , desc:  (256, 457)\n"
     ]
    },
    {
     "name": "stderr",
     "output_type": "stream",
     "text": [
      "371it [01:56,  3.35it/s]"
     ]
    },
    {
     "name": "stdout",
     "output_type": "stream",
     "text": [
      "heatmap:  (244, 324)\n",
      "heatmap:  (244, 324)\n",
      "matches:  (176, 4)\n",
      "pts:  (3, 246) , desc:  (256, 246)\n"
     ]
    },
    {
     "name": "stderr",
     "output_type": "stream",
     "text": [
      "372it [01:56,  3.57it/s]"
     ]
    },
    {
     "name": "stdout",
     "output_type": "stream",
     "text": [
      "heatmap:  (244, 324)\n",
      "heatmap:  (244, 324)\n",
      "matches:  (141, 4)\n",
      "pts:  (3, 217) , desc:  (256, 217)\n"
     ]
    },
    {
     "name": "stderr",
     "output_type": "stream",
     "text": [
      "373it [01:56,  3.58it/s]"
     ]
    },
    {
     "name": "stdout",
     "output_type": "stream",
     "text": [
      "heatmap:  (244, 324)\n",
      "heatmap:  (244, 324)\n",
      "matches:  (238, 4)\n",
      "pts:  (3, 296) , desc:  (256, 296)\n"
     ]
    },
    {
     "name": "stderr",
     "output_type": "stream",
     "text": [
      "374it [01:56,  3.65it/s]"
     ]
    },
    {
     "name": "stdout",
     "output_type": "stream",
     "text": [
      "heatmap:  (244, 324)\n",
      "heatmap:  (244, 324)\n",
      "matches:  (106, 4)\n",
      "pts:  (3, 312) , desc:  (256, 312)\n"
     ]
    },
    {
     "name": "stderr",
     "output_type": "stream",
     "text": [
      "375it [01:57,  3.77it/s]"
     ]
    },
    {
     "name": "stdout",
     "output_type": "stream",
     "text": [
      "heatmap:  (244, 324)\n",
      "heatmap:  (244, 324)\n",
      "matches:  (176, 4)\n",
      "pts:  (3, 274) , desc:  (256, 274)\n"
     ]
    },
    {
     "name": "stderr",
     "output_type": "stream",
     "text": [
      "376it [01:57,  3.72it/s]"
     ]
    },
    {
     "name": "stdout",
     "output_type": "stream",
     "text": [
      "heatmap:  (244, 324)\n",
      "heatmap:  (244, 324)\n",
      "matches:  (190, 4)\n",
      "pts:  (3, 350) , desc:  (256, 350)\n"
     ]
    },
    {
     "name": "stderr",
     "output_type": "stream",
     "text": [
      "377it [01:57,  3.52it/s]"
     ]
    },
    {
     "name": "stdout",
     "output_type": "stream",
     "text": [
      "heatmap:  (244, 324)\n",
      "heatmap:  (244, 324)\n",
      "matches:  (302, 4)\n",
      "pts:  (3, 416) , desc:  (256, 416)\n"
     ]
    },
    {
     "name": "stderr",
     "output_type": "stream",
     "text": [
      "378it [01:58,  3.46it/s]"
     ]
    },
    {
     "name": "stdout",
     "output_type": "stream",
     "text": [
      "heatmap:  (244, 324)\n",
      "heatmap:  (244, 324)\n",
      "matches:  (314, 4)\n",
      "pts:  (3, 405) , desc:  (256, 405)\n"
     ]
    },
    {
     "name": "stderr",
     "output_type": "stream",
     "text": [
      "379it [01:58,  3.45it/s]"
     ]
    },
    {
     "name": "stdout",
     "output_type": "stream",
     "text": [
      "heatmap:  (244, 324)\n",
      "heatmap:  (244, 324)\n",
      "matches:  (321, 4)\n",
      "pts:  (3, 398) , desc:  (256, 398)\n",
      "heatmap:  (244, 324)\n",
      "heatmap:  (244, 324)\n"
     ]
    },
    {
     "name": "stderr",
     "output_type": "stream",
     "text": [
      "380it [01:58,  3.06it/s]"
     ]
    },
    {
     "name": "stdout",
     "output_type": "stream",
     "text": [
      "matches:  (284, 4)\n",
      "pts:  (3, 401) , desc:  (256, 401)\n",
      "heatmap:  (244, 324)\n"
     ]
    },
    {
     "name": "stderr",
     "output_type": "stream",
     "text": [
      "381it [01:58,  3.27it/s]"
     ]
    },
    {
     "name": "stdout",
     "output_type": "stream",
     "text": [
      "heatmap:  (244, 324)\n",
      "matches:  (312, 4)\n",
      "pts:  (3, 362) , desc:  (256, 362)\n"
     ]
    },
    {
     "name": "stderr",
     "output_type": "stream",
     "text": [
      "382it [01:59,  3.17it/s]"
     ]
    },
    {
     "name": "stdout",
     "output_type": "stream",
     "text": [
      "heatmap:  (244, 324)\n",
      "heatmap:  (244, 324)\n",
      "matches:  (305, 4)\n",
      "pts:  (3, 380) , desc:  (256, 380)\n"
     ]
    },
    {
     "name": "stderr",
     "output_type": "stream",
     "text": [
      "383it [01:59,  3.00it/s]"
     ]
    },
    {
     "name": "stdout",
     "output_type": "stream",
     "text": [
      "heatmap:  (244, 324)\n",
      "heatmap:  (244, 324)\n",
      "matches:  (304, 4)\n",
      "pts:  (3, 386) , desc:  (256, 386)\n",
      "heatmap:  (244, 324)\n",
      "heatmap:  (244, 324)\n",
      "matches:  (282, 4)\n",
      "pts:  (3, 389) , desc:  (256, 389)\n"
     ]
    },
    {
     "name": "stderr",
     "output_type": "stream",
     "text": [
      "384it [02:00,  2.81it/s]"
     ]
    },
    {
     "name": "stdout",
     "output_type": "stream",
     "text": [
      "heatmap:  (244, 324)\n",
      "heatmap:  (244, 324)\n",
      "matches:  (220, 4)\n",
      "pts:  (3, 380) , desc:  (256, 380)\n"
     ]
    },
    {
     "name": "stderr",
     "output_type": "stream",
     "text": [
      "385it [02:00,  2.82it/s]"
     ]
    },
    {
     "name": "stdout",
     "output_type": "stream",
     "text": [
      "heatmap:  (244, 324)\n",
      "heatmap:  (244, 324)\n",
      "matches:  (325, 4)\n",
      "pts:  (3, 475) , desc:  (256, 475)\n"
     ]
    },
    {
     "name": "stderr",
     "output_type": "stream",
     "text": [
      "387it [02:01,  2.98it/s]"
     ]
    },
    {
     "name": "stdout",
     "output_type": "stream",
     "text": [
      "heatmap:  (244, 324)\n",
      "heatmap:  (244, 324)\n",
      "matches:  (228, 4)\n",
      "pts:  (3, 436) , desc:  (256, 436)\n"
     ]
    },
    {
     "name": "stderr",
     "output_type": "stream",
     "text": [
      "388it [02:01,  3.06it/s]"
     ]
    },
    {
     "name": "stdout",
     "output_type": "stream",
     "text": [
      "heatmap:  (244, 324)\n",
      "heatmap:  (244, 324)\n",
      "matches:  (165, 4)\n",
      "pts:  (3, 431) , desc:  (256, 431)\n"
     ]
    },
    {
     "name": "stderr",
     "output_type": "stream",
     "text": [
      "389it [02:01,  3.23it/s]"
     ]
    },
    {
     "name": "stdout",
     "output_type": "stream",
     "text": [
      "heatmap:  (244, 324)\n",
      "heatmap:  (244, 324)\n",
      "matches:  (120, 4)\n",
      "pts:  (3, 373) , desc:  (256, 373)\n"
     ]
    },
    {
     "name": "stderr",
     "output_type": "stream",
     "text": [
      "390it [02:01,  3.32it/s]"
     ]
    },
    {
     "name": "stdout",
     "output_type": "stream",
     "text": [
      "heatmap:  (244, 324)\n",
      "heatmap:  (244, 324)\n",
      "matches:  (107, 4)\n",
      "pts:  (3, 356) , desc:  (256, 356)\n"
     ]
    },
    {
     "name": "stderr",
     "output_type": "stream",
     "text": [
      "391it [02:02,  3.37it/s]"
     ]
    },
    {
     "name": "stdout",
     "output_type": "stream",
     "text": [
      "heatmap:  (244, 324)\n",
      "heatmap:  (244, 324)\n",
      "matches:  (86, 4)\n",
      "pts:  (3, 401) , desc:  (256, 401)\n"
     ]
    },
    {
     "name": "stderr",
     "output_type": "stream",
     "text": [
      "392it [02:02,  3.42it/s]"
     ]
    },
    {
     "name": "stdout",
     "output_type": "stream",
     "text": [
      "heatmap:  (244, 324)\n",
      "heatmap:  (244, 324)\n",
      "matches:  (68, 4)\n",
      "pts:  (3, 467) , desc:  (256, 467)\n"
     ]
    },
    {
     "name": "stderr",
     "output_type": "stream",
     "text": [
      "393it [02:02,  3.50it/s]"
     ]
    },
    {
     "name": "stdout",
     "output_type": "stream",
     "text": [
      "heatmap:  (244, 324)\n",
      "heatmap:  (244, 324)\n",
      "matches:  (93, 4)\n",
      "pts:  (3, 389) , desc:  (256, 389)\n"
     ]
    },
    {
     "name": "stderr",
     "output_type": "stream",
     "text": [
      "394it [02:03,  3.43it/s]"
     ]
    },
    {
     "name": "stdout",
     "output_type": "stream",
     "text": [
      "heatmap:  (244, 324)\n",
      "heatmap:  (244, 324)\n",
      "matches:  (73, 4)\n",
      "pts:  (3, 408) , desc:  (256, 408)\n"
     ]
    },
    {
     "name": "stderr",
     "output_type": "stream",
     "text": [
      "395it [02:03,  3.35it/s]"
     ]
    },
    {
     "name": "stdout",
     "output_type": "stream",
     "text": [
      "heatmap:  (244, 324)\n",
      "heatmap:  (244, 324)\n",
      "matches:  (18, 4)\n",
      "pts:  (3, 425) , desc:  (256, 425)\n"
     ]
    },
    {
     "name": "stderr",
     "output_type": "stream",
     "text": [
      "396it [02:03,  3.13it/s]"
     ]
    },
    {
     "name": "stdout",
     "output_type": "stream",
     "text": [
      "heatmap:  (244, 324)\n",
      "heatmap:  (244, 324)\n",
      "matches:  (227, 4)\n",
      "pts:  (3, 483) , desc:  (256, 483)\n"
     ]
    },
    {
     "name": "stderr",
     "output_type": "stream",
     "text": [
      "397it [02:04,  3.07it/s]"
     ]
    },
    {
     "name": "stdout",
     "output_type": "stream",
     "text": [
      "heatmap:  (244, 324)\n",
      "heatmap:  (244, 324)\n",
      "matches:  (280, 4)\n",
      "pts:  (3, 493) , desc:  (256, 493)\n",
      "heatmap:  (244, 324)\n",
      "heatmap:  (244, 324)\n",
      "matches:  (98, 4)\n",
      "pts:  (3, 428) , desc:  (256, 428)\n"
     ]
    },
    {
     "name": "stderr",
     "output_type": "stream",
     "text": [
      "398it [02:04,  2.91it/s]"
     ]
    },
    {
     "name": "stdout",
     "output_type": "stream",
     "text": [
      "heatmap:  (244, 324)\n",
      "heatmap:  (244, 324)\n",
      "matches:  (159, 4)\n",
      "pts:  (3, 476) , desc:  (256, 476)\n"
     ]
    },
    {
     "name": "stderr",
     "output_type": "stream",
     "text": [
      "400it [02:05,  2.99it/s]"
     ]
    },
    {
     "name": "stdout",
     "output_type": "stream",
     "text": [
      "heatmap:  (244, 324)\n",
      "heatmap:  (244, 324)\n",
      "matches:  (288, 4)\n",
      "pts:  (3, 491) , desc:  (256, 491)\n"
     ]
    },
    {
     "name": "stderr",
     "output_type": "stream",
     "text": [
      "401it [02:05,  3.03it/s]"
     ]
    },
    {
     "name": "stdout",
     "output_type": "stream",
     "text": [
      "heatmap:  (244, 324)\n",
      "heatmap:  (244, 324)\n",
      "matches:  (239, 4)\n",
      "pts:  (3, 308) , desc:  (256, 308)\n"
     ]
    },
    {
     "name": "stderr",
     "output_type": "stream",
     "text": [
      "402it [02:05,  3.15it/s]"
     ]
    },
    {
     "name": "stdout",
     "output_type": "stream",
     "text": [
      "heatmap:  (244, 324)\n",
      "heatmap:  (244, 324)\n",
      "matches:  (222, 4)\n",
      "pts:  (3, 306) , desc:  (256, 306)\n",
      "heatmap:  (244, 324)\n",
      "heatmap:  (244, 324)\n",
      "matches:  (231, 4)\n",
      "pts:  (3, 327) , desc:  (256, 327)\n"
     ]
    },
    {
     "name": "stderr",
     "output_type": "stream",
     "text": [
      "404it [02:06,  3.16it/s]"
     ]
    },
    {
     "name": "stdout",
     "output_type": "stream",
     "text": [
      "heatmap:  (244, 324)\n",
      "heatmap:  (244, 324)\n",
      "matches:  (223, 4)\n",
      "pts:  (3, 314) , desc:  (256, 314)\n",
      "heatmap:  (244, 324)\n",
      "heatmap:  (244, 324)\n",
      "matches:  (243, 4)\n",
      "pts:  (3, 338) , desc:  (256, 338)\n"
     ]
    },
    {
     "name": "stderr",
     "output_type": "stream",
     "text": [
      "406it [02:07,  3.13it/s]"
     ]
    },
    {
     "name": "stdout",
     "output_type": "stream",
     "text": [
      "heatmap:  (244, 324)\n",
      "heatmap:  (244, 324)\n",
      "matches:  (135, 4)\n",
      "pts:  (3, 381) , desc:  (256, 381)\n",
      "heatmap:  (244, 324)\n",
      "heatmap:  (244, 324)\n",
      "matches:  (246, 4)\n",
      "pts:  (3, 417) , desc:  (256, 417)\n"
     ]
    },
    {
     "name": "stderr",
     "output_type": "stream",
     "text": [
      "407it [02:07,  2.93it/s]"
     ]
    },
    {
     "name": "stdout",
     "output_type": "stream",
     "text": [
      "heatmap:  (244, 324)\n",
      "heatmap:  (244, 324)\n",
      "matches:  (27, 4)\n",
      "pts:  (3, 348) , desc:  (256, 348)\n"
     ]
    },
    {
     "name": "stderr",
     "output_type": "stream",
     "text": [
      "409it [02:08,  3.01it/s]"
     ]
    },
    {
     "name": "stdout",
     "output_type": "stream",
     "text": [
      "heatmap:  (244, 324)\n",
      "heatmap:  (244, 324)\n",
      "matches:  (17, 4)\n",
      "pts:  (3, 380) , desc:  (256, 380)\n"
     ]
    },
    {
     "name": "stderr",
     "output_type": "stream",
     "text": [
      "410it [02:08,  3.11it/s]"
     ]
    },
    {
     "name": "stdout",
     "output_type": "stream",
     "text": [
      "heatmap:  (244, 324)\n",
      "heatmap:  (244, 324)\n",
      "matches:  (4, 4)\n",
      "pts:  (3, 311) , desc:  (256, 311)\n"
     ]
    },
    {
     "name": "stderr",
     "output_type": "stream",
     "text": [
      "411it [02:08,  3.22it/s]"
     ]
    },
    {
     "name": "stdout",
     "output_type": "stream",
     "text": [
      "heatmap:  (244, 324)\n",
      "heatmap:  (244, 324)\n",
      "matches:  (411, 4)\n",
      "pts:  (3, 453) , desc:  (256, 453)\n"
     ]
    },
    {
     "name": "stderr",
     "output_type": "stream",
     "text": [
      "412it [02:09,  3.33it/s]"
     ]
    },
    {
     "name": "stdout",
     "output_type": "stream",
     "text": [
      "heatmap:  (244, 324)\n",
      "heatmap:  (244, 324)\n",
      "matches:  (329, 4)\n",
      "pts:  (3, 468) , desc:  (256, 468)\n"
     ]
    },
    {
     "name": "stderr",
     "output_type": "stream",
     "text": [
      "413it [02:09,  3.37it/s]"
     ]
    },
    {
     "name": "stdout",
     "output_type": "stream",
     "text": [
      "heatmap:  (244, 324)\n",
      "heatmap:  (244, 324)\n",
      "matches:  (199, 4)\n",
      "pts:  (3, 446) , desc:  (256, 446)\n"
     ]
    },
    {
     "name": "stderr",
     "output_type": "stream",
     "text": [
      "414it [02:09,  3.36it/s]"
     ]
    },
    {
     "name": "stdout",
     "output_type": "stream",
     "text": [
      "heatmap:  (244, 324)\n",
      "heatmap:  (244, 324)\n",
      "matches:  (238, 4)\n",
      "pts:  (3, 473) , desc:  (256, 473)\n"
     ]
    },
    {
     "name": "stderr",
     "output_type": "stream",
     "text": [
      "415it [02:09,  3.42it/s]"
     ]
    },
    {
     "name": "stdout",
     "output_type": "stream",
     "text": [
      "heatmap:  (244, 324)\n",
      "heatmap:  (244, 324)\n",
      "matches:  (167, 4)\n",
      "pts:  (3, 453) , desc:  (256, 453)\n"
     ]
    },
    {
     "name": "stderr",
     "output_type": "stream",
     "text": [
      "416it [02:10,  3.37it/s]"
     ]
    },
    {
     "name": "stdout",
     "output_type": "stream",
     "text": [
      "heatmap:  (244, 324)\n",
      "heatmap:  (244, 324)\n",
      "matches:  (182, 4)\n",
      "pts:  (3, 456) , desc:  (256, 456)\n"
     ]
    },
    {
     "name": "stderr",
     "output_type": "stream",
     "text": [
      "417it [02:10,  3.38it/s]"
     ]
    },
    {
     "name": "stdout",
     "output_type": "stream",
     "text": [
      "heatmap:  (244, 324)\n",
      "heatmap:  (244, 324)\n",
      "matches:  (122, 4)\n",
      "pts:  (3, 436) , desc:  (256, 436)\n"
     ]
    },
    {
     "name": "stderr",
     "output_type": "stream",
     "text": [
      "418it [02:10,  3.32it/s]"
     ]
    },
    {
     "name": "stdout",
     "output_type": "stream",
     "text": [
      "heatmap:  (244, 324)\n",
      "heatmap:  (244, 324)\n",
      "matches:  (87, 4)\n",
      "pts:  (3, 431) , desc:  (256, 431)\n"
     ]
    },
    {
     "name": "stderr",
     "output_type": "stream",
     "text": [
      "419it [02:11,  3.32it/s]"
     ]
    },
    {
     "name": "stdout",
     "output_type": "stream",
     "text": [
      "heatmap:  (244, 324)\n",
      "heatmap:  (244, 324)\n",
      "matches:  (109, 4)\n",
      "pts:  (3, 467) , desc:  (256, 467)\n"
     ]
    },
    {
     "name": "stderr",
     "output_type": "stream",
     "text": [
      "420it [02:11,  3.43it/s]"
     ]
    },
    {
     "name": "stdout",
     "output_type": "stream",
     "text": [
      "heatmap:  (244, 324)\n",
      "heatmap:  (244, 324)\n",
      "matches:  (22, 4)\n",
      "pts:  (3, 500) , desc:  (256, 500)\n"
     ]
    },
    {
     "name": "stderr",
     "output_type": "stream",
     "text": [
      "421it [02:11,  3.34it/s]"
     ]
    },
    {
     "name": "stdout",
     "output_type": "stream",
     "text": [
      "heatmap:  (244, 324)\n",
      "heatmap:  (244, 324)\n",
      "matches:  (207, 4)\n",
      "pts:  (3, 442) , desc:  (256, 442)\n"
     ]
    },
    {
     "name": "stderr",
     "output_type": "stream",
     "text": [
      "422it [02:11,  3.42it/s]"
     ]
    },
    {
     "name": "stdout",
     "output_type": "stream",
     "text": [
      "heatmap:  (244, 324)\n",
      "heatmap:  (244, 324)\n",
      "matches:  (225, 4)\n",
      "pts:  (3, 479) , desc:  (256, 479)\n"
     ]
    },
    {
     "name": "stderr",
     "output_type": "stream",
     "text": [
      "423it [02:12,  3.33it/s]"
     ]
    },
    {
     "name": "stdout",
     "output_type": "stream",
     "text": [
      "heatmap:  (244, 324)\n",
      "heatmap:  (244, 324)\n",
      "matches:  (155, 4)\n",
      "pts:  (3, 473) , desc:  (256, 473)\n"
     ]
    },
    {
     "name": "stderr",
     "output_type": "stream",
     "text": [
      "424it [02:12,  3.39it/s]"
     ]
    },
    {
     "name": "stdout",
     "output_type": "stream",
     "text": [
      "heatmap:  (244, 324)\n",
      "heatmap:  (244, 324)\n",
      "matches:  (145, 4)\n",
      "pts:  (3, 466) , desc:  (256, 466)\n"
     ]
    },
    {
     "name": "stderr",
     "output_type": "stream",
     "text": [
      "425it [02:12,  3.42it/s]"
     ]
    },
    {
     "name": "stdout",
     "output_type": "stream",
     "text": [
      "heatmap:  (244, 324)\n",
      "heatmap:  (244, 324)\n",
      "matches:  (106, 4)\n",
      "pts:  (3, 436) , desc:  (256, 436)\n"
     ]
    },
    {
     "name": "stderr",
     "output_type": "stream",
     "text": [
      "426it [02:13,  3.38it/s]"
     ]
    },
    {
     "name": "stdout",
     "output_type": "stream",
     "text": [
      "heatmap:  (244, 324)\n",
      "heatmap:  (244, 324)\n",
      "matches:  (88, 4)\n",
      "pts:  (3, 435) , desc:  (256, 435)\n"
     ]
    },
    {
     "name": "stderr",
     "output_type": "stream",
     "text": [
      "427it [02:13,  3.51it/s]"
     ]
    },
    {
     "name": "stdout",
     "output_type": "stream",
     "text": [
      "heatmap:  (244, 324)\n",
      "heatmap:  (244, 324)\n",
      "matches:  (39, 4)\n",
      "pts:  (3, 307) , desc:  (256, 307)\n"
     ]
    },
    {
     "name": "stderr",
     "output_type": "stream",
     "text": [
      "428it [02:13,  3.64it/s]"
     ]
    },
    {
     "name": "stdout",
     "output_type": "stream",
     "text": [
      "heatmap:  (244, 324)\n",
      "heatmap:  (244, 324)\n",
      "matches:  (65, 4)\n",
      "pts:  (3, 409) , desc:  (256, 409)\n"
     ]
    },
    {
     "name": "stderr",
     "output_type": "stream",
     "text": [
      "429it [02:13,  3.69it/s]"
     ]
    },
    {
     "name": "stdout",
     "output_type": "stream",
     "text": [
      "heatmap:  (244, 324)\n",
      "heatmap:  (244, 324)\n",
      "matches:  (68, 4)\n",
      "pts:  (3, 344) , desc:  (256, 344)\n"
     ]
    },
    {
     "name": "stderr",
     "output_type": "stream",
     "text": [
      "430it [02:14,  3.72it/s]"
     ]
    },
    {
     "name": "stdout",
     "output_type": "stream",
     "text": [
      "heatmap:  (244, 324)\n",
      "heatmap:  (244, 324)\n",
      "matches:  (61, 4)\n",
      "pts:  (3, 375) , desc:  (256, 375)\n"
     ]
    },
    {
     "name": "stderr",
     "output_type": "stream",
     "text": [
      "431it [02:14,  3.71it/s]"
     ]
    },
    {
     "name": "stdout",
     "output_type": "stream",
     "text": [
      "heatmap:  (244, 324)\n",
      "heatmap:  (244, 324)\n",
      "matches:  (285, 4)\n",
      "pts:  (3, 391) , desc:  (256, 391)\n"
     ]
    },
    {
     "name": "stderr",
     "output_type": "stream",
     "text": [
      "432it [02:14,  3.65it/s]"
     ]
    },
    {
     "name": "stdout",
     "output_type": "stream",
     "text": [
      "heatmap:  (244, 324)\n",
      "heatmap:  (244, 324)\n",
      "matches:  (141, 4)\n",
      "pts:  (3, 394) , desc:  (256, 394)\n"
     ]
    },
    {
     "name": "stderr",
     "output_type": "stream",
     "text": [
      "433it [02:15,  3.29it/s]"
     ]
    },
    {
     "name": "stdout",
     "output_type": "stream",
     "text": [
      "heatmap:  (244, 324)\n",
      "heatmap:  (244, 324)\n",
      "matches:  (67, 4)\n",
      "pts:  (3, 352) , desc:  (256, 352)\n"
     ]
    },
    {
     "name": "stderr",
     "output_type": "stream",
     "text": [
      "434it [02:15,  3.19it/s]"
     ]
    },
    {
     "name": "stdout",
     "output_type": "stream",
     "text": [
      "heatmap:  (244, 324)\n",
      "heatmap:  (244, 324)\n",
      "matches:  (49, 4)\n",
      "pts:  (3, 353) , desc:  (256, 353)\n"
     ]
    },
    {
     "name": "stderr",
     "output_type": "stream",
     "text": [
      "435it [02:15,  3.31it/s]"
     ]
    },
    {
     "name": "stdout",
     "output_type": "stream",
     "text": [
      "heatmap:  (244, 324)\n",
      "heatmap:  (244, 324)\n",
      "matches:  (83, 4)\n",
      "pts:  (3, 334) , desc:  (256, 334)\n"
     ]
    },
    {
     "name": "stderr",
     "output_type": "stream",
     "text": [
      "436it [02:16,  3.35it/s]"
     ]
    },
    {
     "name": "stdout",
     "output_type": "stream",
     "text": [
      "heatmap:  (244, 324)\n",
      "heatmap:  (244, 324)\n",
      "matches:  (166, 4)\n",
      "pts:  (3, 310) , desc:  (256, 310)\n"
     ]
    },
    {
     "name": "stderr",
     "output_type": "stream",
     "text": [
      "437it [02:16,  3.36it/s]"
     ]
    },
    {
     "name": "stdout",
     "output_type": "stream",
     "text": [
      "heatmap:  (244, 324)\n",
      "heatmap:  (244, 324)\n",
      "matches:  (126, 4)\n",
      "pts:  (3, 281) , desc:  (256, 281)\n"
     ]
    },
    {
     "name": "stderr",
     "output_type": "stream",
     "text": [
      "438it [02:16,  3.39it/s]"
     ]
    },
    {
     "name": "stdout",
     "output_type": "stream",
     "text": [
      "heatmap:  (244, 324)\n",
      "heatmap:  (244, 324)\n",
      "matches:  (30, 4)\n",
      "pts:  (3, 260) , desc:  (256, 260)\n"
     ]
    },
    {
     "name": "stderr",
     "output_type": "stream",
     "text": [
      "439it [02:16,  3.37it/s]"
     ]
    },
    {
     "name": "stdout",
     "output_type": "stream",
     "text": [
      "heatmap:  (244, 324)\n",
      "heatmap:  (244, 324)\n",
      "matches:  (95, 4)\n",
      "pts:  (3, 260) , desc:  (256, 260)\n"
     ]
    },
    {
     "name": "stderr",
     "output_type": "stream",
     "text": [
      "440it [02:17,  3.39it/s]"
     ]
    },
    {
     "name": "stdout",
     "output_type": "stream",
     "text": [
      "heatmap:  (244, 324)\n",
      "heatmap:  (244, 324)\n",
      "matches:  (93, 4)\n",
      "pts:  (3, 273) , desc:  (256, 273)\n"
     ]
    },
    {
     "name": "stderr",
     "output_type": "stream",
     "text": [
      "441it [02:17,  3.44it/s]"
     ]
    },
    {
     "name": "stdout",
     "output_type": "stream",
     "text": [
      "heatmap:  (244, 324)\n",
      "heatmap:  (244, 324)\n",
      "matches:  (261, 4)\n",
      "pts:  (3, 362) , desc:  (256, 362)\n"
     ]
    },
    {
     "name": "stderr",
     "output_type": "stream",
     "text": [
      "442it [02:17,  3.45it/s]"
     ]
    },
    {
     "name": "stdout",
     "output_type": "stream",
     "text": [
      "heatmap:  (244, 324)\n",
      "heatmap:  (244, 324)\n",
      "matches:  (255, 4)\n",
      "pts:  (3, 416) , desc:  (256, 416)\n"
     ]
    },
    {
     "name": "stderr",
     "output_type": "stream",
     "text": [
      "443it [02:18,  3.45it/s]"
     ]
    },
    {
     "name": "stdout",
     "output_type": "stream",
     "text": [
      "heatmap:  (244, 324)\n",
      "heatmap:  (244, 324)\n",
      "matches:  (166, 4)\n",
      "pts:  (3, 414) , desc:  (256, 414)\n"
     ]
    },
    {
     "name": "stderr",
     "output_type": "stream",
     "text": [
      "444it [02:18,  3.46it/s]"
     ]
    },
    {
     "name": "stdout",
     "output_type": "stream",
     "text": [
      "heatmap:  (244, 324)\n",
      "heatmap:  (244, 324)\n",
      "matches:  (215, 4)\n",
      "pts:  (3, 455) , desc:  (256, 455)\n"
     ]
    },
    {
     "name": "stderr",
     "output_type": "stream",
     "text": [
      "445it [02:18,  3.52it/s]"
     ]
    },
    {
     "name": "stdout",
     "output_type": "stream",
     "text": [
      "heatmap:  (244, 324)\n",
      "heatmap:  (244, 324)\n",
      "matches:  (226, 4)\n",
      "pts:  (3, 456) , desc:  (256, 456)\n"
     ]
    },
    {
     "name": "stderr",
     "output_type": "stream",
     "text": [
      "446it [02:18,  3.48it/s]"
     ]
    },
    {
     "name": "stdout",
     "output_type": "stream",
     "text": [
      "heatmap:  (244, 324)\n",
      "heatmap:  (244, 324)\n",
      "matches:  (253, 4)\n",
      "pts:  (3, 434) , desc:  (256, 434)\n"
     ]
    },
    {
     "name": "stderr",
     "output_type": "stream",
     "text": [
      "447it [02:19,  3.40it/s]"
     ]
    },
    {
     "name": "stdout",
     "output_type": "stream",
     "text": [
      "heatmap:  (244, 324)\n",
      "heatmap:  (244, 324)\n",
      "matches:  (74, 4)\n",
      "pts:  (3, 429) , desc:  (256, 429)\n"
     ]
    },
    {
     "name": "stderr",
     "output_type": "stream",
     "text": [
      "448it [02:19,  3.47it/s]"
     ]
    },
    {
     "name": "stdout",
     "output_type": "stream",
     "text": [
      "heatmap:  (244, 324)\n",
      "heatmap:  (244, 324)\n",
      "matches:  (201, 4)\n",
      "pts:  (3, 474) , desc:  (256, 474)\n"
     ]
    },
    {
     "name": "stderr",
     "output_type": "stream",
     "text": [
      "449it [02:19,  3.48it/s]"
     ]
    },
    {
     "name": "stdout",
     "output_type": "stream",
     "text": [
      "heatmap:  (244, 324)\n",
      "heatmap:  (244, 324)\n",
      "matches:  (106, 4)\n",
      "pts:  (3, 469) , desc:  (256, 469)\n"
     ]
    },
    {
     "name": "stderr",
     "output_type": "stream",
     "text": [
      "450it [02:20,  3.40it/s]"
     ]
    },
    {
     "name": "stdout",
     "output_type": "stream",
     "text": [
      "heatmap:  (244, 324)\n",
      "heatmap:  (244, 324)\n",
      "matches:  (49, 4)\n",
      "pts:  (3, 441) , desc:  (256, 441)\n"
     ]
    },
    {
     "name": "stderr",
     "output_type": "stream",
     "text": [
      "451it [02:20,  3.16it/s]"
     ]
    },
    {
     "name": "stdout",
     "output_type": "stream",
     "text": [
      "heatmap:  (244, 324)\n",
      "heatmap:  (244, 324)\n",
      "matches:  (239, 4)\n",
      "pts:  (3, 311) , desc:  (256, 311)\n"
     ]
    },
    {
     "name": "stderr",
     "output_type": "stream",
     "text": [
      "452it [02:20,  3.25it/s]"
     ]
    },
    {
     "name": "stdout",
     "output_type": "stream",
     "text": [
      "heatmap:  (244, 324)\n",
      "heatmap:  (244, 324)\n",
      "matches:  (130, 4)\n",
      "pts:  (3, 313) , desc:  (256, 313)\n"
     ]
    },
    {
     "name": "stderr",
     "output_type": "stream",
     "text": [
      "453it [02:21,  3.25it/s]"
     ]
    },
    {
     "name": "stdout",
     "output_type": "stream",
     "text": [
      "heatmap:  (244, 324)\n",
      "heatmap:  (244, 324)\n",
      "matches:  (141, 4)\n",
      "pts:  (3, 327) , desc:  (256, 327)\n",
      "heatmap:  (244, 324)\n",
      "heatmap:  (244, 324)\n",
      "matches:  (162, 4)\n",
      "pts:  (3, 320) , desc:  (256, 320)\n"
     ]
    },
    {
     "name": "stderr",
     "output_type": "stream",
     "text": [
      "455it [02:21,  3.11it/s]"
     ]
    },
    {
     "name": "stdout",
     "output_type": "stream",
     "text": [
      "heatmap:  (244, 324)\n",
      "heatmap:  (244, 324)\n",
      "matches:  (187, 4)\n",
      "pts:  (3, 325) , desc:  (256, 325)\n"
     ]
    },
    {
     "name": "stderr",
     "output_type": "stream",
     "text": [
      "456it [02:22,  3.11it/s]"
     ]
    },
    {
     "name": "stdout",
     "output_type": "stream",
     "text": [
      "heatmap:  (244, 324)\n",
      "heatmap:  (244, 324)\n",
      "matches:  (70, 4)\n",
      "pts:  (3, 410) , desc:  (256, 410)\n"
     ]
    },
    {
     "name": "stderr",
     "output_type": "stream",
     "text": [
      "457it [02:22,  3.04it/s]"
     ]
    },
    {
     "name": "stdout",
     "output_type": "stream",
     "text": [
      "heatmap:  (244, 324)\n",
      "heatmap:  (244, 324)\n",
      "matches:  (152, 4)\n",
      "pts:  (3, 363) , desc:  (256, 363)\n"
     ]
    },
    {
     "name": "stderr",
     "output_type": "stream",
     "text": [
      "458it [02:22,  2.98it/s]"
     ]
    },
    {
     "name": "stdout",
     "output_type": "stream",
     "text": [
      "heatmap:  (244, 324)\n",
      "heatmap:  (244, 324)\n",
      "matches:  (103, 4)\n",
      "pts:  (3, 376) , desc:  (256, 376)\n"
     ]
    },
    {
     "name": "stderr",
     "output_type": "stream",
     "text": [
      "459it [02:23,  3.07it/s]"
     ]
    },
    {
     "name": "stdout",
     "output_type": "stream",
     "text": [
      "heatmap:  (244, 324)\n",
      "heatmap:  (244, 324)\n",
      "matches:  (37, 4)\n",
      "pts:  (3, 388) , desc:  (256, 388)\n"
     ]
    },
    {
     "name": "stderr",
     "output_type": "stream",
     "text": [
      "460it [02:23,  3.15it/s]"
     ]
    },
    {
     "name": "stdout",
     "output_type": "stream",
     "text": [
      "heatmap:  (244, 324)\n",
      "heatmap:  (244, 324)\n",
      "matches:  (71, 4)\n",
      "pts:  (3, 400) , desc:  (256, 400)\n",
      "heatmap:  (244, 324)\n",
      "heatmap:  (244, 324)\n",
      "matches:  (242, 4)\n",
      "pts:  (3, 537) , desc:  (256, 537)\n"
     ]
    },
    {
     "name": "stderr",
     "output_type": "stream",
     "text": [
      "462it [02:23,  3.27it/s]"
     ]
    },
    {
     "name": "stdout",
     "output_type": "stream",
     "text": [
      "heatmap:  (244, 324)\n",
      "heatmap:  (244, 324)\n",
      "matches:  (72, 4)\n",
      "pts:  (3, 487) , desc:  (256, 487)\n"
     ]
    },
    {
     "name": "stderr",
     "output_type": "stream",
     "text": [
      "463it [02:24,  3.26it/s]"
     ]
    },
    {
     "name": "stdout",
     "output_type": "stream",
     "text": [
      "heatmap:  (244, 324)\n",
      "heatmap:  (244, 324)\n",
      "matches:  (69, 4)\n",
      "pts:  (3, 525) , desc:  (256, 525)\n"
     ]
    },
    {
     "name": "stderr",
     "output_type": "stream",
     "text": [
      "464it [02:24,  3.38it/s]"
     ]
    },
    {
     "name": "stdout",
     "output_type": "stream",
     "text": [
      "heatmap:  (244, 324)\n",
      "heatmap:  (244, 324)\n",
      "matches:  (71, 4)\n",
      "pts:  (3, 498) , desc:  (256, 498)\n"
     ]
    },
    {
     "name": "stderr",
     "output_type": "stream",
     "text": [
      "465it [02:24,  3.36it/s]"
     ]
    },
    {
     "name": "stdout",
     "output_type": "stream",
     "text": [
      "heatmap:  (244, 324)\n",
      "heatmap:  (244, 324)\n",
      "matches:  (79, 4)\n",
      "pts:  (3, 513) , desc:  (256, 513)\n"
     ]
    },
    {
     "name": "stderr",
     "output_type": "stream",
     "text": [
      "466it [02:25,  3.39it/s]"
     ]
    },
    {
     "name": "stdout",
     "output_type": "stream",
     "text": [
      "heatmap:  (244, 324)\n",
      "heatmap:  (244, 324)\n",
      "matches:  (277, 4)\n",
      "pts:  (3, 402) , desc:  (256, 402)\n"
     ]
    },
    {
     "name": "stderr",
     "output_type": "stream",
     "text": [
      "467it [02:25,  3.46it/s]"
     ]
    },
    {
     "name": "stdout",
     "output_type": "stream",
     "text": [
      "heatmap:  (244, 324)\n",
      "heatmap:  (244, 324)\n",
      "matches:  (120, 4)\n",
      "pts:  (3, 436) , desc:  (256, 436)\n",
      "heatmap:  (244, 324)\n",
      "heatmap:  (244, 324)\n",
      "matches:  (219, 4)\n",
      "pts:  (3, 408) , desc:  (256, 408)\n"
     ]
    },
    {
     "name": "stderr",
     "output_type": "stream",
     "text": [
      "469it [02:25,  3.48it/s]"
     ]
    },
    {
     "name": "stdout",
     "output_type": "stream",
     "text": [
      "heatmap:  (244, 324)\n",
      "heatmap:  (244, 324)\n",
      "matches:  (150, 4)\n",
      "pts:  (3, 442) , desc:  (256, 442)\n"
     ]
    },
    {
     "name": "stderr",
     "output_type": "stream",
     "text": [
      "470it [02:26,  3.47it/s]"
     ]
    },
    {
     "name": "stdout",
     "output_type": "stream",
     "text": [
      "heatmap:  (244, 324)\n",
      "heatmap:  (244, 324)\n",
      "matches:  (186, 4)\n",
      "pts:  (3, 434) , desc:  (256, 434)\n"
     ]
    },
    {
     "name": "stderr",
     "output_type": "stream",
     "text": [
      "471it [02:26,  3.58it/s]"
     ]
    },
    {
     "name": "stdout",
     "output_type": "stream",
     "text": [
      "heatmap:  (244, 324)\n",
      "heatmap:  (244, 324)\n",
      "matches:  (242, 4)\n",
      "pts:  (3, 264) , desc:  (256, 264)\n"
     ]
    },
    {
     "name": "stderr",
     "output_type": "stream",
     "text": [
      "472it [02:26,  3.51it/s]"
     ]
    },
    {
     "name": "stdout",
     "output_type": "stream",
     "text": [
      "heatmap:  (244, 324)\n",
      "heatmap:  (244, 324)\n",
      "matches:  (233, 4)\n",
      "pts:  (3, 266) , desc:  (256, 266)\n"
     ]
    },
    {
     "name": "stderr",
     "output_type": "stream",
     "text": [
      "473it [02:27,  3.60it/s]"
     ]
    },
    {
     "name": "stdout",
     "output_type": "stream",
     "text": [
      "heatmap:  (244, 324)\n",
      "heatmap:  (244, 324)\n",
      "matches:  (220, 4)\n",
      "pts:  (3, 269) , desc:  (256, 269)\n"
     ]
    },
    {
     "name": "stderr",
     "output_type": "stream",
     "text": [
      "474it [02:27,  3.72it/s]"
     ]
    },
    {
     "name": "stdout",
     "output_type": "stream",
     "text": [
      "heatmap:  (244, 324)\n",
      "heatmap:  (244, 324)\n",
      "matches:  (210, 4)\n",
      "pts:  (3, 274) , desc:  (256, 274)\n"
     ]
    },
    {
     "name": "stderr",
     "output_type": "stream",
     "text": [
      "475it [02:27,  3.86it/s]"
     ]
    },
    {
     "name": "stdout",
     "output_type": "stream",
     "text": [
      "heatmap:  (244, 324)\n",
      "heatmap:  (244, 324)\n",
      "matches:  (171, 4)\n",
      "pts:  (3, 263) , desc:  (256, 263)\n"
     ]
    },
    {
     "name": "stderr",
     "output_type": "stream",
     "text": [
      "476it [02:27,  3.80it/s]"
     ]
    },
    {
     "name": "stdout",
     "output_type": "stream",
     "text": [
      "heatmap:  (244, 324)\n",
      "heatmap:  (244, 324)\n",
      "matches:  (173, 4)\n",
      "pts:  (3, 448) , desc:  (256, 448)\n"
     ]
    },
    {
     "name": "stderr",
     "output_type": "stream",
     "text": [
      "477it [02:28,  3.68it/s]"
     ]
    },
    {
     "name": "stdout",
     "output_type": "stream",
     "text": [
      "heatmap:  (244, 324)\n",
      "heatmap:  (244, 324)\n",
      "matches:  (180, 4)\n",
      "pts:  (3, 450) , desc:  (256, 450)\n"
     ]
    },
    {
     "name": "stderr",
     "output_type": "stream",
     "text": [
      "478it [02:28,  3.73it/s]"
     ]
    },
    {
     "name": "stdout",
     "output_type": "stream",
     "text": [
      "heatmap:  (244, 324)\n",
      "heatmap:  (244, 324)\n",
      "matches:  (164, 4)\n",
      "pts:  (3, 470) , desc:  (256, 470)\n",
      "heatmap:  (244, 324)\n",
      "heatmap:  (244, 324)\n",
      "matches:  (188, 4)\n",
      "pts:  (3, 455) , desc:  (256, 455)\n"
     ]
    },
    {
     "name": "stderr",
     "output_type": "stream",
     "text": [
      "480it [02:28,  3.59it/s]"
     ]
    },
    {
     "name": "stdout",
     "output_type": "stream",
     "text": [
      "heatmap:  (244, 324)\n",
      "heatmap:  (244, 324)\n",
      "matches:  (214, 4)\n",
      "pts:  (3, 465) , desc:  (256, 465)\n"
     ]
    },
    {
     "name": "stderr",
     "output_type": "stream",
     "text": [
      "481it [02:29,  3.52it/s]"
     ]
    },
    {
     "name": "stdout",
     "output_type": "stream",
     "text": [
      "heatmap:  (244, 324)\n",
      "heatmap:  (244, 324)\n",
      "matches:  (253, 4)\n",
      "pts:  (3, 415) , desc:  (256, 415)\n",
      "heatmap:  (244, 324)\n",
      "heatmap:  (244, 324)\n",
      "matches:  (129, 4)\n",
      "pts:  (3, 375) , desc:  (256, 375)\n"
     ]
    },
    {
     "name": "stderr",
     "output_type": "stream",
     "text": [
      "483it [02:29,  3.29it/s]"
     ]
    },
    {
     "name": "stdout",
     "output_type": "stream",
     "text": [
      "heatmap:  (244, 324)\n",
      "heatmap:  (244, 324)\n",
      "matches:  (171, 4)\n",
      "pts:  (3, 352) , desc:  (256, 352)\n"
     ]
    },
    {
     "name": "stderr",
     "output_type": "stream",
     "text": [
      "484it [02:30,  3.11it/s]"
     ]
    },
    {
     "name": "stdout",
     "output_type": "stream",
     "text": [
      "heatmap:  (244, 324)\n",
      "heatmap:  (244, 324)\n",
      "matches:  (77, 4)\n",
      "pts:  (3, 304) , desc:  (256, 304)\n",
      "heatmap:  (244, 324)\n",
      "heatmap:  (244, 324)\n",
      "matches:  (165, 4)\n",
      "pts:  (3, 375) , desc:  (256, 375)\n"
     ]
    },
    {
     "name": "stderr",
     "output_type": "stream",
     "text": [
      "486it [02:30,  3.11it/s]"
     ]
    },
    {
     "name": "stdout",
     "output_type": "stream",
     "text": [
      "heatmap:  (244, 324)\n",
      "heatmap:  (244, 324)\n",
      "matches:  (178, 4)\n",
      "pts:  (3, 281) , desc:  (256, 281)\n"
     ]
    },
    {
     "name": "stderr",
     "output_type": "stream",
     "text": [
      "487it [02:31,  2.96it/s]"
     ]
    },
    {
     "name": "stdout",
     "output_type": "stream",
     "text": [
      "heatmap:  (244, 324)\n",
      "heatmap:  (244, 324)\n",
      "matches:  (104, 4)\n",
      "pts:  (3, 288) , desc:  (256, 288)\n"
     ]
    },
    {
     "name": "stderr",
     "output_type": "stream",
     "text": [
      "488it [02:31,  2.99it/s]"
     ]
    },
    {
     "name": "stdout",
     "output_type": "stream",
     "text": [
      "heatmap:  (244, 324)\n",
      "heatmap:  (244, 324)\n",
      "matches:  (49, 4)\n",
      "pts:  (3, 344) , desc:  (256, 344)\n"
     ]
    },
    {
     "name": "stderr",
     "output_type": "stream",
     "text": [
      "489it [02:31,  3.20it/s]"
     ]
    },
    {
     "name": "stdout",
     "output_type": "stream",
     "text": [
      "heatmap:  (244, 324)\n",
      "heatmap:  (244, 324)\n",
      "matches:  (106, 4)\n",
      "pts:  (3, 251) , desc:  (256, 251)\n",
      "heatmap:  (244, 324)\n",
      "heatmap:  (244, 324)\n",
      "matches:  (45, 4)\n",
      "pts:  (3, 340) , desc:  (256, 340)\n"
     ]
    },
    {
     "name": "stderr",
     "output_type": "stream",
     "text": [
      "491it [02:32,  3.10it/s]"
     ]
    },
    {
     "name": "stdout",
     "output_type": "stream",
     "text": [
      "heatmap:  (244, 324)\n",
      "heatmap:  (244, 324)\n",
      "matches:  (295, 4)\n",
      "pts:  (3, 407) , desc:  (256, 407)\n"
     ]
    },
    {
     "name": "stderr",
     "output_type": "stream",
     "text": [
      "492it [02:32,  3.24it/s]"
     ]
    },
    {
     "name": "stdout",
     "output_type": "stream",
     "text": [
      "heatmap:  (244, 324)\n",
      "heatmap:  (244, 324)\n",
      "matches:  (322, 4)\n",
      "pts:  (3, 398) , desc:  (256, 398)\n"
     ]
    },
    {
     "name": "stderr",
     "output_type": "stream",
     "text": [
      "493it [02:33,  3.35it/s]"
     ]
    },
    {
     "name": "stdout",
     "output_type": "stream",
     "text": [
      "heatmap:  (244, 324)\n",
      "heatmap:  (244, 324)\n",
      "matches:  (161, 4)\n",
      "pts:  (3, 392) , desc:  (256, 392)\n"
     ]
    },
    {
     "name": "stderr",
     "output_type": "stream",
     "text": [
      "494it [02:33,  3.42it/s]"
     ]
    },
    {
     "name": "stdout",
     "output_type": "stream",
     "text": [
      "heatmap:  (244, 324)\n",
      "heatmap:  (244, 324)\n",
      "matches:  (326, 4)\n",
      "pts:  (3, 409) , desc:  (256, 409)\n",
      "heatmap:  (244, 324)\n",
      "heatmap:  (244, 324)\n",
      "matches:  (317, 4)\n",
      "pts:  (3, 414) , desc:  (256, 414)\n"
     ]
    },
    {
     "name": "stderr",
     "output_type": "stream",
     "text": [
      "496it [02:34,  3.17it/s]"
     ]
    },
    {
     "name": "stdout",
     "output_type": "stream",
     "text": [
      "heatmap:  (244, 324)\n",
      "heatmap:  (244, 324)\n",
      "matches:  (62, 4)\n",
      "pts:  (3, 368) , desc:  (256, 368)\n",
      "heatmap:  (244, 324)\n",
      "heatmap:  (244, 324)\n",
      "matches:  (152, 4)\n",
      "pts:  (3, 402) , desc:  (256, 402)\n"
     ]
    },
    {
     "name": "stderr",
     "output_type": "stream",
     "text": [
      "498it [02:34,  3.15it/s]"
     ]
    },
    {
     "name": "stdout",
     "output_type": "stream",
     "text": [
      "heatmap:  (244, 324)\n",
      "heatmap:  (244, 324)\n",
      "matches:  (28, 4)\n",
      "pts:  (3, 377) , desc:  (256, 377)\n"
     ]
    },
    {
     "name": "stderr",
     "output_type": "stream",
     "text": [
      "499it [02:35,  2.88it/s]"
     ]
    },
    {
     "name": "stdout",
     "output_type": "stream",
     "text": [
      "heatmap:  (244, 324)\n",
      "heatmap:  (244, 324)\n",
      "matches:  (92, 4)\n",
      "pts:  (3, 390) , desc:  (256, 390)\n",
      "heatmap:  (244, 324)\n",
      "heatmap:  (244, 324)\n",
      "matches:  (12, 4)\n",
      "pts:  (3, 353) , desc:  (256, 353)\n"
     ]
    },
    {
     "name": "stderr",
     "output_type": "stream",
     "text": [
      "501it [02:35,  2.92it/s]"
     ]
    },
    {
     "name": "stdout",
     "output_type": "stream",
     "text": [
      "heatmap:  (244, 324)\n",
      "heatmap:  (244, 324)\n",
      "matches:  (187, 4)\n",
      "pts:  (3, 257) , desc:  (256, 257)\n"
     ]
    },
    {
     "name": "stderr",
     "output_type": "stream",
     "text": [
      "502it [02:36,  3.14it/s]"
     ]
    },
    {
     "name": "stdout",
     "output_type": "stream",
     "text": [
      "heatmap:  (244, 324)\n",
      "heatmap:  (244, 324)\n",
      "matches:  (18, 4)\n",
      "pts:  (3, 360) , desc:  (256, 360)\n"
     ]
    },
    {
     "name": "stderr",
     "output_type": "stream",
     "text": [
      "503it [02:36,  3.19it/s]"
     ]
    },
    {
     "name": "stdout",
     "output_type": "stream",
     "text": [
      "heatmap:  (244, 324)\n",
      "heatmap:  (244, 324)\n",
      "matches:  (4, 4)\n",
      "pts:  (3, 393) , desc:  (256, 393)\n"
     ]
    },
    {
     "name": "stderr",
     "output_type": "stream",
     "text": [
      "504it [02:36,  3.23it/s]"
     ]
    },
    {
     "name": "stdout",
     "output_type": "stream",
     "text": [
      "heatmap:  (244, 324)\n",
      "heatmap:  (244, 324)\n",
      "matches:  (2, 4)\n",
      "pts:  (3, 377) , desc:  (256, 377)\n"
     ]
    },
    {
     "name": "stderr",
     "output_type": "stream",
     "text": [
      "505it [02:37,  3.33it/s]"
     ]
    },
    {
     "name": "stdout",
     "output_type": "stream",
     "text": [
      "heatmap:  (244, 324)\n",
      "heatmap:  (244, 324)\n",
      "matches:  (2, 4)\n",
      "pts:  (3, 389) , desc:  (256, 389)\n"
     ]
    },
    {
     "name": "stderr",
     "output_type": "stream",
     "text": [
      "506it [02:37,  3.40it/s]"
     ]
    },
    {
     "name": "stdout",
     "output_type": "stream",
     "text": [
      "heatmap:  (244, 324)\n",
      "heatmap:  (244, 324)\n",
      "matches:  (304, 4)\n",
      "pts:  (3, 419) , desc:  (256, 419)\n"
     ]
    },
    {
     "name": "stderr",
     "output_type": "stream",
     "text": [
      "507it [02:37,  3.39it/s]"
     ]
    },
    {
     "name": "stdout",
     "output_type": "stream",
     "text": [
      "heatmap:  (244, 324)\n",
      "heatmap:  (244, 324)\n",
      "matches:  (293, 4)\n",
      "pts:  (3, 413) , desc:  (256, 413)\n"
     ]
    },
    {
     "name": "stderr",
     "output_type": "stream",
     "text": [
      "508it [02:37,  3.43it/s]"
     ]
    },
    {
     "name": "stdout",
     "output_type": "stream",
     "text": [
      "heatmap:  (244, 324)\n",
      "heatmap:  (244, 324)\n",
      "matches:  (287, 4)\n",
      "pts:  (3, 418) , desc:  (256, 418)\n"
     ]
    },
    {
     "name": "stderr",
     "output_type": "stream",
     "text": [
      "509it [02:38,  3.51it/s]"
     ]
    },
    {
     "name": "stdout",
     "output_type": "stream",
     "text": [
      "heatmap:  (244, 324)\n",
      "heatmap:  (244, 324)\n",
      "matches:  (254, 4)\n",
      "pts:  (3, 399) , desc:  (256, 399)\n"
     ]
    },
    {
     "name": "stderr",
     "output_type": "stream",
     "text": [
      "510it [02:38,  3.51it/s]"
     ]
    },
    {
     "name": "stdout",
     "output_type": "stream",
     "text": [
      "heatmap:  (244, 324)\n",
      "heatmap:  (244, 324)\n",
      "matches:  (204, 4)\n",
      "pts:  (3, 380) , desc:  (256, 380)\n"
     ]
    },
    {
     "name": "stderr",
     "output_type": "stream",
     "text": [
      "511it [02:38,  3.51it/s]"
     ]
    },
    {
     "name": "stdout",
     "output_type": "stream",
     "text": [
      "heatmap:  (244, 324)\n",
      "heatmap:  (244, 324)\n",
      "matches:  (355, 4)\n",
      "pts:  (3, 517) , desc:  (256, 517)\n"
     ]
    },
    {
     "name": "stderr",
     "output_type": "stream",
     "text": [
      "512it [02:38,  3.51it/s]"
     ]
    },
    {
     "name": "stdout",
     "output_type": "stream",
     "text": [
      "heatmap:  (244, 324)\n",
      "heatmap:  (244, 324)\n",
      "matches:  (101, 4)\n",
      "pts:  (3, 440) , desc:  (256, 440)\n"
     ]
    },
    {
     "name": "stderr",
     "output_type": "stream",
     "text": [
      "513it [02:39,  3.48it/s]"
     ]
    },
    {
     "name": "stdout",
     "output_type": "stream",
     "text": [
      "heatmap:  (244, 324)\n",
      "heatmap:  (244, 324)\n",
      "matches:  (102, 4)\n",
      "pts:  (3, 435) , desc:  (256, 435)\n"
     ]
    },
    {
     "name": "stderr",
     "output_type": "stream",
     "text": [
      "514it [02:39,  3.44it/s]"
     ]
    },
    {
     "name": "stdout",
     "output_type": "stream",
     "text": [
      "heatmap:  (244, 324)\n",
      "heatmap:  (244, 324)\n",
      "matches:  (109, 4)\n",
      "pts:  (3, 447) , desc:  (256, 447)\n",
      "heatmap:  (244, 324)\n",
      "heatmap:  (244, 324)\n",
      "matches:  (230, 4)\n",
      "pts:  (3, 499) , desc:  (256, 499)\n"
     ]
    },
    {
     "name": "stderr",
     "output_type": "stream",
     "text": [
      "516it [02:40,  3.18it/s]"
     ]
    },
    {
     "name": "stdout",
     "output_type": "stream",
     "text": [
      "heatmap:  (244, 324)\n",
      "heatmap:  (244, 324)\n",
      "matches:  (214, 4)\n",
      "pts:  (3, 404) , desc:  (256, 404)\n"
     ]
    },
    {
     "name": "stderr",
     "output_type": "stream",
     "text": [
      "517it [02:40,  3.19it/s]"
     ]
    },
    {
     "name": "stdout",
     "output_type": "stream",
     "text": [
      "heatmap:  (244, 324)\n",
      "heatmap:  (244, 324)\n",
      "matches:  (126, 4)\n",
      "pts:  (3, 423) , desc:  (256, 423)\n"
     ]
    },
    {
     "name": "stderr",
     "output_type": "stream",
     "text": [
      "518it [02:40,  3.08it/s]"
     ]
    },
    {
     "name": "stdout",
     "output_type": "stream",
     "text": [
      "heatmap:  (244, 324)\n",
      "heatmap:  (244, 324)\n",
      "matches:  (114, 4)\n",
      "pts:  (3, 354) , desc:  (256, 354)\n"
     ]
    },
    {
     "name": "stderr",
     "output_type": "stream",
     "text": [
      "519it [02:41,  3.04it/s]"
     ]
    },
    {
     "name": "stdout",
     "output_type": "stream",
     "text": [
      "heatmap:  (244, 324)\n",
      "heatmap:  (244, 324)\n",
      "matches:  (114, 4)\n",
      "pts:  (3, 352) , desc:  (256, 352)\n"
     ]
    },
    {
     "name": "stderr",
     "output_type": "stream",
     "text": [
      "520it [02:41,  3.24it/s]"
     ]
    },
    {
     "name": "stdout",
     "output_type": "stream",
     "text": [
      "heatmap:  (244, 324)\n",
      "heatmap:  (244, 324)\n",
      "matches:  (132, 4)\n",
      "pts:  (3, 438) , desc:  (256, 438)\n"
     ]
    },
    {
     "name": "stderr",
     "output_type": "stream",
     "text": [
      "521it [02:41,  3.32it/s]"
     ]
    },
    {
     "name": "stdout",
     "output_type": "stream",
     "text": [
      "heatmap:  (244, 324)\n",
      "heatmap:  (244, 324)\n",
      "matches:  (252, 4)\n",
      "pts:  (3, 312) , desc:  (256, 312)\n"
     ]
    },
    {
     "name": "stderr",
     "output_type": "stream",
     "text": [
      "522it [02:42,  3.37it/s]"
     ]
    },
    {
     "name": "stdout",
     "output_type": "stream",
     "text": [
      "heatmap:  (244, 324)\n",
      "heatmap:  (244, 324)\n",
      "matches:  (214, 4)\n",
      "pts:  (3, 303) , desc:  (256, 303)\n"
     ]
    },
    {
     "name": "stderr",
     "output_type": "stream",
     "text": [
      "523it [02:42,  3.45it/s]"
     ]
    },
    {
     "name": "stdout",
     "output_type": "stream",
     "text": [
      "heatmap:  (244, 324)\n",
      "heatmap:  (244, 324)\n",
      "matches:  (122, 4)\n",
      "pts:  (3, 277) , desc:  (256, 277)\n"
     ]
    },
    {
     "name": "stderr",
     "output_type": "stream",
     "text": [
      "524it [02:42,  3.56it/s]"
     ]
    },
    {
     "name": "stdout",
     "output_type": "stream",
     "text": [
      "heatmap:  (244, 324)\n",
      "heatmap:  (244, 324)\n",
      "matches:  (220, 4)\n",
      "pts:  (3, 331) , desc:  (256, 331)\n"
     ]
    },
    {
     "name": "stderr",
     "output_type": "stream",
     "text": [
      "525it [02:42,  3.52it/s]"
     ]
    },
    {
     "name": "stdout",
     "output_type": "stream",
     "text": [
      "heatmap:  (244, 324)\n",
      "heatmap:  (244, 324)\n",
      "matches:  (206, 4)\n",
      "pts:  (3, 323) , desc:  (256, 323)\n"
     ]
    },
    {
     "name": "stderr",
     "output_type": "stream",
     "text": [
      "526it [02:43,  3.63it/s]"
     ]
    },
    {
     "name": "stdout",
     "output_type": "stream",
     "text": [
      "heatmap:  (244, 324)\n",
      "heatmap:  (244, 324)\n",
      "matches:  (185, 4)\n",
      "pts:  (3, 265) , desc:  (256, 265)\n"
     ]
    },
    {
     "name": "stderr",
     "output_type": "stream",
     "text": [
      "527it [02:43,  3.65it/s]"
     ]
    },
    {
     "name": "stdout",
     "output_type": "stream",
     "text": [
      "heatmap:  (244, 324)\n",
      "heatmap:  (244, 324)\n",
      "matches:  (187, 4)\n",
      "pts:  (3, 268) , desc:  (256, 268)\n"
     ]
    },
    {
     "name": "stderr",
     "output_type": "stream",
     "text": [
      "528it [02:43,  3.53it/s]"
     ]
    },
    {
     "name": "stdout",
     "output_type": "stream",
     "text": [
      "heatmap:  (244, 324)\n",
      "heatmap:  (244, 324)\n",
      "matches:  (160, 4)\n",
      "pts:  (3, 268) , desc:  (256, 268)\n"
     ]
    },
    {
     "name": "stderr",
     "output_type": "stream",
     "text": [
      "529it [02:44,  3.61it/s]"
     ]
    },
    {
     "name": "stdout",
     "output_type": "stream",
     "text": [
      "heatmap:  (244, 324)\n",
      "heatmap:  (244, 324)\n",
      "matches:  (135, 4)\n",
      "pts:  (3, 269) , desc:  (256, 269)\n"
     ]
    },
    {
     "name": "stderr",
     "output_type": "stream",
     "text": [
      "530it [02:44,  3.55it/s]"
     ]
    },
    {
     "name": "stdout",
     "output_type": "stream",
     "text": [
      "heatmap:  (244, 324)\n",
      "heatmap:  (244, 324)\n",
      "matches:  (74, 4)\n",
      "pts:  (3, 321) , desc:  (256, 321)\n"
     ]
    },
    {
     "name": "stderr",
     "output_type": "stream",
     "text": [
      "531it [02:44,  3.49it/s]"
     ]
    },
    {
     "name": "stdout",
     "output_type": "stream",
     "text": [
      "heatmap:  (244, 324)\n",
      "heatmap:  (244, 324)\n",
      "matches:  (337, 4)\n",
      "pts:  (3, 420) , desc:  (256, 420)\n"
     ]
    },
    {
     "name": "stderr",
     "output_type": "stream",
     "text": [
      "532it [02:44,  3.47it/s]"
     ]
    },
    {
     "name": "stdout",
     "output_type": "stream",
     "text": [
      "heatmap:  (244, 324)\n",
      "heatmap:  (244, 324)\n",
      "matches:  (217, 4)\n",
      "pts:  (3, 429) , desc:  (256, 429)\n"
     ]
    },
    {
     "name": "stderr",
     "output_type": "stream",
     "text": [
      "533it [02:45,  3.42it/s]"
     ]
    },
    {
     "name": "stdout",
     "output_type": "stream",
     "text": [
      "heatmap:  (244, 324)\n",
      "heatmap:  (244, 324)\n",
      "matches:  (208, 4)\n",
      "pts:  (3, 417) , desc:  (256, 417)\n"
     ]
    },
    {
     "name": "stderr",
     "output_type": "stream",
     "text": [
      "534it [02:45,  3.41it/s]"
     ]
    },
    {
     "name": "stdout",
     "output_type": "stream",
     "text": [
      "heatmap:  (244, 324)\n",
      "heatmap:  (244, 324)\n",
      "matches:  (102, 4)\n",
      "pts:  (3, 428) , desc:  (256, 428)\n"
     ]
    },
    {
     "name": "stderr",
     "output_type": "stream",
     "text": [
      "535it [02:45,  3.40it/s]"
     ]
    },
    {
     "name": "stdout",
     "output_type": "stream",
     "text": [
      "heatmap:  (244, 324)\n",
      "heatmap:  (244, 324)\n",
      "matches:  (61, 4)\n",
      "pts:  (3, 422) , desc:  (256, 422)\n"
     ]
    },
    {
     "name": "stderr",
     "output_type": "stream",
     "text": [
      "536it [02:46,  3.45it/s]"
     ]
    },
    {
     "name": "stdout",
     "output_type": "stream",
     "text": [
      "heatmap:  (244, 324)\n",
      "heatmap:  (244, 324)\n",
      "matches:  (261, 4)\n",
      "pts:  (3, 405) , desc:  (256, 405)\n",
      "heatmap:  (244, 324)\n",
      "heatmap:  (244, 324)\n",
      "matches:  (258, 4)\n",
      "pts:  (3, 373) , desc:  (256, 373)\n"
     ]
    },
    {
     "name": "stderr",
     "output_type": "stream",
     "text": [
      "538it [02:46,  3.45it/s]"
     ]
    },
    {
     "name": "stdout",
     "output_type": "stream",
     "text": [
      "heatmap:  (244, 324)\n",
      "heatmap:  (244, 324)\n",
      "matches:  (266, 4)\n",
      "pts:  (3, 377) , desc:  (256, 377)\n"
     ]
    },
    {
     "name": "stderr",
     "output_type": "stream",
     "text": [
      "539it [02:46,  3.47it/s]"
     ]
    },
    {
     "name": "stdout",
     "output_type": "stream",
     "text": [
      "heatmap:  (244, 324)\n",
      "heatmap:  (244, 324)\n",
      "matches:  (243, 4)\n",
      "pts:  (3, 393) , desc:  (256, 393)\n"
     ]
    },
    {
     "name": "stderr",
     "output_type": "stream",
     "text": [
      "540it [02:47,  3.60it/s]"
     ]
    },
    {
     "name": "stdout",
     "output_type": "stream",
     "text": [
      "heatmap:  (244, 324)\n",
      "heatmap:  (244, 324)\n",
      "matches:  (188, 4)\n",
      "pts:  (3, 392) , desc:  (256, 392)\n"
     ]
    },
    {
     "name": "stderr",
     "output_type": "stream",
     "text": [
      "541it [02:47,  3.56it/s]"
     ]
    },
    {
     "name": "stdout",
     "output_type": "stream",
     "text": [
      "heatmap:  (244, 324)\n",
      "heatmap:  (244, 324)\n",
      "matches:  (129, 4)\n",
      "pts:  (3, 410) , desc:  (256, 410)\n"
     ]
    },
    {
     "name": "stderr",
     "output_type": "stream",
     "text": [
      "542it [02:47,  3.48it/s]"
     ]
    },
    {
     "name": "stdout",
     "output_type": "stream",
     "text": [
      "heatmap:  (244, 324)\n",
      "heatmap:  (244, 324)\n",
      "matches:  (75, 4)\n",
      "pts:  (3, 408) , desc:  (256, 408)\n",
      "heatmap:  (244, 324)\n",
      "heatmap:  (244, 324)\n",
      "matches:  (105, 4)\n",
      "pts:  (3, 416) , desc:  (256, 416)\n"
     ]
    },
    {
     "name": "stderr",
     "output_type": "stream",
     "text": [
      "543it [02:48,  3.30it/s]"
     ]
    },
    {
     "name": "stdout",
     "output_type": "stream",
     "text": [
      "heatmap:  (244, 324)\n",
      "heatmap:  (244, 324)\n",
      "matches:  (2, 4)\n",
      "pts:  (3, 400) , desc:  (256, 400)\n"
     ]
    },
    {
     "name": "stderr",
     "output_type": "stream",
     "text": [
      "544it [02:48,  2.98it/s]"
     ]
    },
    {
     "name": "stdout",
     "output_type": "stream",
     "text": [
      "heatmap:  (244, 324)\n",
      "heatmap:  (244, 324)\n",
      "matches:  (2, 4)\n",
      "pts:  (3, 364) , desc:  (256, 364)\n"
     ]
    },
    {
     "name": "stderr",
     "output_type": "stream",
     "text": [
      "546it [02:49,  3.04it/s]"
     ]
    },
    {
     "name": "stdout",
     "output_type": "stream",
     "text": [
      "heatmap:  (244, 324)\n",
      "heatmap:  (244, 324)\n",
      "matches:  (278, 4)\n",
      "pts:  (3, 389) , desc:  (256, 389)\n"
     ]
    },
    {
     "name": "stderr",
     "output_type": "stream",
     "text": [
      "547it [02:49,  2.98it/s]"
     ]
    },
    {
     "name": "stdout",
     "output_type": "stream",
     "text": [
      "heatmap:  (244, 324)\n",
      "heatmap:  (244, 324)\n",
      "matches:  (130, 4)\n",
      "pts:  (3, 449) , desc:  (256, 449)\n"
     ]
    },
    {
     "name": "stderr",
     "output_type": "stream",
     "text": [
      "548it [02:49,  2.99it/s]"
     ]
    },
    {
     "name": "stdout",
     "output_type": "stream",
     "text": [
      "heatmap:  (244, 324)\n",
      "heatmap:  (244, 324)\n",
      "matches:  (297, 4)\n",
      "pts:  (3, 415) , desc:  (256, 415)\n"
     ]
    },
    {
     "name": "stderr",
     "output_type": "stream",
     "text": [
      "549it [02:50,  3.11it/s]"
     ]
    },
    {
     "name": "stdout",
     "output_type": "stream",
     "text": [
      "heatmap:  (244, 324)\n",
      "heatmap:  (244, 324)\n",
      "matches:  (297, 4)\n",
      "pts:  (3, 386) , desc:  (256, 386)\n"
     ]
    },
    {
     "name": "stderr",
     "output_type": "stream",
     "text": [
      "550it [02:50,  3.19it/s]"
     ]
    },
    {
     "name": "stdout",
     "output_type": "stream",
     "text": [
      "heatmap:  (244, 324)\n",
      "heatmap:  (244, 324)\n",
      "matches:  (299, 4)\n",
      "pts:  (3, 397) , desc:  (256, 397)\n",
      "heatmap:  (244, 324)\n",
      "heatmap:  (244, 324)\n"
     ]
    },
    {
     "name": "stderr",
     "output_type": "stream",
     "text": [
      "551it [02:50,  2.93it/s]"
     ]
    },
    {
     "name": "stdout",
     "output_type": "stream",
     "text": [
      "matches:  (189, 4)\n",
      "pts:  (3, 421) , desc:  (256, 421)\n",
      "heatmap:  (244, 324)\n"
     ]
    },
    {
     "name": "stderr",
     "output_type": "stream",
     "text": [
      "552it [02:51,  2.79it/s]"
     ]
    },
    {
     "name": "stdout",
     "output_type": "stream",
     "text": [
      "heatmap:  (244, 324)\n",
      "matches:  (271, 4)\n",
      "pts:  (3, 456) , desc:  (256, 456)\n"
     ]
    },
    {
     "name": "stderr",
     "output_type": "stream",
     "text": [
      "553it [02:51,  3.02it/s]"
     ]
    },
    {
     "name": "stdout",
     "output_type": "stream",
     "text": [
      "heatmap:  (244, 324)\n",
      "heatmap:  (244, 324)\n",
      "matches:  (262, 4)\n",
      "pts:  (3, 441) , desc:  (256, 441)\n",
      "heatmap:  (244, 324)\n",
      "heatmap:  (244, 324)\n",
      "matches:  (150, 4)\n",
      "pts:  (3, 440) , desc:  (256, 440)\n"
     ]
    },
    {
     "name": "stderr",
     "output_type": "stream",
     "text": [
      "554it [02:51,  2.97it/s]"
     ]
    },
    {
     "name": "stdout",
     "output_type": "stream",
     "text": [
      "heatmap:  (244, 324)\n",
      "heatmap:  (244, 324)\n",
      "matches:  (44, 4)\n",
      "pts:  (3, 417) , desc:  (256, 417)\n"
     ]
    },
    {
     "name": "stderr",
     "output_type": "stream",
     "text": [
      "556it [02:52,  2.96it/s]"
     ]
    },
    {
     "name": "stdout",
     "output_type": "stream",
     "text": [
      "heatmap:  (244, 324)\n",
      "heatmap:  (244, 324)\n",
      "matches:  (145, 4)\n",
      "pts:  (3, 464) , desc:  (256, 464)\n",
      "heatmap:  (244, 324)\n",
      "heatmap:  (244, 324)\n",
      "matches:  (83, 4)\n",
      "pts:  (3, 397) , desc:  (256, 397)\n"
     ]
    },
    {
     "name": "stderr",
     "output_type": "stream",
     "text": [
      "557it [02:53,  2.73it/s]"
     ]
    },
    {
     "name": "stdout",
     "output_type": "stream",
     "text": [
      "heatmap:  (244, 324)\n",
      "heatmap:  (244, 324)\n",
      "matches:  (234, 4)\n",
      "pts:  (3, 464) , desc:  (256, 464)\n"
     ]
    },
    {
     "name": "stderr",
     "output_type": "stream",
     "text": [
      "559it [02:53,  2.79it/s]"
     ]
    },
    {
     "name": "stdout",
     "output_type": "stream",
     "text": [
      "heatmap:  (244, 324)\n",
      "heatmap:  (244, 324)\n",
      "matches:  (205, 4)\n",
      "pts:  (3, 443) , desc:  (256, 443)\n"
     ]
    },
    {
     "name": "stderr",
     "output_type": "stream",
     "text": [
      "560it [02:54,  2.78it/s]"
     ]
    },
    {
     "name": "stdout",
     "output_type": "stream",
     "text": [
      "heatmap:  (244, 324)\n",
      "heatmap:  (244, 324)\n",
      "matches:  (57, 4)\n",
      "pts:  (3, 354) , desc:  (256, 354)\n"
     ]
    },
    {
     "name": "stderr",
     "output_type": "stream",
     "text": [
      "561it [02:54,  2.89it/s]"
     ]
    },
    {
     "name": "stdout",
     "output_type": "stream",
     "text": [
      "heatmap:  (244, 324)\n",
      "heatmap:  (244, 324)\n",
      "matches:  (183, 4)\n",
      "pts:  (3, 385) , desc:  (256, 385)\n"
     ]
    },
    {
     "name": "stderr",
     "output_type": "stream",
     "text": [
      "562it [02:54,  2.85it/s]"
     ]
    },
    {
     "name": "stdout",
     "output_type": "stream",
     "text": [
      "heatmap:  (244, 324)\n",
      "heatmap:  (244, 324)\n",
      "matches:  (184, 4)\n",
      "pts:  (3, 373) , desc:  (256, 373)\n"
     ]
    },
    {
     "name": "stderr",
     "output_type": "stream",
     "text": [
      "563it [02:55,  3.00it/s]"
     ]
    },
    {
     "name": "stdout",
     "output_type": "stream",
     "text": [
      "heatmap:  (244, 324)\n",
      "heatmap:  (244, 324)\n",
      "matches:  (126, 4)\n",
      "pts:  (3, 374) , desc:  (256, 374)\n"
     ]
    },
    {
     "name": "stderr",
     "output_type": "stream",
     "text": [
      "564it [02:55,  3.13it/s]"
     ]
    },
    {
     "name": "stdout",
     "output_type": "stream",
     "text": [
      "heatmap:  (244, 324)\n",
      "heatmap:  (244, 324)\n",
      "matches:  (105, 4)\n",
      "pts:  (3, 372) , desc:  (256, 372)\n"
     ]
    },
    {
     "name": "stderr",
     "output_type": "stream",
     "text": [
      "565it [02:55,  3.33it/s]"
     ]
    },
    {
     "name": "stdout",
     "output_type": "stream",
     "text": [
      "heatmap:  (244, 324)\n",
      "heatmap:  (244, 324)\n",
      "matches:  (42, 4)\n",
      "pts:  (3, 319) , desc:  (256, 319)\n"
     ]
    },
    {
     "name": "stderr",
     "output_type": "stream",
     "text": [
      "566it [02:55,  3.40it/s]"
     ]
    },
    {
     "name": "stdout",
     "output_type": "stream",
     "text": [
      "heatmap:  (244, 324)\n",
      "heatmap:  (244, 324)\n",
      "matches:  (223, 4)\n",
      "pts:  (3, 314) , desc:  (256, 314)\n"
     ]
    },
    {
     "name": "stderr",
     "output_type": "stream",
     "text": [
      "567it [02:56,  3.48it/s]"
     ]
    },
    {
     "name": "stdout",
     "output_type": "stream",
     "text": [
      "heatmap:  (244, 324)\n",
      "heatmap:  (244, 324)\n",
      "matches:  (207, 4)\n",
      "pts:  (3, 325) , desc:  (256, 325)\n"
     ]
    },
    {
     "name": "stderr",
     "output_type": "stream",
     "text": [
      "568it [02:56,  3.53it/s]"
     ]
    },
    {
     "name": "stdout",
     "output_type": "stream",
     "text": [
      "heatmap:  (244, 324)\n",
      "heatmap:  (244, 324)\n",
      "matches:  (144, 4)\n",
      "pts:  (3, 335) , desc:  (256, 335)\n"
     ]
    },
    {
     "name": "stderr",
     "output_type": "stream",
     "text": [
      "569it [02:56,  3.53it/s]"
     ]
    },
    {
     "name": "stdout",
     "output_type": "stream",
     "text": [
      "heatmap:  (244, 324)\n",
      "heatmap:  (244, 324)\n",
      "matches:  (95, 4)\n",
      "pts:  (3, 335) , desc:  (256, 335)\n"
     ]
    },
    {
     "name": "stderr",
     "output_type": "stream",
     "text": [
      "570it [02:56,  3.60it/s]"
     ]
    },
    {
     "name": "stdout",
     "output_type": "stream",
     "text": [
      "heatmap:  (244, 324)\n",
      "heatmap:  (244, 324)\n",
      "matches:  (146, 4)\n",
      "pts:  (3, 320) , desc:  (256, 320)\n",
      "heatmap:  (244, 324)\n",
      "heatmap:  (244, 324)\n",
      "matches:  (392, 4)\n",
      "pts:  (3, 488) , desc:  (256, 488)\n"
     ]
    },
    {
     "name": "stderr",
     "output_type": "stream",
     "text": [
      "571it [02:57,  3.10it/s]"
     ]
    },
    {
     "name": "stdout",
     "output_type": "stream",
     "text": [
      "heatmap:  (244, 324)\n",
      "heatmap:  (244, 324)\n",
      "matches:  (299, 4)\n",
      "pts:  (3, 493) , desc:  (256, 493)\n"
     ]
    },
    {
     "name": "stderr",
     "output_type": "stream",
     "text": [
      "573it [02:58,  3.24it/s]"
     ]
    },
    {
     "name": "stdout",
     "output_type": "stream",
     "text": [
      "heatmap:  (244, 324)\n",
      "heatmap:  (244, 324)\n",
      "matches:  (97, 4)\n",
      "pts:  (3, 470) , desc:  (256, 470)\n"
     ]
    },
    {
     "name": "stderr",
     "output_type": "stream",
     "text": [
      "574it [02:58,  3.12it/s]"
     ]
    },
    {
     "name": "stdout",
     "output_type": "stream",
     "text": [
      "heatmap:  (244, 324)\n",
      "heatmap:  (244, 324)\n",
      "matches:  (68, 4)\n",
      "pts:  (3, 498) , desc:  (256, 498)\n"
     ]
    },
    {
     "name": "stderr",
     "output_type": "stream",
     "text": [
      "575it [02:58,  3.28it/s]"
     ]
    },
    {
     "name": "stdout",
     "output_type": "stream",
     "text": [
      "heatmap:  (244, 324)\n",
      "heatmap:  (244, 324)\n",
      "matches:  (47, 4)\n",
      "pts:  (3, 487) , desc:  (256, 487)\n"
     ]
    },
    {
     "name": "stderr",
     "output_type": "stream",
     "text": [
      "576it [02:58,  3.42it/s]"
     ]
    },
    {
     "name": "stdout",
     "output_type": "stream",
     "text": [
      "heatmap:  (244, 324)\n",
      "heatmap:  (244, 324)\n",
      "matches:  (94, 4)\n",
      "pts:  (3, 352) , desc:  (256, 352)\n"
     ]
    },
    {
     "name": "stderr",
     "output_type": "stream",
     "text": [
      "577it [02:59,  3.49it/s]"
     ]
    },
    {
     "name": "stdout",
     "output_type": "stream",
     "text": [
      "heatmap:  (244, 324)\n",
      "heatmap:  (244, 324)\n",
      "matches:  (177, 4)\n",
      "pts:  (3, 337) , desc:  (256, 337)\n"
     ]
    },
    {
     "name": "stderr",
     "output_type": "stream",
     "text": [
      "578it [02:59,  3.47it/s]"
     ]
    },
    {
     "name": "stdout",
     "output_type": "stream",
     "text": [
      "heatmap:  (244, 324)\n",
      "heatmap:  (244, 324)\n",
      "matches:  (211, 4)\n",
      "pts:  (3, 344) , desc:  (256, 344)\n"
     ]
    },
    {
     "name": "stderr",
     "output_type": "stream",
     "text": [
      "579it [02:59,  3.53it/s]"
     ]
    },
    {
     "name": "stdout",
     "output_type": "stream",
     "text": [
      "heatmap:  (244, 324)\n",
      "heatmap:  (244, 324)\n",
      "matches:  (282, 4)\n",
      "pts:  (3, 368) , desc:  (256, 368)\n"
     ]
    },
    {
     "name": "stderr",
     "output_type": "stream",
     "text": [
      "580it [03:00,  3.52it/s]"
     ]
    },
    {
     "name": "stdout",
     "output_type": "stream",
     "text": [
      "heatmap:  (244, 324)\n",
      "heatmap:  (244, 324)\n",
      "matches:  (77, 4)\n",
      "pts:  (3, 336) , desc:  (256, 336)\n"
     ]
    },
    {
     "name": "stderr",
     "output_type": "stream",
     "text": [
      "580it [03:05,  3.13it/s]"
     ]
    },
    {
     "name": "stdout",
     "output_type": "stream",
     "text": [
      "output pairs:  580\n"
     ]
    },
    {
     "name": "stderr",
     "output_type": "stream",
     "text": [
      "\n"
     ]
    }
   ],
   "source": [
    "from tqdm import tqdm\n",
    "\n",
    "\n",
    "###### check!!!\n",
    "count = 0\n",
    "for i, sample in tqdm(enumerate(test_loader)):\n",
    "    img_0, img_1 = sample[\"image\"], sample[\"warped_image\"]\n",
    "\n",
    "    # first image, no matches\n",
    "    # img = img_0\n",
    "    def get_pts_desc_from_agent(val_agent, img, device=\"cpu\"):\n",
    "        \"\"\"\n",
    "        pts: list [numpy (3, N)]\n",
    "        desc: list [numpy (256, N)]\n",
    "        \"\"\"\n",
    "        heatmap_batch = val_agent.run(\n",
    "            img.to(device)\n",
    "        )  # heatmap: numpy [batch, 1, H, W]\n",
    "        # heatmap to pts\n",
    "        pts = val_agent.heatmap_to_pts()\n",
    "        # print(\"pts: \", pts)\n",
    "        if subpixel:\n",
    "            pts = val_agent.soft_argmax_points(pts, patch_size=patch_size)\n",
    "        # heatmap, pts to desc\n",
    "        desc_sparse = val_agent.desc_to_sparseDesc()\n",
    "        # print(\"pts[0]: \", pts[0].shape, \", desc_sparse[0]: \", desc_sparse[0].shape)\n",
    "        # print(\"pts[0]: \", pts[0].shape)\n",
    "        outs = {\"pts\": pts[0], \"desc\": desc_sparse[0]}\n",
    "        return outs\n",
    "\n",
    "    def transpose_np_dict(outs):\n",
    "        for entry in list(outs):\n",
    "            outs[entry] = outs[entry].transpose()\n",
    "\n",
    "    outs = get_pts_desc_from_agent(val_agent, img_0, device=device)\n",
    "    pts, desc = outs[\"pts\"], outs[\"desc\"]  # pts: np [3, N]\n",
    "\n",
    "    if outputMatches == True:\n",
    "        tracker.update(pts, desc)\n",
    "\n",
    "    # save keypoints\n",
    "    pred = {\"image\": squeezeToNumpy(img_0)}\n",
    "    pred.update({\"prob\": pts.transpose(), \"desc\": desc.transpose()})\n",
    "\n",
    "    # second image, output matches\n",
    "    outs = get_pts_desc_from_agent(val_agent, img_1, device=device)\n",
    "    pts, desc = outs[\"pts\"], outs[\"desc\"]\n",
    "\n",
    "    if outputMatches == True:\n",
    "        tracker.update(pts, desc)\n",
    "\n",
    "    pred.update({\"warped_image\": squeezeToNumpy(img_1)})\n",
    "    # print(\"total points: \", pts.shape)\n",
    "    pred.update(\n",
    "        {\n",
    "            \"warped_prob\": pts.transpose(),\n",
    "            \"warped_desc\": desc.transpose(),\n",
    "            \"homography\": squeezeToNumpy(sample[\"homography\"]),\n",
    "        }\n",
    "    )\n",
    "\n",
    "    if outputMatches == True:\n",
    "        matches = tracker.get_matches()\n",
    "        print(\"matches: \", matches.transpose().shape)\n",
    "        pred.update({\"matches\": matches.transpose()})\n",
    "    print(\"pts: \", pts.shape, \", desc: \", desc.shape)\n",
    "\n",
    "    # clean last descriptor\n",
    "    tracker.clear_desc()\n",
    "\n",
    "    filename = str(count)\n",
    "    path = Path(save_output, \"{}.npz\".format(filename))\n",
    "    np.savez_compressed(path, **pred)\n",
    "    # print(\"save: \", path)\n",
    "    count += 1\n",
    "print(\"output pairs: \", count)"
   ],
   "metadata": {
    "collapsed": false
   }
  }
 ],
 "metadata": {
  "kernelspec": {
   "display_name": "Python 3",
   "language": "python",
   "name": "python3"
  },
  "language_info": {
   "codemirror_mode": {
    "name": "ipython",
    "version": 2
   },
   "file_extension": ".py",
   "mimetype": "text/x-python",
   "name": "python",
   "nbconvert_exporter": "python",
   "pygments_lexer": "ipython2",
   "version": "2.7.6"
  }
 },
 "nbformat": 4,
 "nbformat_minor": 0
}
